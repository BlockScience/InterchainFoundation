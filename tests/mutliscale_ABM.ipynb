{
 "cells": [
  {
   "cell_type": "code",
   "execution_count": 1,
   "metadata": {
    "scrolled": false
   },
   "outputs": [],
   "source": [
    "import sys\n",
    "sys.path.append('../')\n",
    "\n",
    "import matplotlib.pyplot as plt\n",
    "import run2\n"
   ]
  },
  {
   "cell_type": "code",
   "execution_count": 2,
   "metadata": {
    "scrolled": false
   },
   "outputs": [
    {
     "name": "stdout",
     "output_type": "stream",
     "text": [
      "\n",
      "\n",
      "                  ___________    ____\n",
      "  ________ __ ___/ / ____/   |  / __ \\\n",
      " / ___/ __` / __  / /   / /| | / / / /\n",
      "/ /__/ /_/ / /_/ / /___/ ___ |/ /_/ /\n",
      "\\___/\\__,_/\\__,_/\\____/_/  |_/_____/\n",
      "by cadCAD\n",
      "\n",
      "Execution Mode: multi_proc\n",
      "Configuration Count: 4\n",
      "Dimensions of the first simulation: (Timesteps, Params, Runs, Vars) = (1000, 7, 1, 3)\n",
      "Execution Method: parallelize_simulations\n",
      "Execution Mode: parallelized\n",
      "Total execution time: 2.11s\n",
      "<class 'pandas.core.frame.DataFrame'>\n",
      "[                                                                                       marketing_rate  \\\n",
      "0                                                   <function p_marketing_rate at 0x000001A1EA142510>   \n",
      "1  <bound method Identity.p_identity of <cadCAD.configuration.Identity object at 0x000001A1EA006748>>   \n",
      "\n",
      "                                                                                    p_marketing_shock  \\\n",
      "0                                                  <function p_marketing_shock at 0x000001A1EA142620>   \n",
      "1  <bound method Identity.p_identity of <cadCAD.configuration.Identity object at 0x000001A1EA006748>>   \n",
      "\n",
      "                                                                                           reputation  \\\n",
      "0  <bound method Identity.p_identity of <cadCAD.configuration.Identity object at 0x000001A1EA006748>>   \n",
      "1                                                       <function p_reputation at 0x000001A1EA142730>   \n",
      "\n",
      "                                                                                           experience  \\\n",
      "0  <bound method Identity.p_identity of <cadCAD.configuration.Identity object at 0x000001A1EA006748>>   \n",
      "1                                                       <function p_experience at 0x000001A1EA1427B8>   \n",
      "\n",
      "                                                                       signal  \\\n",
      "0                                   <function s_signal at 0x000001A1EA1426A8>   \n",
      "1  <function Identity.state_identity.<locals>.<lambda> at 0x000001A1EBE042F0>   \n",
      "\n",
      "                                                                         pool  \\\n",
      "0  <function Identity.state_identity.<locals>.<lambda> at 0x000001A1EBE2D6A8>   \n",
      "1                                     <function s_pool at 0x000001A1EA1428C8>   \n",
      "\n",
      "   m  \n",
      "0  1  \n",
      "1  2  ,                                                                                        marketing_rate  \\\n",
      "0                                                   <function p_marketing_rate at 0x000001A1EA142510>   \n",
      "1  <bound method Identity.p_identity of <cadCAD.configuration.Identity object at 0x000001A1EA006748>>   \n",
      "\n",
      "                                                                                    p_marketing_shock  \\\n",
      "0                                                  <function p_marketing_shock at 0x000001A1EA142620>   \n",
      "1  <bound method Identity.p_identity of <cadCAD.configuration.Identity object at 0x000001A1EA006748>>   \n",
      "\n",
      "                                                                                           reputation  \\\n",
      "0  <bound method Identity.p_identity of <cadCAD.configuration.Identity object at 0x000001A1EA006748>>   \n",
      "1                                                       <function p_reputation at 0x000001A1EA142730>   \n",
      "\n",
      "                                                                                           experience  \\\n",
      "0  <bound method Identity.p_identity of <cadCAD.configuration.Identity object at 0x000001A1EA006748>>   \n",
      "1                                                       <function p_experience at 0x000001A1EA1427B8>   \n",
      "\n",
      "                                                                       signal  \\\n",
      "0                                   <function s_signal at 0x000001A1EA1426A8>   \n",
      "1  <function Identity.state_identity.<locals>.<lambda> at 0x000001A1EBE2D730>   \n",
      "\n",
      "                                                                         pool  \\\n",
      "0  <function Identity.state_identity.<locals>.<lambda> at 0x000001A1EBE2D7B8>   \n",
      "1                                     <function s_pool at 0x000001A1EA1428C8>   \n",
      "\n",
      "   m  \n",
      "0  1  \n",
      "1  2  ,                                                                                        marketing_rate  \\\n",
      "0                                                   <function p_marketing_rate at 0x000001A1EA142510>   \n",
      "1  <bound method Identity.p_identity of <cadCAD.configuration.Identity object at 0x000001A1EA006748>>   \n",
      "\n",
      "                                                                                    p_marketing_shock  \\\n",
      "0                                                  <function p_marketing_shock at 0x000001A1EA142620>   \n",
      "1  <bound method Identity.p_identity of <cadCAD.configuration.Identity object at 0x000001A1EA006748>>   \n",
      "\n",
      "                                                                                           reputation  \\\n",
      "0  <bound method Identity.p_identity of <cadCAD.configuration.Identity object at 0x000001A1EA006748>>   \n",
      "1                                                       <function p_reputation at 0x000001A1EA142730>   \n",
      "\n",
      "                                                                                           experience  \\\n",
      "0  <bound method Identity.p_identity of <cadCAD.configuration.Identity object at 0x000001A1EA006748>>   \n",
      "1                                                       <function p_experience at 0x000001A1EA1427B8>   \n",
      "\n",
      "                                                                       signal  \\\n",
      "0                                   <function s_signal at 0x000001A1EA1426A8>   \n",
      "1  <function Identity.state_identity.<locals>.<lambda> at 0x000001A1EBE2D840>   \n",
      "\n",
      "                                                                         pool  \\\n",
      "0  <function Identity.state_identity.<locals>.<lambda> at 0x000001A1EBE2D8C8>   \n",
      "1                                     <function s_pool at 0x000001A1EA1428C8>   \n",
      "\n",
      "   m  \n",
      "0  1  \n",
      "1  2  ,                                                                                        marketing_rate  \\\n",
      "0                                                   <function p_marketing_rate at 0x000001A1EA142510>   \n",
      "1  <bound method Identity.p_identity of <cadCAD.configuration.Identity object at 0x000001A1EA006748>>   \n",
      "\n",
      "                                                                                    p_marketing_shock  \\\n",
      "0                                                  <function p_marketing_shock at 0x000001A1EA142620>   \n",
      "1  <bound method Identity.p_identity of <cadCAD.configuration.Identity object at 0x000001A1EA006748>>   \n",
      "\n",
      "                                                                                           reputation  \\\n",
      "0  <bound method Identity.p_identity of <cadCAD.configuration.Identity object at 0x000001A1EA006748>>   \n",
      "1                                                       <function p_reputation at 0x000001A1EA142730>   \n",
      "\n",
      "                                                                                           experience  \\\n",
      "0  <bound method Identity.p_identity of <cadCAD.configuration.Identity object at 0x000001A1EA006748>>   \n",
      "1                                                       <function p_experience at 0x000001A1EA1427B8>   \n",
      "\n",
      "                                                                       signal  \\\n",
      "0                                   <function s_signal at 0x000001A1EA1426A8>   \n",
      "1  <function Identity.state_identity.<locals>.<lambda> at 0x000001A1EBE2D950>   \n",
      "\n",
      "                                                                         pool  \\\n",
      "0  <function Identity.state_identity.<locals>.<lambda> at 0x000001A1EBE2D9D8>   \n",
      "1                                     <function s_pool at 0x000001A1EA1428C8>   \n",
      "\n",
      "   m  \n",
      "0  1  \n",
      "1  2  ]\n",
      "\n"
     ]
    }
   ],
   "source": [
    "exp = run2.run()"
   ]
  },
  {
   "cell_type": "code",
   "execution_count": 3,
   "metadata": {},
   "outputs": [
    {
     "data": {
      "text/html": [
       "<div>\n",
       "<style scoped>\n",
       "    .dataframe tbody tr th:only-of-type {\n",
       "        vertical-align: middle;\n",
       "    }\n",
       "\n",
       "    .dataframe tbody tr th {\n",
       "        vertical-align: top;\n",
       "    }\n",
       "\n",
       "    .dataframe thead th {\n",
       "        text-align: right;\n",
       "    }\n",
       "</style>\n",
       "<table border=\"1\" class=\"dataframe\">\n",
       "  <thead>\n",
       "    <tr style=\"text-align: right;\">\n",
       "      <th></th>\n",
       "      <th>index</th>\n",
       "      <th>timestamp</th>\n",
       "      <th>signal</th>\n",
       "      <th>pool</th>\n",
       "      <th>simulation</th>\n",
       "      <th>run</th>\n",
       "      <th>substep</th>\n",
       "      <th>timestep</th>\n",
       "    </tr>\n",
       "  </thead>\n",
       "  <tbody>\n",
       "    <tr>\n",
       "      <th>0</th>\n",
       "      <td>0</td>\n",
       "      <td>2020-01-01</td>\n",
       "      <td>0</td>\n",
       "      <td>&lt;class 'src.sim.model.utils.Adoption_Pool'&gt;: {'state': {'unaware': {'pool': 100000, 'reputation': None}, 'aware': {'pool': 0, 'reputation': 0}, 'adopted': {'pool': 0, 'reputation': 0}, 'loyal': {'pool': 0, 'reputation': 0}, 'churned': {'pool': 0, 'reputation': 0}}, 'threshold': 0.5}</td>\n",
       "      <td>0</td>\n",
       "      <td>1</td>\n",
       "      <td>0</td>\n",
       "      <td>0</td>\n",
       "    </tr>\n",
       "    <tr>\n",
       "      <th>1</th>\n",
       "      <td>1</td>\n",
       "      <td>2020-01-01</td>\n",
       "      <td>500</td>\n",
       "      <td>&lt;class 'src.sim.model.utils.Adoption_Pool'&gt;: {'state': {'unaware': {'pool': 100000, 'reputation': None}, 'aware': {'pool': 0, 'reputation': 0}, 'adopted': {'pool': 0, 'reputation': 0}, 'loyal': {'pool': 0, 'reputation': 0}, 'churned': {'pool': 0, 'reputation': 0}}, 'threshold': 0.5}</td>\n",
       "      <td>0</td>\n",
       "      <td>1</td>\n",
       "      <td>1</td>\n",
       "      <td>1</td>\n",
       "    </tr>\n",
       "    <tr>\n",
       "      <th>2</th>\n",
       "      <td>2</td>\n",
       "      <td>2020-01-01</td>\n",
       "      <td>500</td>\n",
       "      <td>&lt;class 'src.sim.model.utils.Adoption_Pool'&gt;: {'state': {'unaware': {'pool': 99100.0, 'reputation': 1.0089909182643795, 'drip': 0}, 'aware': {'pool': 900.0, 'reputation': 0.01, 'neg_drip': -0.0}, 'adopted': {'pool': 0.0, 'reputation': 0.0, 'neg_drip': 0}, 'loyal': {'pool': 0.0, 'reputation': 0, 'neg_drip': 0}, 'churned': {'pool': 0.0, 'reputation': 0.0, 'neg_drip': -0.0}}, 'threshold': 0.1}</td>\n",
       "      <td>0</td>\n",
       "      <td>1</td>\n",
       "      <td>2</td>\n",
       "      <td>1</td>\n",
       "    </tr>\n",
       "    <tr>\n",
       "      <th>3</th>\n",
       "      <td>3</td>\n",
       "      <td>2020-01-01</td>\n",
       "      <td>500</td>\n",
       "      <td>&lt;class 'src.sim.model.utils.Adoption_Pool'&gt;: {'state': {'unaware': {'pool': 99100.0, 'reputation': 1.0089909182643795, 'drip': 0}, 'aware': {'pool': 900.0, 'reputation': 0.01, 'neg_drip': -0.0}, 'adopted': {'pool': 0.0, 'reputation': 0.0, 'neg_drip': 0}, 'loyal': {'pool': 0.0, 'reputation': 0, 'neg_drip': 0}, 'churned': {'pool': 0.0, 'reputation': 0.0, 'neg_drip': -0.0}}, 'threshold': 0.1}</td>\n",
       "      <td>0</td>\n",
       "      <td>1</td>\n",
       "      <td>1</td>\n",
       "      <td>2</td>\n",
       "    </tr>\n",
       "    <tr>\n",
       "      <th>4</th>\n",
       "      <td>4</td>\n",
       "      <td>2020-01-01</td>\n",
       "      <td>500</td>\n",
       "      <td>&lt;class 'src.sim.model.utils.Adoption_Pool'&gt;: {'state': {'unaware': {'pool': 98158.32824688208, 'reputation': 2.02807123405062, 'drip': 0}, 'aware': {'pool': 1841.6717531179208, 'reputation': 0.015159107453722467, 'neg_drip': 0.81}, 'adopted': {'pool': 0.0, 'reputation': 0.0, 'neg_drip': 0}, 'loyal': {'pool': 0.0, 'reputation': 0, 'neg_drip': 0}, 'churned': {'pool': 0.0, 'reputation': 0.0, 'neg_drip': -0.0}}, 'threshold': 0.1}</td>\n",
       "      <td>0</td>\n",
       "      <td>1</td>\n",
       "      <td>2</td>\n",
       "      <td>2</td>\n",
       "    </tr>\n",
       "  </tbody>\n",
       "</table>\n",
       "</div>"
      ],
      "text/plain": [
       "   index  timestamp  signal  \\\n",
       "0      0 2020-01-01       0   \n",
       "1      1 2020-01-01     500   \n",
       "2      2 2020-01-01     500   \n",
       "3      3 2020-01-01     500   \n",
       "4      4 2020-01-01     500   \n",
       "\n",
       "                                                                                                                                                                                                                                                                                                                                                                                                                                            pool  \\\n",
       "0                                                                                                                                                    <class 'src.sim.model.utils.Adoption_Pool'>: {'state': {'unaware': {'pool': 100000, 'reputation': None}, 'aware': {'pool': 0, 'reputation': 0}, 'adopted': {'pool': 0, 'reputation': 0}, 'loyal': {'pool': 0, 'reputation': 0}, 'churned': {'pool': 0, 'reputation': 0}}, 'threshold': 0.5}   \n",
       "1                                                                                                                                                    <class 'src.sim.model.utils.Adoption_Pool'>: {'state': {'unaware': {'pool': 100000, 'reputation': None}, 'aware': {'pool': 0, 'reputation': 0}, 'adopted': {'pool': 0, 'reputation': 0}, 'loyal': {'pool': 0, 'reputation': 0}, 'churned': {'pool': 0, 'reputation': 0}}, 'threshold': 0.5}   \n",
       "2                                       <class 'src.sim.model.utils.Adoption_Pool'>: {'state': {'unaware': {'pool': 99100.0, 'reputation': 1.0089909182643795, 'drip': 0}, 'aware': {'pool': 900.0, 'reputation': 0.01, 'neg_drip': -0.0}, 'adopted': {'pool': 0.0, 'reputation': 0.0, 'neg_drip': 0}, 'loyal': {'pool': 0.0, 'reputation': 0, 'neg_drip': 0}, 'churned': {'pool': 0.0, 'reputation': 0.0, 'neg_drip': -0.0}}, 'threshold': 0.1}   \n",
       "3                                       <class 'src.sim.model.utils.Adoption_Pool'>: {'state': {'unaware': {'pool': 99100.0, 'reputation': 1.0089909182643795, 'drip': 0}, 'aware': {'pool': 900.0, 'reputation': 0.01, 'neg_drip': -0.0}, 'adopted': {'pool': 0.0, 'reputation': 0.0, 'neg_drip': 0}, 'loyal': {'pool': 0.0, 'reputation': 0, 'neg_drip': 0}, 'churned': {'pool': 0.0, 'reputation': 0.0, 'neg_drip': -0.0}}, 'threshold': 0.1}   \n",
       "4  <class 'src.sim.model.utils.Adoption_Pool'>: {'state': {'unaware': {'pool': 98158.32824688208, 'reputation': 2.02807123405062, 'drip': 0}, 'aware': {'pool': 1841.6717531179208, 'reputation': 0.015159107453722467, 'neg_drip': 0.81}, 'adopted': {'pool': 0.0, 'reputation': 0.0, 'neg_drip': 0}, 'loyal': {'pool': 0.0, 'reputation': 0, 'neg_drip': 0}, 'churned': {'pool': 0.0, 'reputation': 0.0, 'neg_drip': -0.0}}, 'threshold': 0.1}   \n",
       "\n",
       "   simulation  run  substep  timestep  \n",
       "0           0    1        0         0  \n",
       "1           0    1        1         1  \n",
       "2           0    1        2         1  \n",
       "3           0    1        1         2  \n",
       "4           0    1        2         2  "
      ]
     },
     "execution_count": 3,
     "metadata": {},
     "output_type": "execute_result"
    }
   ],
   "source": [
    "exp.head()"
   ]
  },
  {
   "cell_type": "code",
   "execution_count": 4,
   "metadata": {},
   "outputs": [
    {
     "data": {
      "text/html": [
       "<div>\n",
       "<style scoped>\n",
       "    .dataframe tbody tr th:only-of-type {\n",
       "        vertical-align: middle;\n",
       "    }\n",
       "\n",
       "    .dataframe tbody tr th {\n",
       "        vertical-align: top;\n",
       "    }\n",
       "\n",
       "    .dataframe thead th {\n",
       "        text-align: right;\n",
       "    }\n",
       "</style>\n",
       "<table border=\"1\" class=\"dataframe\">\n",
       "  <thead>\n",
       "    <tr style=\"text-align: right;\">\n",
       "      <th></th>\n",
       "      <th>index</th>\n",
       "      <th>timestamp</th>\n",
       "      <th>signal</th>\n",
       "      <th>pool</th>\n",
       "      <th>simulation</th>\n",
       "      <th>run</th>\n",
       "      <th>substep</th>\n",
       "      <th>timestep</th>\n",
       "    </tr>\n",
       "  </thead>\n",
       "  <tbody>\n",
       "    <tr>\n",
       "      <th>7999</th>\n",
       "      <td>7999</td>\n",
       "      <td>2020-01-01</td>\n",
       "      <td>500</td>\n",
       "      <td>&lt;class 'src.sim.model.utils.Adoption_Pool'&gt;: {'state': {'unaware': {'pool': 4.644386578855553, 'reputation': 2054319.0805727735, 'drip': 0}, 'aware': {'pool': 91.75365542761358, 'reputation': 9343.102482312266, 'neg_drip': 5.5465325903151825, 'drip': 0}, 'adopted': {'pool': 6321.873656344102, 'reputation': 7.704058077467613, 'neg_drip': 0, 'drip': 0}, 'loyal': {'pool': 4556.218123429476, 'reputation': 0.044968190288030827, 'neg_drip': 0}, 'churned': {'pool': 89025.51017821995, 'reputation': -8.572421427650248, 'neg_drip': 8453.307238979878}}, 'threshold': 1}</td>\n",
       "      <td>1</td>\n",
       "      <td>2</td>\n",
       "      <td>2</td>\n",
       "      <td>998</td>\n",
       "    </tr>\n",
       "    <tr>\n",
       "      <th>8000</th>\n",
       "      <td>8000</td>\n",
       "      <td>2020-01-01</td>\n",
       "      <td>1734</td>\n",
       "      <td>&lt;class 'src.sim.model.utils.Adoption_Pool'&gt;: {'state': {'unaware': {'pool': 4.644386578855553, 'reputation': 2054319.0805727735, 'drip': 0}, 'aware': {'pool': 91.75365542761358, 'reputation': 9343.102482312266, 'neg_drip': 5.5465325903151825, 'drip': 0}, 'adopted': {'pool': 6321.873656344102, 'reputation': 7.704058077467613, 'neg_drip': 0, 'drip': 0}, 'loyal': {'pool': 4556.218123429476, 'reputation': 0.044968190288030827, 'neg_drip': 0}, 'churned': {'pool': 89025.51017821995, 'reputation': -8.572421427650248, 'neg_drip': 8453.307238979878}}, 'threshold': 1}</td>\n",
       "      <td>1</td>\n",
       "      <td>2</td>\n",
       "      <td>1</td>\n",
       "      <td>999</td>\n",
       "    </tr>\n",
       "    <tr>\n",
       "      <th>8001</th>\n",
       "      <td>8001</td>\n",
       "      <td>2020-01-01</td>\n",
       "      <td>1734</td>\n",
       "      <td>&lt;class 'src.sim.model.utils.Adoption_Pool'&gt;: {'state': {'unaware': {'pool': 4.5979427356748985, 'reputation': 2074863.2712774912, 'drip': 0}, 'aware': {'pool': 90.88266092121573, 'reputation': 9442.198688885383, 'neg_drip': 5.5465325903151825, 'drip': 0}, 'adopted': {'pool': 6311.291591357707, 'reputation': 7.783102932488861, 'neg_drip': 0, 'drip': 0}, 'loyal': {'pool': 4567.717626765449, 'reputation': 0.04535230479794032, 'neg_drip': 0}, 'churned': {'pool': 89025.51017821995, 'reputation': -8.650256992205616, 'neg_drip': 8521.89701237488}}, 'threshold': 1}</td>\n",
       "      <td>1</td>\n",
       "      <td>2</td>\n",
       "      <td>2</td>\n",
       "      <td>999</td>\n",
       "    </tr>\n",
       "    <tr>\n",
       "      <th>8002</th>\n",
       "      <td>8002</td>\n",
       "      <td>2020-01-01</td>\n",
       "      <td>500</td>\n",
       "      <td>&lt;class 'src.sim.model.utils.Adoption_Pool'&gt;: {'state': {'unaware': {'pool': 4.5979427356748985, 'reputation': 2074863.2712774912, 'drip': 0}, 'aware': {'pool': 90.88266092121573, 'reputation': 9442.198688885383, 'neg_drip': 5.5465325903151825, 'drip': 0}, 'adopted': {'pool': 6311.291591357707, 'reputation': 7.783102932488861, 'neg_drip': 0, 'drip': 0}, 'loyal': {'pool': 4567.717626765449, 'reputation': 0.04535230479794032, 'neg_drip': 0}, 'churned': {'pool': 89025.51017821995, 'reputation': -8.650256992205616, 'neg_drip': 8521.89701237488}}, 'threshold': 1}</td>\n",
       "      <td>1</td>\n",
       "      <td>2</td>\n",
       "      <td>1</td>\n",
       "      <td>1000</td>\n",
       "    </tr>\n",
       "    <tr>\n",
       "      <th>8003</th>\n",
       "      <td>8003</td>\n",
       "      <td>2020-01-01</td>\n",
       "      <td>500</td>\n",
       "      <td>&lt;class 'src.sim.model.utils.Adoption_Pool'&gt;: {'state': {'unaware': {'pool': 4.551963330478359, 'reputation': 2095612.9038892563, 'drip': 0}, 'aware': {'pool': 90.01990996878718, 'reputation': 9542.336759286367, 'neg_drip': 5.5465325903151825, 'drip': 0}, 'adopted': {'pool': 6300.801982702477, 'reputation': 7.862968542900826, 'neg_drip': 0, 'drip': 0}, 'loyal': {'pool': 4579.115965778304, 'reputation': 0.04574024147590787, 'neg_drip': 0}, 'churned': {'pool': 89025.51017821995, 'reputation': -8.728891251658771, 'neg_drip': 8591.190520820393}}, 'threshold': 1}</td>\n",
       "      <td>1</td>\n",
       "      <td>2</td>\n",
       "      <td>2</td>\n",
       "      <td>1000</td>\n",
       "    </tr>\n",
       "  </tbody>\n",
       "</table>\n",
       "</div>"
      ],
      "text/plain": [
       "      index  timestamp  signal  \\\n",
       "7999   7999 2020-01-01     500   \n",
       "8000   8000 2020-01-01    1734   \n",
       "8001   8001 2020-01-01    1734   \n",
       "8002   8002 2020-01-01     500   \n",
       "8003   8003 2020-01-01     500   \n",
       "\n",
       "                                                                                                                                                                                                                                                                                                                                                                                                                                                                                                                                                                                      pool  \\\n",
       "7999  <class 'src.sim.model.utils.Adoption_Pool'>: {'state': {'unaware': {'pool': 4.644386578855553, 'reputation': 2054319.0805727735, 'drip': 0}, 'aware': {'pool': 91.75365542761358, 'reputation': 9343.102482312266, 'neg_drip': 5.5465325903151825, 'drip': 0}, 'adopted': {'pool': 6321.873656344102, 'reputation': 7.704058077467613, 'neg_drip': 0, 'drip': 0}, 'loyal': {'pool': 4556.218123429476, 'reputation': 0.044968190288030827, 'neg_drip': 0}, 'churned': {'pool': 89025.51017821995, 'reputation': -8.572421427650248, 'neg_drip': 8453.307238979878}}, 'threshold': 1}   \n",
       "8000  <class 'src.sim.model.utils.Adoption_Pool'>: {'state': {'unaware': {'pool': 4.644386578855553, 'reputation': 2054319.0805727735, 'drip': 0}, 'aware': {'pool': 91.75365542761358, 'reputation': 9343.102482312266, 'neg_drip': 5.5465325903151825, 'drip': 0}, 'adopted': {'pool': 6321.873656344102, 'reputation': 7.704058077467613, 'neg_drip': 0, 'drip': 0}, 'loyal': {'pool': 4556.218123429476, 'reputation': 0.044968190288030827, 'neg_drip': 0}, 'churned': {'pool': 89025.51017821995, 'reputation': -8.572421427650248, 'neg_drip': 8453.307238979878}}, 'threshold': 1}   \n",
       "8001   <class 'src.sim.model.utils.Adoption_Pool'>: {'state': {'unaware': {'pool': 4.5979427356748985, 'reputation': 2074863.2712774912, 'drip': 0}, 'aware': {'pool': 90.88266092121573, 'reputation': 9442.198688885383, 'neg_drip': 5.5465325903151825, 'drip': 0}, 'adopted': {'pool': 6311.291591357707, 'reputation': 7.783102932488861, 'neg_drip': 0, 'drip': 0}, 'loyal': {'pool': 4567.717626765449, 'reputation': 0.04535230479794032, 'neg_drip': 0}, 'churned': {'pool': 89025.51017821995, 'reputation': -8.650256992205616, 'neg_drip': 8521.89701237488}}, 'threshold': 1}   \n",
       "8002   <class 'src.sim.model.utils.Adoption_Pool'>: {'state': {'unaware': {'pool': 4.5979427356748985, 'reputation': 2074863.2712774912, 'drip': 0}, 'aware': {'pool': 90.88266092121573, 'reputation': 9442.198688885383, 'neg_drip': 5.5465325903151825, 'drip': 0}, 'adopted': {'pool': 6311.291591357707, 'reputation': 7.783102932488861, 'neg_drip': 0, 'drip': 0}, 'loyal': {'pool': 4567.717626765449, 'reputation': 0.04535230479794032, 'neg_drip': 0}, 'churned': {'pool': 89025.51017821995, 'reputation': -8.650256992205616, 'neg_drip': 8521.89701237488}}, 'threshold': 1}   \n",
       "8003   <class 'src.sim.model.utils.Adoption_Pool'>: {'state': {'unaware': {'pool': 4.551963330478359, 'reputation': 2095612.9038892563, 'drip': 0}, 'aware': {'pool': 90.01990996878718, 'reputation': 9542.336759286367, 'neg_drip': 5.5465325903151825, 'drip': 0}, 'adopted': {'pool': 6300.801982702477, 'reputation': 7.862968542900826, 'neg_drip': 0, 'drip': 0}, 'loyal': {'pool': 4579.115965778304, 'reputation': 0.04574024147590787, 'neg_drip': 0}, 'churned': {'pool': 89025.51017821995, 'reputation': -8.728891251658771, 'neg_drip': 8591.190520820393}}, 'threshold': 1}   \n",
       "\n",
       "      simulation  run  substep  timestep  \n",
       "7999           1    2        2       998  \n",
       "8000           1    2        1       999  \n",
       "8001           1    2        2       999  \n",
       "8002           1    2        1      1000  \n",
       "8003           1    2        2      1000  "
      ]
     },
     "execution_count": 4,
     "metadata": {},
     "output_type": "execute_result"
    }
   ],
   "source": [
    "exp.tail()"
   ]
  },
  {
   "cell_type": "code",
   "execution_count": 5,
   "metadata": {},
   "outputs": [],
   "source": [
    "import pandas as pd"
   ]
  },
  {
   "cell_type": "code",
   "execution_count": 6,
   "metadata": {},
   "outputs": [],
   "source": [
    "agents_df = pd.DataFrame({'agent_attestations_1': 0,\n",
    "                          'agent_attestations_0': 0,\n",
    "                          'agent_reserve': 0,\n",
    "                          'agent_supply': 0,\n",
    "                          'agent_supply_1': 0,\n",
    "                          'agent_supply_0': 0,\n",
    "                          'agent_supply_free': 0}, index=[0])"
   ]
  },
  {
   "cell_type": "code",
   "execution_count": 7,
   "metadata": {},
   "outputs": [],
   "source": [
    "chosen_agent = agents_df.sample(n=1)"
   ]
  },
  {
   "cell_type": "code",
   "execution_count": 8,
   "metadata": {},
   "outputs": [
    {
     "data": {
      "text/html": [
       "<div>\n",
       "<style scoped>\n",
       "    .dataframe tbody tr th:only-of-type {\n",
       "        vertical-align: middle;\n",
       "    }\n",
       "\n",
       "    .dataframe tbody tr th {\n",
       "        vertical-align: top;\n",
       "    }\n",
       "\n",
       "    .dataframe thead th {\n",
       "        text-align: right;\n",
       "    }\n",
       "</style>\n",
       "<table border=\"1\" class=\"dataframe\">\n",
       "  <thead>\n",
       "    <tr style=\"text-align: right;\">\n",
       "      <th></th>\n",
       "      <th>agent_attestations_1</th>\n",
       "      <th>agent_attestations_0</th>\n",
       "      <th>agent_reserve</th>\n",
       "      <th>agent_supply</th>\n",
       "      <th>agent_supply_1</th>\n",
       "      <th>agent_supply_0</th>\n",
       "      <th>agent_supply_free</th>\n",
       "    </tr>\n",
       "  </thead>\n",
       "  <tbody>\n",
       "    <tr>\n",
       "      <th>0</th>\n",
       "      <td>0</td>\n",
       "      <td>0</td>\n",
       "      <td>0</td>\n",
       "      <td>0</td>\n",
       "      <td>0</td>\n",
       "      <td>0</td>\n",
       "      <td>0</td>\n",
       "    </tr>\n",
       "  </tbody>\n",
       "</table>\n",
       "</div>"
      ],
      "text/plain": [
       "   agent_attestations_1  agent_attestations_0  agent_reserve  agent_supply  \\\n",
       "0                     0                     0              0             0   \n",
       "\n",
       "   agent_supply_1  agent_supply_0  agent_supply_free  \n",
       "0               0               0                  0  "
      ]
     },
     "execution_count": 8,
     "metadata": {},
     "output_type": "execute_result"
    }
   ],
   "source": [
    "chosen_agent"
   ]
  },
  {
   "cell_type": "code",
   "execution_count": 9,
   "metadata": {},
   "outputs": [],
   "source": [
    "# chosen_agent = prev_state['chosen_agent']\n",
    "# agents_df = prev_state['agents']\n",
    "agents_as_array = agents_df.to_numpy()\n",
    "\n",
    "chosen_agent_idx = chosen_agent.index\n",
    "chosen_agent_as_array = chosen_agent.to_numpy()\n",
    "\n",
    "agents_as_array[chosen_agent_idx] = chosen_agent_as_array\n",
    "agents_df = pd.DataFrame(columns=['agent_attestations_1',\n",
    "                          'agent_attestations_0',\n",
    "                          'agent_reserve',\n",
    "                          'agent_supply',\n",
    "                          'agent_supply_1',\n",
    "                          'agent_supply_0',\n",
    "                          'agent_supply_free'],data=agents_as_array)"
   ]
  },
  {
   "cell_type": "code",
   "execution_count": 10,
   "metadata": {},
   "outputs": [
    {
     "data": {
      "text/html": [
       "<div>\n",
       "<style scoped>\n",
       "    .dataframe tbody tr th:only-of-type {\n",
       "        vertical-align: middle;\n",
       "    }\n",
       "\n",
       "    .dataframe tbody tr th {\n",
       "        vertical-align: top;\n",
       "    }\n",
       "\n",
       "    .dataframe thead th {\n",
       "        text-align: right;\n",
       "    }\n",
       "</style>\n",
       "<table border=\"1\" class=\"dataframe\">\n",
       "  <thead>\n",
       "    <tr style=\"text-align: right;\">\n",
       "      <th></th>\n",
       "      <th>agent_attestations_1</th>\n",
       "      <th>agent_attestations_0</th>\n",
       "      <th>agent_reserve</th>\n",
       "      <th>agent_supply</th>\n",
       "      <th>agent_supply_1</th>\n",
       "      <th>agent_supply_0</th>\n",
       "      <th>agent_supply_free</th>\n",
       "    </tr>\n",
       "  </thead>\n",
       "  <tbody>\n",
       "    <tr>\n",
       "      <th>0</th>\n",
       "      <td>0</td>\n",
       "      <td>0</td>\n",
       "      <td>0</td>\n",
       "      <td>0</td>\n",
       "      <td>0</td>\n",
       "      <td>0</td>\n",
       "      <td>0</td>\n",
       "    </tr>\n",
       "  </tbody>\n",
       "</table>\n",
       "</div>"
      ],
      "text/plain": [
       "   agent_attestations_1  agent_attestations_0  agent_reserve  agent_supply  \\\n",
       "0                     0                     0              0             0   \n",
       "\n",
       "   agent_supply_1  agent_supply_0  agent_supply_free  \n",
       "0               0               0                  0  "
      ]
     },
     "execution_count": 10,
     "metadata": {},
     "output_type": "execute_result"
    }
   ],
   "source": [
    "agents_df"
   ]
  },
  {
   "cell_type": "code",
   "execution_count": 11,
   "metadata": {},
   "outputs": [
    {
     "data": {
      "text/plain": [
       "Int64Index([0], dtype='int64')"
      ]
     },
     "execution_count": 11,
     "metadata": {},
     "output_type": "execute_result"
    }
   ],
   "source": [
    "chosen_agent_idx\n"
   ]
  },
  {
   "cell_type": "code",
   "execution_count": 12,
   "metadata": {},
   "outputs": [
    {
     "data": {
      "text/plain": [
       "array([[0, 0, 0, 0, 0, 0, 0]], dtype=int64)"
      ]
     },
     "execution_count": 12,
     "metadata": {},
     "output_type": "execute_result"
    }
   ],
   "source": [
    "chosen_agent_as_array"
   ]
  },
  {
   "cell_type": "code",
   "execution_count": 13,
   "metadata": {},
   "outputs": [
    {
     "data": {
      "text/plain": [
       "array([[0, 0, 0, 0, 0, 0, 0]], dtype=int64)"
      ]
     },
     "execution_count": 13,
     "metadata": {},
     "output_type": "execute_result"
    }
   ],
   "source": [
    "agents_as_array"
   ]
  },
  {
   "cell_type": "code",
   "execution_count": 14,
   "metadata": {},
   "outputs": [],
   "source": [
    "frames = {}\n",
    "\n",
    "groups = ['123', '456']\n",
    "for grp in groups:\n",
    "    #do some calcs to get a dataframe called 'df'\n",
    "    frames[grp] = chosen_agent"
   ]
  },
  {
   "cell_type": "code",
   "execution_count": 15,
   "metadata": {},
   "outputs": [
    {
     "data": {
      "text/plain": [
       "{'123':    agent_attestations_1  agent_attestations_0  agent_reserve  agent_supply  \\\n",
       " 0                     0                     0              0             0   \n",
       " \n",
       "    agent_supply_1  agent_supply_0  agent_supply_free  \n",
       " 0               0               0                  0  ,\n",
       " '456':    agent_attestations_1  agent_attestations_0  agent_reserve  agent_supply  \\\n",
       " 0                     0                     0              0             0   \n",
       " \n",
       "    agent_supply_1  agent_supply_0  agent_supply_free  \n",
       " 0               0               0                  0  }"
      ]
     },
     "execution_count": 15,
     "metadata": {},
     "output_type": "execute_result"
    }
   ],
   "source": [
    "frames"
   ]
  },
  {
   "cell_type": "code",
   "execution_count": 16,
   "metadata": {},
   "outputs": [
    {
     "data": {
      "text/html": [
       "<div>\n",
       "<style scoped>\n",
       "    .dataframe tbody tr th:only-of-type {\n",
       "        vertical-align: middle;\n",
       "    }\n",
       "\n",
       "    .dataframe tbody tr th {\n",
       "        vertical-align: top;\n",
       "    }\n",
       "\n",
       "    .dataframe thead th {\n",
       "        text-align: right;\n",
       "    }\n",
       "</style>\n",
       "<table border=\"1\" class=\"dataframe\">\n",
       "  <thead>\n",
       "    <tr style=\"text-align: right;\">\n",
       "      <th></th>\n",
       "      <th>agent_attestations_1</th>\n",
       "      <th>agent_attestations_0</th>\n",
       "      <th>agent_reserve</th>\n",
       "      <th>agent_supply</th>\n",
       "      <th>agent_supply_1</th>\n",
       "      <th>agent_supply_0</th>\n",
       "      <th>agent_supply_free</th>\n",
       "    </tr>\n",
       "  </thead>\n",
       "  <tbody>\n",
       "    <tr>\n",
       "      <th>0</th>\n",
       "      <td>0</td>\n",
       "      <td>0</td>\n",
       "      <td>0</td>\n",
       "      <td>0</td>\n",
       "      <td>0</td>\n",
       "      <td>0</td>\n",
       "      <td>0</td>\n",
       "    </tr>\n",
       "  </tbody>\n",
       "</table>\n",
       "</div>"
      ],
      "text/plain": [
       "   agent_attestations_1  agent_attestations_0  agent_reserve  agent_supply  \\\n",
       "0                     0                     0              0             0   \n",
       "\n",
       "   agent_supply_1  agent_supply_0  agent_supply_free  \n",
       "0               0               0                  0  "
      ]
     },
     "execution_count": 16,
     "metadata": {},
     "output_type": "execute_result"
    }
   ],
   "source": [
    "frames['123']"
   ]
  },
  {
   "cell_type": "code",
   "execution_count": 17,
   "metadata": {},
   "outputs": [
    {
     "data": {
      "text/plain": [
       "0"
      ]
     },
     "execution_count": 17,
     "metadata": {},
     "output_type": "execute_result"
    }
   ],
   "source": [
    "chosen_agent['agent_reserve'][0]"
   ]
  },
  {
   "cell_type": "code",
   "execution_count": 18,
   "metadata": {},
   "outputs": [
    {
     "ename": "AttributeError",
     "evalue": "'DataFrame' object has no attribute 'private_alpha'",
     "output_type": "error",
     "traceback": [
      "\u001b[1;31m---------------------------------------------------------------------------\u001b[0m",
      "\u001b[1;31mAttributeError\u001b[0m                            Traceback (most recent call last)",
      "\u001b[1;32m<ipython-input-18-ec4f6f1987e6>\u001b[0m in \u001b[0;36m<module>\u001b[1;34m\u001b[0m\n\u001b[1;32m----> 1\u001b[1;33m \u001b[0mplt\u001b[0m\u001b[1;33m.\u001b[0m\u001b[0mplot\u001b[0m\u001b[1;33m(\u001b[0m\u001b[0mexp\u001b[0m\u001b[1;33m.\u001b[0m\u001b[0mprivate_alpha\u001b[0m\u001b[1;33m)\u001b[0m\u001b[1;33m\u001b[0m\u001b[0m\n\u001b[0m",
      "\u001b[1;32m~\\AppData\\Local\\Continuum\\anaconda3\\lib\\site-packages\\pandas\\core\\generic.py\u001b[0m in \u001b[0;36m__getattr__\u001b[1;34m(self, name)\u001b[0m\n\u001b[0;32m   5272\u001b[0m             \u001b[1;32mif\u001b[0m \u001b[0mself\u001b[0m\u001b[1;33m.\u001b[0m\u001b[0m_info_axis\u001b[0m\u001b[1;33m.\u001b[0m\u001b[0m_can_hold_identifiers_and_holds_name\u001b[0m\u001b[1;33m(\u001b[0m\u001b[0mname\u001b[0m\u001b[1;33m)\u001b[0m\u001b[1;33m:\u001b[0m\u001b[1;33m\u001b[0m\u001b[0m\n\u001b[0;32m   5273\u001b[0m                 \u001b[1;32mreturn\u001b[0m \u001b[0mself\u001b[0m\u001b[1;33m[\u001b[0m\u001b[0mname\u001b[0m\u001b[1;33m]\u001b[0m\u001b[1;33m\u001b[0m\u001b[0m\n\u001b[1;32m-> 5274\u001b[1;33m             \u001b[1;32mreturn\u001b[0m \u001b[0mobject\u001b[0m\u001b[1;33m.\u001b[0m\u001b[0m__getattribute__\u001b[0m\u001b[1;33m(\u001b[0m\u001b[0mself\u001b[0m\u001b[1;33m,\u001b[0m \u001b[0mname\u001b[0m\u001b[1;33m)\u001b[0m\u001b[1;33m\u001b[0m\u001b[0m\n\u001b[0m\u001b[0;32m   5275\u001b[0m \u001b[1;33m\u001b[0m\u001b[0m\n\u001b[0;32m   5276\u001b[0m     \u001b[1;32mdef\u001b[0m \u001b[0m__setattr__\u001b[0m\u001b[1;33m(\u001b[0m\u001b[0mself\u001b[0m\u001b[1;33m,\u001b[0m \u001b[0mname\u001b[0m\u001b[1;33m:\u001b[0m \u001b[0mstr\u001b[0m\u001b[1;33m,\u001b[0m \u001b[0mvalue\u001b[0m\u001b[1;33m)\u001b[0m \u001b[1;33m->\u001b[0m \u001b[1;32mNone\u001b[0m\u001b[1;33m:\u001b[0m\u001b[1;33m\u001b[0m\u001b[0m\n",
      "\u001b[1;31mAttributeError\u001b[0m: 'DataFrame' object has no attribute 'private_alpha'"
     ]
    }
   ],
   "source": [
    "plt.plot(exp.private_alpha)"
   ]
  },
  {
   "cell_type": "code",
   "execution_count": null,
   "metadata": {},
   "outputs": [],
   "source": [
    "plt.plot(exp.alpha)"
   ]
  },
  {
   "cell_type": "code",
   "execution_count": null,
   "metadata": {},
   "outputs": [],
   "source": [
    "plt.plot(exp.private_price)"
   ]
  },
  {
   "cell_type": "code",
   "execution_count": null,
   "metadata": {},
   "outputs": [],
   "source": [
    "plt.plot(exp.price)"
   ]
  },
  {
   "cell_type": "code",
   "execution_count": null,
   "metadata": {},
   "outputs": [],
   "source": [
    "plt.plot(exp.spot_price)"
   ]
  },
  {
   "cell_type": "code",
   "execution_count": null,
   "metadata": {},
   "outputs": [],
   "source": [
    "plt.plot(exp.reserve)"
   ]
  },
  {
   "cell_type": "code",
   "execution_count": null,
   "metadata": {},
   "outputs": [],
   "source": [
    "plt.plot(exp.supply)"
   ]
  },
  {
   "cell_type": "code",
   "execution_count": null,
   "metadata": {},
   "outputs": [],
   "source": [
    "plt.plot(exp.private_alpha)"
   ]
  },
  {
   "cell_type": "code",
   "execution_count": null,
   "metadata": {},
   "outputs": [],
   "source": [
    "plt.plot(exp.private_price)"
   ]
  },
  {
   "cell_type": "code",
   "execution_count": null,
   "metadata": {},
   "outputs": [],
   "source": [
    "print(exp.agents)"
   ]
  },
  {
   "cell_type": "code",
   "execution_count": null,
   "metadata": {},
   "outputs": [],
   "source": []
  }
 ],
 "metadata": {
  "kernelspec": {
   "display_name": "Python 3",
   "language": "python",
   "name": "python3"
  },
  "language_info": {
   "codemirror_mode": {
    "name": "ipython",
    "version": 3
   },
   "file_extension": ".py",
   "mimetype": "text/x-python",
   "name": "python",
   "nbconvert_exporter": "python",
   "pygments_lexer": "ipython3",
   "version": "3.6.5"
  }
 },
 "nbformat": 4,
 "nbformat_minor": 4
}
