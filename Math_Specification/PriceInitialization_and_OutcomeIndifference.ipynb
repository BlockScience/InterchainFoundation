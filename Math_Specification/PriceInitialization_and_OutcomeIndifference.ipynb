{
 "cells": [
  {
   "cell_type": "markdown",
   "metadata": {},
   "source": [
    "### Lemma 1: Initialization Price $P_i$ is equal to state variable Price $P_0$ at $t=0$ \n",
    "Let M refer to the total amount of money raised by the bond during the Initialization Phase. This money is divided such that a portion of the funds F is used to directly fund the project, and the remaining amount R is injected into the bonding curve reserve. This gives $$M = R + F$$<br> Since the amount of funds in the bonding curve at time $t=0$ is proportional to the reserve ratio $\\rho_0$ at $t=0$, $R_0$ is $$R_0 = \\rho_0 M$$<br> Which gives $F_0$ that goes to directly fund the project $$F_0=(1-\\rho_0)M$$<br>  Initialization Price $P_i$ can be defined as the amount of supply tokens $S$ that can be obtained per unit $M$ $$P_i = \\frac{M}{S_0}$$<br> This gives the supply during Initialization $S_0$ $$S_0 = \\frac{M}{P_i}$$<br> The amount of funds directed towards the project $F_0$ is directly and linearly proportional to the bond's initial likelihood of success. From this, we can infer $$F_0=\\alpha_0M$$<br> We know that $$F_0=(1-\\rho_0)M$$<br> From the above equations, we get $$\\alpha_0 = 1-\\rho_0$$<br> By definition, the state variable Price $P_0$ at $t=0$ is given by $$P_0=\\kappa_0\\frac{R_0}{S_0}$$<br> where $\\kappa_0=\\frac{1}{\\rho_0}$. Expanding for $R_0=\\rho_M$ and $S_0=M/P_i$, $$P_0 = \\frac{1}{\\rho_0} \\frac{\\rho_0M}{{M}/{P_i}}$$<br> Terms cancel out and we get $$P_0 = P_i$$<br> *Q.E.D*"
   ]
  },
  {
   "cell_type": "markdown",
   "metadata": {},
   "source": [
    "### Lemma 2: Outcome Indifference\n",
    "Let the true total payout at the Settlement Phase be $\\Theta_{true}$. We know that total payout is contingent on the $(C, \\Omega)$ pair that was set during Initialization and the amount of tokens bonded to the reserve. This gives $$\\Theta_{true} = C \\Omega + R$$<br> Neither the bonding curve system nor the participant agents have knowledge about the true total payout prior to the Settlement Phase, so they base their decisions on their own expectations of the total payout. \n",
    "\n",
    "#### 1. System's Expectation of Total Payout\n",
    "During Execution, the system does not have knowledge of $\\Omega$ but is aware of the state variable $\\alpha$, which is based on Attestations on the value of $\\Omega$. This gives $$\\mathbb{E}(\\Theta_{sys}) = C\\alpha + R$$<br> This expectation on $\\Theta_{sys}$ is a **system-level constraint**.\n",
    "\n",
    "#### 2. Agent's Expectation of Individual Payout\n",
    "Let $\\Theta_0 = M$ be the amount of money spent by agent $i$ to purchase $S_i$ amount of tokens during Initialization. From the definition of Price, we have $$\\Theta_{0}=PS_0$$ Expanding Price $P$ $$\\Theta_{0}=\\frac{1}{\\rho}\\frac{R}{S}S_0$$<br> $$\\Theta_{0}=\\frac{1}{\\rho}R\\left(\\frac{S_0}{S}\\right)$$<br> This gives $\\Theta_{i}$, the amount of tokens to be paid out to the agent $$\\Theta_{i} = \\frac{\\Theta_0}{\\Theta} = \\frac{1}{\\rho}\\frac{R}{\\Theta}\\left(\\frac{S_0}{S}\\right)$$<br> This imposes an **agent-level constraint**.\n",
    "\n",
    "Since outcome payout is conserved throughout the duration of the bond, we have $\\frac{\\Theta_{0}}{S_0} =\\frac{\\Theta}{S}$. Rearranging, $$\\frac{\\Theta_{0}}{S_0}=\\frac{\\Theta}{S}$$<br> For this equivalency to hold, in the definition for $\\Theta_i$, we require that $$\\frac{1}{\\rho}\\frac{R}{\\Theta} = 1$$<br> Rearranging to obtain $R$, $$R=\\rho\\Theta$$<br> Since $\\Theta_{true}$ is unknown, the system and its agents need to estimate it. Plugging the above in $\\Theta_{true}$, we have $$\\Theta_{true}=C\\Omega + \\rho\\Theta_{true}$$ Simplifying, $$\\Theta_{true}=\\frac{C\\Omega}{1-\\rho}$$<br> From here, we derive the system's estimate of total payout and the agents' estimate of individual payout.\n",
    "\n",
    "#### 3. System's estimate of Total Payout\n",
    "From (1) we have $$\\mathbb{E}(\\Theta_{sys}) = C\\alpha + R$$<br> Because the system is designed to converge $\\mathbb{E}(\\Theta_{sys})$ to $\\Theta_{true}$, we can conclude that: $$\\mathbb{E}(\\Theta_{sys})= \\frac{C\\alpha}{1-\\rho}$$<br>\n",
    "\n",
    "#### 4. Agents' estimate of Individual Payout\n",
    "Following from the above, we obtain the agent's estimate of an individual agent's payout $$\\mathbb{E}(\\Theta_{i})= \\frac{C\\hat\\alpha_i}{1-\\rho}\\frac{S_i}{S}$$<br>"
   ]
  }
 ],
 "metadata": {
  "kernelspec": {
   "display_name": "Python 3",
   "language": "python",
   "name": "python3"
  },
  "language_info": {
   "codemirror_mode": {
    "name": "ipython",
    "version": 3
   },
   "file_extension": ".py",
   "mimetype": "text/x-python",
   "name": "python",
   "nbconvert_exporter": "python",
   "pygments_lexer": "ipython3",
   "version": "3.7.4"
  }
 },
 "nbformat": 4,
 "nbformat_minor": 4
}