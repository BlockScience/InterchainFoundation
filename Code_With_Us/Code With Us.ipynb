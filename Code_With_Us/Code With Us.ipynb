{
 "cells": [
  {
   "cell_type": "markdown",
   "metadata": {},
   "source": [
    "# Code With Us Demo\n",
    "\n",
    "In this notebook, we will provide the ability to run an ICF cadCAD model. Below we provide an overview of cadCAD and the model process.\n",
    "\n",
    "## cadCAD Model Structure Overview \n",
    "In the cadCAD simulation methodology, we operate on four layers: Policies, Mechanisms, States, and Metrics. Information flows do not have explicit feedback loop unless noted. Policies determine the inputs into the system dynamics, and can come from user input, observations from the exogenous environment, or algorithms. Mechanisms (sometimes referred to as State Update Logic) are functions that take the policy decisions and update the States to reflect the policy level changes. States are variables that represent the system quantities at the given point in time, and Metrics are computed from state variables to assess the health of the system, essentially views on a complex data structure. Metrics can often be thought of as Key Performance Indicators (KPIs).\n",
    "\n",
    "At a more granular level, to setup a model, there are system conventions and configurations that must be followed.\n",
    "\n",
    "The way to think of cadCAD modeling is analogous to machine learning pipelines which normally consist of multiple steps when training and running a deployed model. There is preprocessing, which includes segregating features between continuous and categorical, transforming or imputing data, and then instantiating, training, and running a machine learning model with specified hyperparameters. cadCAD modeling can be thought of in the same way as states, roughly translating into features, are fed into pipelines that have built-in logic to direct traffic between different mechanisms, such as scaling and imputation. Accuracy scores, ROC, etc. are analogous to the metrics that can be configured on a cadCAD model, specifying how well a given model is doing in meeting its objectives. The parameter sweeping capability of cadCAD can be thought of as a grid search, or way to find the optimal hyperparameters for a system by running through alternative scenarios. A/B style testing that cadCAD enables is used in the same way machine learning models are A/B tested, except out of the box, in providing a side by side comparison of muliple different models to compare and contrast performance. Utilizing the field of Systems Identification, dynamical systems models can be used to \"online learn\" by providing a feedback loop to generative system mechanisms.\n",
    "\n",
    "cadCAD models are micro founded with metrics being at the macro or the institutional level. If you are interested in institutional dynamics, see Dr. Zargham's recent paper: [Voshmgir, Shermin and Zargham, Michael (2019) Foundations of Cryptoeconomic Systems. Working Paper Series / Institute for Cryptoeconomics / Interdisciplinary Research, 1. Research Institute for Cryptoeconomics, Vienna.](https://epub.wu.ac.at/7309/8/Foundations%20of%20Cryptoeconomic%20Systems.pdf)\n",
    "\n",
    "\n",
    "\n",
    "### Model File structure\n",
    "* Code With Us.ipynb\n",
    "* src/sim\n",
    "* src/sim/model\n",
    "* src/sim/model/parts\n",
    "\n",
    "In the sim folder there exist 3 files and a model folder, the [config.py](src/sim/config.py), [run.py](src/sim/run.py), and [sim_setup.py](src/sim/sim_setup.py). The [config.py](src/sim/config.py) contains the simulation configurations, aggregating the partial states, and the state variables. [run.py](src/sim/run.py) actually runs the simulation, and [sim_setup.py](src/sim/sim_setup.py) defines the number of timesteps and monte carlo runs (these 12 simulations have 100 timesteps and no monte carlo runs). \n",
    "\n",
    "Within the src/sim/model folder, there are 3 files and a parts folder. The [partial_state_update_block.py](src/sim/model/partial_state_update_block.py) contains the partial state update blocks and how they update the state variables. [state_variables.py](src/sim/model/state_variables.py) defines the state variables and [state_variables.py](src/sim/model/state_variables.py). [sys_params.py](src/sim/model/sys_params.py) specifies hyperparameters for the simulation.\n",
    "\n",
    "\n",
    "The mechanisms of the model live within the parts subfolder as:\n",
    "* [attest.py](src/sim/model/parts/attest.py)\n",
    "* [bondburn.py](src/sim/model/parts/bondburn.py)\n",
    "* [choose_action.py](src/sim/model/parts/choose_action.py)\n",
    "* [choose_agent.py](src/sim/model/parts/choose_agent.py)\n",
    "* [monthly_instalment.py](src/sim/model/parts/monthly_instalment.py)\n",
    "* [private_beliefs.py](src/sim/model/parts/private_beliefs.py)\n",
    "* [put_agent_back_to_df.py](src/sim/model/parts/put_agent_back_to_df.py)\n",
    "* [uniswap.py](src/sim/model/parts/uniswap.py)\n",
    "* [utils.py](src/sim/model/parts/utils.py)\n",
    "\n",
    "\n",
    "## Model Diagram\n",
    "\n",
    "![model](images/Phase_3_secondary.png)\n",
    "\n",
    "\n",
    "In order to reperform this code, we recommend the researcher use the following link https://www.anaconda.com/products/individual to download Python 3.7. To install the specific version of cadCAD this repository was built with, run the following code: pip install cadCAD==0.4.23\n",
    "\n",
    "Then run cd InterchainFoundation to enter the repository. Finally, run jupyter notebook to open a notebook server to run the various notebooks in this repository."
   ]
  },
  {
   "cell_type": "markdown",
   "metadata": {},
   "source": [
    "### Installed cadCAD Installed Version Check"
   ]
  },
  {
   "cell_type": "code",
   "execution_count": 1,
   "metadata": {
    "tags": []
   },
   "outputs": [
    {
     "name": "stdout",
     "output_type": "stream",
     "text": [
      "cadCAD==0.4.23\n",
      "Note: you may need to restart the kernel to use updated packages.\n"
     ]
    }
   ],
   "source": [
    "pip freeze | grep cadCAD"
   ]
  },
  {
   "cell_type": "markdown",
   "metadata": {},
   "source": [
    "## Parametric testing of the initialization of the Bonding Curve\n"
   ]
  },
  {
   "cell_type": "markdown",
   "metadata": {},
   "source": [
    "### The specific simulation of the model is as follows:\n",
    "\n",
    "* 10 agents\n",
    "* 14 days where each day each participant gets 1xCHF\n",
    "* Each day the 10 participants all buy tokens on the boding curve with their 1xCHF\n",
    "* Ffter 14 days the bond closes because the project is over (succeeds)\n",
    "* Because the project wasn't actually spending any funds, the total amount of reward will in fact be the C + reserve\n",
    "\n",
    "\n",
    "* Bond token: uFIT (micro FIT)\n",
    "* Reserve token: uXCHF (micro XCHF)\n",
    "* C (Outcome payment): 300000000 [uxchf]\n",
    "* d0: 1000000\n",
    "* p0: 1\n",
    "* theta: 0\n",
    "* kappa: 3.0\n",
    "* max supply: 20000000 [ufit]"
   ]
  },
  {
   "cell_type": "markdown",
   "metadata": {},
   "source": [
    "### Import Libraries for Analysis and Visualization"
   ]
  },
  {
   "cell_type": "code",
   "execution_count": 2,
   "metadata": {
    "tags": []
   },
   "outputs": [],
   "source": [
    "import pandas as pd\n",
    "\n",
    "import matplotlib.pyplot as plt\n",
    "\n",
    "import seaborn as sns\n",
    "\n",
    "# For analysis\n",
    "import numpy as np\n",
    "import pandas as pd\n",
    "\n",
    "sns.set_style(\"whitegrid\")"
   ]
  },
  {
   "cell_type": "markdown",
   "metadata": {},
   "source": [
    "### Import Parent cadCAD Model and Utilities"
   ]
  },
  {
   "cell_type": "code",
   "execution_count": 3,
   "metadata": {},
   "outputs": [],
   "source": [
    "from cadCAD.configuration import Experiment\n",
    "\n",
    "from cadCAD import configs\n",
    "\n",
    "from src.config_wrapper import ConfigWrapper\n",
    "\n",
    "from src import run_wrapper2\n",
    "from src import run_wrapper\n",
    "\n",
    "import src.sim as sim\n",
    "\n",
    "# custom plotting function\n",
    "from src.utils import param_test_plot"
   ]
  },
  {
   "cell_type": "markdown",
   "metadata": {},
   "source": [
    "### Choose number of Monte Carlo runs ('N') and/or number of Timesteps ('T') and/or to update parameter values ('M') \n",
    "\n",
    "### Current N, T, and M"
   ]
  },
  {
   "cell_type": "code",
   "execution_count": 4,
   "metadata": {
    "tags": []
   },
   "outputs": [
    {
     "data": {
      "text/plain": [
       "{'N': 1,\n",
       " 'T': range(0, 140),\n",
       " 'M': {'starting_kappa': 3,\n",
       "  'starting_alpha': 0.5,\n",
       "  'money_raised': 1000000,\n",
       "  'monthly_instalment': 0,\n",
       "  'C': 300000000,\n",
       "  'f': 0.03,\n",
       "  'm': 0.15,\n",
       "  'beta': 0.9,\n",
       "  'dust': 1e-08,\n",
       "  'period': 1200,\n",
       "  'rules_price': 'martin',\n",
       "  'E': 0.2,\n",
       "  'ENABLE_CONTINUOUS': True,\n",
       "  'THETA': 0,\n",
       "  'ENABLE_BURN': False,\n",
       "  'fee_numerator': 997,\n",
       "  'fee_denominator': 1000,\n",
       "  'alpha_bias': 1,\n",
       "  'price_bias': 1,\n",
       "  'kappa_rule': 'none',\n",
       "  'alpha_test': 'success'}}"
      ]
     },
     "execution_count": 4,
     "metadata": {},
     "output_type": "execute_result"
    }
   ],
   "source": [
    "# get list of keys and values from M\n",
    "parametric_experiment = ConfigWrapper(sim)\n",
    "model_keys = parametric_experiment.get_config()\n",
    "model_keys[0]"
   ]
  },
  {
   "cell_type": "code",
   "execution_count": 5,
   "metadata": {},
   "outputs": [],
   "source": [
    "## Choose a parameter values\n",
    "update_params = {\n",
    "    # disable selling\n",
    "    'ENABLE_BURN' : [False],\n",
    "    'THETA' : [0],\n",
    "    'alpha_test' : ['success'],\n",
    "#     'alpha_test' : ['failure'],\n",
    "}"
   ]
  },
  {
   "cell_type": "markdown",
   "metadata": {},
   "source": [
    "### Update Timesteps, if desired\n",
    "Current Number of TImesteps"
   ]
  },
  {
   "cell_type": "code",
   "execution_count": 6,
   "metadata": {},
   "outputs": [
    {
     "data": {
      "text/plain": [
       "range(0, 140)"
      ]
     },
     "execution_count": 6,
     "metadata": {},
     "output_type": "execute_result"
    }
   ],
   "source": [
    "# Original\n",
    "New_Timesteps = model_keys[0]['T']\n",
    "\n",
    "# New Change Value\n",
    "# New_Timesteps = range(365)\n",
    "New_Timesteps"
   ]
  },
  {
   "cell_type": "markdown",
   "metadata": {},
   "source": [
    "### Update Monte Carlo Runs, if desired\n",
    "Current Number of Runs"
   ]
  },
  {
   "cell_type": "code",
   "execution_count": 7,
   "metadata": {},
   "outputs": [
    {
     "data": {
      "text/plain": [
       "1"
      ]
     },
     "execution_count": 7,
     "metadata": {},
     "output_type": "execute_result"
    }
   ],
   "source": [
    "# Original\n",
    "New_Runs = model_keys[0]['N']\n",
    "\n",
    "# New Change Value\n",
    "# New_Runs = 10\n",
    "New_Runs"
   ]
  },
  {
   "cell_type": "code",
   "execution_count": 8,
   "metadata": {
    "tags": []
   },
   "outputs": [],
   "source": [
    "parametric_experiment = ConfigWrapper(sim, M=update_params, N=New_Runs, T=New_Timesteps)"
   ]
  },
  {
   "cell_type": "markdown",
   "metadata": {},
   "source": [
    "### Get Initial Conditions from Config"
   ]
  },
  {
   "cell_type": "code",
   "execution_count": 9,
   "metadata": {},
   "outputs": [
    {
     "data": {
      "text/plain": [
       "{'reserve': 1000000,\n",
       " 'pbar': 1,\n",
       " 'realized_price': 0,\n",
       " 'spot_price': 1,\n",
       " 'kappa': 3.0,\n",
       " 'supply': 1000000,\n",
       " 'alpha': 0.0033333333333333335,\n",
       " 'alpha_bar': 0.0033333333333333335,\n",
       " 'supply_0': 1,\n",
       " 'supply_1': 1,\n",
       " 'supply_free': 999998,\n",
       " 'attestations': 30000,\n",
       " 'attestations_0': 30000,\n",
       " 'attestations_1': 100,\n",
       " 'invariant_V': 1000000000000.0,\n",
       " 'invariant_I': 151000000.0,\n",
       " 'agents':    id  agent_attestations_1  agent_attestations_0  agent_reserve  \\\n",
       " 0   0                     0                     0            100   \n",
       " 1   1                     0                     0            100   \n",
       " \n",
       "    agent_supply_1  agent_supply_0  agent_supply_free  agent_private_alpha  \\\n",
       " 0               0               0                  0                  0.5   \n",
       " 1               0               0                  0                  0.5   \n",
       " \n",
       "    agent_private_price  agent_private_alpha_signal  \\\n",
       " 0                  0.5                           0   \n",
       " 1                  0.5                           0   \n",
       " \n",
       "    agent_private_price_signal  agent_public_alpha_signal  \\\n",
       " 0                           0                          0   \n",
       " 1                           0                          0   \n",
       " \n",
       "    agent_public_price_signal  \n",
       " 0                          0  \n",
       " 1                          0  ,\n",
       " 'chosen_agent': 0,\n",
       " 'public_alpha': 0}"
      ]
     },
     "execution_count": 9,
     "metadata": {},
     "output_type": "execute_result"
    }
   ],
   "source": [
    "initial_state = parametric_experiment.get_initial_conditions()\n",
    "initial_state"
   ]
  },
  {
   "cell_type": "markdown",
   "metadata": {},
   "source": [
    "### Update Agents"
   ]
  },
  {
   "cell_type": "markdown",
   "metadata": {},
   "source": [
    "#### Choose Number of Agents"
   ]
  },
  {
   "cell_type": "code",
   "execution_count": 10,
   "metadata": {},
   "outputs": [],
   "source": [
    "number_of_agents = 10"
   ]
  },
  {
   "cell_type": "code",
   "execution_count": 11,
   "metadata": {},
   "outputs": [],
   "source": [
    "########## AGENT INITIALIZATION ##########\n",
    "PRIVATE_ALPHA = 0.5\n",
    "PRIVATE_PRICE = 0.5\n",
    "\n",
    "r = 0 #1000000  # Agent reserve, the amount of fiat tokens an agent starts with\n",
    "s = 0\n",
    "s1 = 0\n",
    "s0 = 0\n",
    "s_free = s - (s1+s0)\n",
    "# Configure agents for agent-based model\n",
    "agents_df = pd.DataFrame({\n",
    "    'agent_attestations_1': 0,\n",
    "    'agent_attestations_0': 0,\n",
    "    'agent_reserve': r,\n",
    "    'agent_supply_1': s1,\n",
    "    'agent_supply_0': s0,\n",
    "    'agent_supply_free': s_free,\n",
    "    'agent_private_alpha': PRIVATE_ALPHA,\n",
    "    'agent_private_price': PRIVATE_PRICE,    \n",
    "    'agent_private_alpha_signal': 0,\n",
    "    'agent_private_price_signal': 0,\n",
    "    'agent_public_alpha_signal': 0,\n",
    "    'agent_public_price_signal': 0}, index=[0])\n",
    "agents_df = pd.concat([agents_df]*number_of_agents, ignore_index=True)\n",
    "# Adding IDs to agents\n",
    "agents_df.insert(0, 'id', range(0, len(agents_df)))\n",
    "\n",
    "# vary agent reserves\n",
    "# agents_df['agent_reserve'] = 1000000 #[round(num, 2) for num in list(np.random.uniform(1000000,7000000,10))]\n",
    "agents_df['agent_private_alpha'] = [0.5, 0.5, 0.5, 0.5, 0.5, 0.5, 0.5, 0.5, 0.5, 0.5]\n",
    "\n",
    "# vary agent private price\n",
    "agents_df['agent_private_price'] = 100 # [round(num, 2) for num in list(np.random.uniform(0.4,0.9,10))]\n",
    "\n"
   ]
  },
  {
   "cell_type": "code",
   "execution_count": 12,
   "metadata": {},
   "outputs": [
    {
     "data": {
      "text/html": [
       "<div>\n",
       "<style scoped>\n",
       "    .dataframe tbody tr th:only-of-type {\n",
       "        vertical-align: middle;\n",
       "    }\n",
       "\n",
       "    .dataframe tbody tr th {\n",
       "        vertical-align: top;\n",
       "    }\n",
       "\n",
       "    .dataframe thead th {\n",
       "        text-align: right;\n",
       "    }\n",
       "</style>\n",
       "<table border=\"1\" class=\"dataframe\">\n",
       "  <thead>\n",
       "    <tr style=\"text-align: right;\">\n",
       "      <th></th>\n",
       "      <th>agent_reserve</th>\n",
       "      <th>agent_private_price</th>\n",
       "    </tr>\n",
       "  </thead>\n",
       "  <tbody>\n",
       "    <tr>\n",
       "      <th>0</th>\n",
       "      <td>0</td>\n",
       "      <td>100</td>\n",
       "    </tr>\n",
       "    <tr>\n",
       "      <th>1</th>\n",
       "      <td>0</td>\n",
       "      <td>100</td>\n",
       "    </tr>\n",
       "    <tr>\n",
       "      <th>2</th>\n",
       "      <td>0</td>\n",
       "      <td>100</td>\n",
       "    </tr>\n",
       "    <tr>\n",
       "      <th>3</th>\n",
       "      <td>0</td>\n",
       "      <td>100</td>\n",
       "    </tr>\n",
       "    <tr>\n",
       "      <th>4</th>\n",
       "      <td>0</td>\n",
       "      <td>100</td>\n",
       "    </tr>\n",
       "    <tr>\n",
       "      <th>5</th>\n",
       "      <td>0</td>\n",
       "      <td>100</td>\n",
       "    </tr>\n",
       "    <tr>\n",
       "      <th>6</th>\n",
       "      <td>0</td>\n",
       "      <td>100</td>\n",
       "    </tr>\n",
       "    <tr>\n",
       "      <th>7</th>\n",
       "      <td>0</td>\n",
       "      <td>100</td>\n",
       "    </tr>\n",
       "    <tr>\n",
       "      <th>8</th>\n",
       "      <td>0</td>\n",
       "      <td>100</td>\n",
       "    </tr>\n",
       "    <tr>\n",
       "      <th>9</th>\n",
       "      <td>0</td>\n",
       "      <td>100</td>\n",
       "    </tr>\n",
       "  </tbody>\n",
       "</table>\n",
       "</div>"
      ],
      "text/plain": [
       "   agent_reserve  agent_private_price\n",
       "0              0                  100\n",
       "1              0                  100\n",
       "2              0                  100\n",
       "3              0                  100\n",
       "4              0                  100\n",
       "5              0                  100\n",
       "6              0                  100\n",
       "7              0                  100\n",
       "8              0                  100\n",
       "9              0                  100"
      ]
     },
     "execution_count": 12,
     "metadata": {},
     "output_type": "execute_result"
    }
   ],
   "source": [
    "## see initialized values\n",
    "agents_df[['agent_reserve','agent_private_price']]"
   ]
  },
  {
   "cell_type": "markdown",
   "metadata": {},
   "source": [
    "### Update Agent into Initial State"
   ]
  },
  {
   "cell_type": "code",
   "execution_count": 13,
   "metadata": {},
   "outputs": [],
   "source": [
    "initial_state['agents'] = agents_df"
   ]
  },
  {
   "cell_type": "markdown",
   "metadata": {},
   "source": [
    "### Re-Instantiate Config with Updated Initial Conditions"
   ]
  },
  {
   "cell_type": "code",
   "execution_count": 14,
   "metadata": {},
   "outputs": [],
   "source": [
    "parametric_experiment = ConfigWrapper(sim, M=update_params, N=New_Runs, T=New_Timesteps)"
   ]
  },
  {
   "cell_type": "code",
   "execution_count": 15,
   "metadata": {},
   "outputs": [
    {
     "data": {
      "text/plain": [
       "<cadCAD.configuration.Experiment at 0x7f13e0ebd640>"
      ]
     },
     "execution_count": 15,
     "metadata": {},
     "output_type": "execute_result"
    }
   ],
   "source": [
    "\n",
    "del configs[:]\n",
    "\n",
    "parametric_experiment.append()"
   ]
  },
  {
   "cell_type": "code",
   "execution_count": 16,
   "metadata": {},
   "outputs": [
    {
     "data": {
      "text/plain": [
       "[{'N': 1,\n",
       "  'T': range(0, 140),\n",
       "  'M': {'starting_kappa': 3,\n",
       "   'starting_alpha': 0.5,\n",
       "   'money_raised': 1000000,\n",
       "   'monthly_instalment': 0,\n",
       "   'C': 300000000,\n",
       "   'f': 0.03,\n",
       "   'm': 0.15,\n",
       "   'beta': 0.9,\n",
       "   'dust': 1e-08,\n",
       "   'period': 1200,\n",
       "   'rules_price': 'martin',\n",
       "   'E': 0.2,\n",
       "   'ENABLE_CONTINUOUS': True,\n",
       "   'THETA': 0,\n",
       "   'ENABLE_BURN': False,\n",
       "   'fee_numerator': 997,\n",
       "   'fee_denominator': 1000,\n",
       "   'alpha_bias': 1,\n",
       "   'price_bias': 1,\n",
       "   'kappa_rule': 'none',\n",
       "   'alpha_test': 'success'}}]"
      ]
     },
     "execution_count": 16,
     "metadata": {},
     "output_type": "execute_result"
    }
   ],
   "source": [
    "parametric_experiment.get_config()"
   ]
  },
  {
   "cell_type": "markdown",
   "metadata": {},
   "source": [
    "### Generate config_ids to match results with swept variable input"
   ]
  },
  {
   "cell_type": "code",
   "execution_count": 17,
   "metadata": {},
   "outputs": [],
   "source": [
    "def get_M(k, v):\n",
    "    if k == 'sim_config':\n",
    "        k, v = 'M', v['M']\n",
    "    return k, v\n",
    "\n",
    "config_ids = [\n",
    "    dict(\n",
    "        get_M(k, v) for k, v in config.__dict__.items() if k in ['simulation_id', 'run_id', 'sim_config', 'subset_id']\n",
    "    ) for config in configs\n",
    "]"
   ]
  },
  {
   "cell_type": "markdown",
   "metadata": {
    "tags": []
   },
   "source": [
    "### Execute cadCAD Simulation"
   ]
  },
  {
   "cell_type": "code",
   "execution_count": 18,
   "metadata": {
    "tags": []
   },
   "outputs": [
    {
     "name": "stdout",
     "output_type": "stream",
     "text": [
      "\n",
      "                  ___________    ____\n",
      "  ________ __ ___/ / ____/   |  / __ \\\n",
      " / ___/ __` / __  / /   / /| | / / / /\n",
      "/ /__/ /_/ / /_/ / /___/ ___ |/ /_/ /\n",
      "\\___/\\__,_/\\__,_/\\____/_/  |_/_____/\n",
      "by cadCAD\n",
      "\n",
      "Execution Mode: local_proc\n",
      "Configuration Count: 1\n",
      "Dimensions of the first simulation: (Timesteps, Params, Runs, Vars) = (140, 21, 1, 19)\n",
      "Execution Method: local_simulations\n",
      "SimIDs   : [0]\n",
      "SubsetIDs: [0]\n",
      "Ns       : [0]\n",
      "ExpIDs   : [0]\n",
      "Execution Mode: single_threaded\n",
      "Total execution time: 1.11s\n"
     ]
    }
   ],
   "source": [
    "(data, tensor_field, sessions) = run_wrapper.run(drop_midsteps=True)\n",
    "\n",
    "experiments = data"
   ]
  },
  {
   "cell_type": "code",
   "execution_count": 19,
   "metadata": {},
   "outputs": [
    {
     "data": {
      "text/html": [
       "<div>\n",
       "<style scoped>\n",
       "    .dataframe tbody tr th:only-of-type {\n",
       "        vertical-align: middle;\n",
       "    }\n",
       "\n",
       "    .dataframe tbody tr th {\n",
       "        vertical-align: top;\n",
       "    }\n",
       "\n",
       "    .dataframe thead th {\n",
       "        text-align: right;\n",
       "    }\n",
       "</style>\n",
       "<table border=\"1\" class=\"dataframe\">\n",
       "  <thead>\n",
       "    <tr style=\"text-align: right;\">\n",
       "      <th></th>\n",
       "      <th>index</th>\n",
       "      <th>reserve</th>\n",
       "      <th>pbar</th>\n",
       "      <th>realized_price</th>\n",
       "      <th>spot_price</th>\n",
       "      <th>kappa</th>\n",
       "      <th>supply</th>\n",
       "      <th>alpha</th>\n",
       "      <th>alpha_bar</th>\n",
       "      <th>supply_0</th>\n",
       "      <th>...</th>\n",
       "      <th>invariant_V</th>\n",
       "      <th>invariant_I</th>\n",
       "      <th>agents</th>\n",
       "      <th>chosen_agent</th>\n",
       "      <th>public_alpha</th>\n",
       "      <th>simulation</th>\n",
       "      <th>subset</th>\n",
       "      <th>run</th>\n",
       "      <th>substep</th>\n",
       "      <th>timestep</th>\n",
       "    </tr>\n",
       "  </thead>\n",
       "  <tbody>\n",
       "    <tr>\n",
       "      <th>0</th>\n",
       "      <td>0</td>\n",
       "      <td>1000000.00</td>\n",
       "      <td>1.000000</td>\n",
       "      <td>0</td>\n",
       "      <td>1.000000</td>\n",
       "      <td>3.000000</td>\n",
       "      <td>1.000000e+06</td>\n",
       "      <td>0.003333</td>\n",
       "      <td>0.003333</td>\n",
       "      <td>1</td>\n",
       "      <td>...</td>\n",
       "      <td>1.000000e+12</td>\n",
       "      <td>1.510000e+08</td>\n",
       "      <td>id  agent_attestations_1  agent_attestation...</td>\n",
       "      <td>0</td>\n",
       "      <td>0</td>\n",
       "      <td>0</td>\n",
       "      <td>0</td>\n",
       "      <td>1</td>\n",
       "      <td>0</td>\n",
       "      <td>0</td>\n",
       "    </tr>\n",
       "    <tr>\n",
       "      <th>1</th>\n",
       "      <td>5</td>\n",
       "      <td>1999999.99</td>\n",
       "      <td>3.847322</td>\n",
       "      <td>0</td>\n",
       "      <td>3.847322</td>\n",
       "      <td>5.311615</td>\n",
       "      <td>1.259921e+06</td>\n",
       "      <td>0.008117</td>\n",
       "      <td>0.003333</td>\n",
       "      <td>1</td>\n",
       "      <td>...</td>\n",
       "      <td>1.263700e+26</td>\n",
       "      <td>3.000000e+06</td>\n",
       "      <td>id  agent_attestations_1  agent_attestatio...</td>\n",
       "      <td>{'id': 0.0, 'agent_attestations_1': 0.0, 'agen...</td>\n",
       "      <td>0</td>\n",
       "      <td>0</td>\n",
       "      <td>0</td>\n",
       "      <td>1</td>\n",
       "      <td>5</td>\n",
       "      <td>1</td>\n",
       "    </tr>\n",
       "    <tr>\n",
       "      <th>2</th>\n",
       "      <td>10</td>\n",
       "      <td>2999999.98</td>\n",
       "      <td>10.005718</td>\n",
       "      <td>0</td>\n",
       "      <td>10.005718</td>\n",
       "      <td>3.003303</td>\n",
       "      <td>1.359864e+06</td>\n",
       "      <td>0.012085</td>\n",
       "      <td>0.003333</td>\n",
       "      <td>1</td>\n",
       "      <td>...</td>\n",
       "      <td>8.782623e+11</td>\n",
       "      <td>5.435200e+06</td>\n",
       "      <td>id  agent_attestations_1  agent_attestatio...</td>\n",
       "      <td>{'id': 1.0, 'agent_attestations_1': 0.0, 'agen...</td>\n",
       "      <td>0</td>\n",
       "      <td>0</td>\n",
       "      <td>0</td>\n",
       "      <td>1</td>\n",
       "      <td>5</td>\n",
       "      <td>2</td>\n",
       "    </tr>\n",
       "    <tr>\n",
       "      <th>3</th>\n",
       "      <td>15</td>\n",
       "      <td>3999999.97</td>\n",
       "      <td>7.315174</td>\n",
       "      <td>0</td>\n",
       "      <td>7.315174</td>\n",
       "      <td>1.906365</td>\n",
       "      <td>1.496566e+06</td>\n",
       "      <td>0.012085</td>\n",
       "      <td>0.003333</td>\n",
       "      <td>1</td>\n",
       "      <td>...</td>\n",
       "      <td>1.478855e+05</td>\n",
       "      <td>7.625459e+06</td>\n",
       "      <td>id  agent_attestations_1  agent_attestatio...</td>\n",
       "      <td>{'id': 2.0, 'agent_attestations_1': 0.0, 'agen...</td>\n",
       "      <td>0</td>\n",
       "      <td>0</td>\n",
       "      <td>0</td>\n",
       "      <td>1</td>\n",
       "      <td>5</td>\n",
       "      <td>3</td>\n",
       "    </tr>\n",
       "    <tr>\n",
       "      <th>4</th>\n",
       "      <td>20</td>\n",
       "      <td>4999999.96</td>\n",
       "      <td>5.380968</td>\n",
       "      <td>0</td>\n",
       "      <td>5.380968</td>\n",
       "      <td>2.727437</td>\n",
       "      <td>1.682406e+06</td>\n",
       "      <td>0.018210</td>\n",
       "      <td>0.003333</td>\n",
       "      <td>1</td>\n",
       "      <td>...</td>\n",
       "      <td>1.913659e+10</td>\n",
       "      <td>8.625459e+06</td>\n",
       "      <td>id  agent_attestations_1  agent_attestatio...</td>\n",
       "      <td>{'id': 3.0, 'agent_attestations_1': 0.0, 'agen...</td>\n",
       "      <td>0</td>\n",
       "      <td>0</td>\n",
       "      <td>0</td>\n",
       "      <td>1</td>\n",
       "      <td>5</td>\n",
       "      <td>4</td>\n",
       "    </tr>\n",
       "  </tbody>\n",
       "</table>\n",
       "<p>5 rows × 25 columns</p>\n",
       "</div>"
      ],
      "text/plain": [
       "   index     reserve       pbar  realized_price  spot_price     kappa  \\\n",
       "0      0  1000000.00   1.000000               0    1.000000  3.000000   \n",
       "1      5  1999999.99   3.847322               0    3.847322  5.311615   \n",
       "2     10  2999999.98  10.005718               0   10.005718  3.003303   \n",
       "3     15  3999999.97   7.315174               0    7.315174  1.906365   \n",
       "4     20  4999999.96   5.380968               0    5.380968  2.727437   \n",
       "\n",
       "         supply     alpha  alpha_bar  supply_0  ...   invariant_V  \\\n",
       "0  1.000000e+06  0.003333   0.003333         1  ...  1.000000e+12   \n",
       "1  1.259921e+06  0.008117   0.003333         1  ...  1.263700e+26   \n",
       "2  1.359864e+06  0.012085   0.003333         1  ...  8.782623e+11   \n",
       "3  1.496566e+06  0.012085   0.003333         1  ...  1.478855e+05   \n",
       "4  1.682406e+06  0.018210   0.003333         1  ...  1.913659e+10   \n",
       "\n",
       "    invariant_I                                             agents  \\\n",
       "0  1.510000e+08     id  agent_attestations_1  agent_attestation...   \n",
       "1  3.000000e+06      id  agent_attestations_1  agent_attestatio...   \n",
       "2  5.435200e+06      id  agent_attestations_1  agent_attestatio...   \n",
       "3  7.625459e+06      id  agent_attestations_1  agent_attestatio...   \n",
       "4  8.625459e+06      id  agent_attestations_1  agent_attestatio...   \n",
       "\n",
       "                                        chosen_agent  public_alpha  \\\n",
       "0                                                  0             0   \n",
       "1  {'id': 0.0, 'agent_attestations_1': 0.0, 'agen...             0   \n",
       "2  {'id': 1.0, 'agent_attestations_1': 0.0, 'agen...             0   \n",
       "3  {'id': 2.0, 'agent_attestations_1': 0.0, 'agen...             0   \n",
       "4  {'id': 3.0, 'agent_attestations_1': 0.0, 'agen...             0   \n",
       "\n",
       "   simulation  subset run substep  timestep  \n",
       "0           0       0   1       0         0  \n",
       "1           0       0   1       5         1  \n",
       "2           0       0   1       5         2  \n",
       "3           0       0   1       5         3  \n",
       "4           0       0   1       5         4  \n",
       "\n",
       "[5 rows x 25 columns]"
      ]
     },
     "execution_count": 19,
     "metadata": {},
     "output_type": "execute_result"
    }
   ],
   "source": [
    "experiments.head()"
   ]
  },
  {
   "cell_type": "code",
   "execution_count": 20,
   "metadata": {},
   "outputs": [
    {
     "data": {
      "text/html": [
       "<div>\n",
       "<style scoped>\n",
       "    .dataframe tbody tr th:only-of-type {\n",
       "        vertical-align: middle;\n",
       "    }\n",
       "\n",
       "    .dataframe tbody tr th {\n",
       "        vertical-align: top;\n",
       "    }\n",
       "\n",
       "    .dataframe thead th {\n",
       "        text-align: right;\n",
       "    }\n",
       "</style>\n",
       "<table border=\"1\" class=\"dataframe\">\n",
       "  <thead>\n",
       "    <tr style=\"text-align: right;\">\n",
       "      <th></th>\n",
       "      <th>index</th>\n",
       "      <th>reserve</th>\n",
       "      <th>pbar</th>\n",
       "      <th>realized_price</th>\n",
       "      <th>spot_price</th>\n",
       "      <th>kappa</th>\n",
       "      <th>supply</th>\n",
       "      <th>alpha</th>\n",
       "      <th>alpha_bar</th>\n",
       "      <th>supply_0</th>\n",
       "      <th>...</th>\n",
       "      <th>invariant_V</th>\n",
       "      <th>invariant_I</th>\n",
       "      <th>agents</th>\n",
       "      <th>chosen_agent</th>\n",
       "      <th>public_alpha</th>\n",
       "      <th>simulation</th>\n",
       "      <th>subset</th>\n",
       "      <th>run</th>\n",
       "      <th>substep</th>\n",
       "      <th>timestep</th>\n",
       "    </tr>\n",
       "  </thead>\n",
       "  <tbody>\n",
       "    <tr>\n",
       "      <th>136</th>\n",
       "      <td>680</td>\n",
       "      <td>136999999.9</td>\n",
       "      <td>45.887083</td>\n",
       "      <td>0</td>\n",
       "      <td>45.887083</td>\n",
       "      <td>2.116640</td>\n",
       "      <td>6.301023e+06</td>\n",
       "      <td>0.506326</td>\n",
       "      <td>0.003333</td>\n",
       "      <td>1</td>\n",
       "      <td>...</td>\n",
       "      <td>1.799645e+06</td>\n",
       "      <td>2.879288e+08</td>\n",
       "      <td>id  agent_attestations_1  agent_attestatio...</td>\n",
       "      <td>{'id': 5.0, 'agent_attestations_1': 0.0, 'agen...</td>\n",
       "      <td>0</td>\n",
       "      <td>0</td>\n",
       "      <td>0</td>\n",
       "      <td>1</td>\n",
       "      <td>5</td>\n",
       "      <td>136</td>\n",
       "    </tr>\n",
       "    <tr>\n",
       "      <th>137</th>\n",
       "      <td>685</td>\n",
       "      <td>137999999.9</td>\n",
       "      <td>46.109504</td>\n",
       "      <td>0</td>\n",
       "      <td>46.109504</td>\n",
       "      <td>2.114780</td>\n",
       "      <td>6.322710e+06</td>\n",
       "      <td>0.509387</td>\n",
       "      <td>0.003333</td>\n",
       "      <td>1</td>\n",
       "      <td>...</td>\n",
       "      <td>1.747966e+06</td>\n",
       "      <td>2.898977e+08</td>\n",
       "      <td>id  agent_attestations_1  agent_attestatio...</td>\n",
       "      <td>{'id': 6.0, 'agent_attestations_1': 0.0, 'agen...</td>\n",
       "      <td>0</td>\n",
       "      <td>0</td>\n",
       "      <td>0</td>\n",
       "      <td>1</td>\n",
       "      <td>5</td>\n",
       "      <td>137</td>\n",
       "    </tr>\n",
       "    <tr>\n",
       "      <th>138</th>\n",
       "      <td>690</td>\n",
       "      <td>138999999.9</td>\n",
       "      <td>46.245357</td>\n",
       "      <td>0</td>\n",
       "      <td>46.245357</td>\n",
       "      <td>2.107877</td>\n",
       "      <td>6.344334e+06</td>\n",
       "      <td>0.511251</td>\n",
       "      <td>0.003333</td>\n",
       "      <td>1</td>\n",
       "      <td>...</td>\n",
       "      <td>1.568839e+06</td>\n",
       "      <td>2.918160e+08</td>\n",
       "      <td>id  agent_attestations_1  agent_attestatio...</td>\n",
       "      <td>{'id': 7.0, 'agent_attestations_1': 0.0, 'agen...</td>\n",
       "      <td>0</td>\n",
       "      <td>0</td>\n",
       "      <td>0</td>\n",
       "      <td>1</td>\n",
       "      <td>5</td>\n",
       "      <td>138</td>\n",
       "    </tr>\n",
       "    <tr>\n",
       "      <th>139</th>\n",
       "      <td>695</td>\n",
       "      <td>139999999.9</td>\n",
       "      <td>46.269294</td>\n",
       "      <td>0</td>\n",
       "      <td>46.269294</td>\n",
       "      <td>2.110791</td>\n",
       "      <td>6.365947e+06</td>\n",
       "      <td>0.514623</td>\n",
       "      <td>0.003333</td>\n",
       "      <td>1</td>\n",
       "      <td>...</td>\n",
       "      <td>1.642126e+06</td>\n",
       "      <td>2.933753e+08</td>\n",
       "      <td>id  agent_attestations_1  agent_attestatio...</td>\n",
       "      <td>{'id': 8.0, 'agent_attestations_1': 0.0, 'agen...</td>\n",
       "      <td>0</td>\n",
       "      <td>0</td>\n",
       "      <td>0</td>\n",
       "      <td>1</td>\n",
       "      <td>5</td>\n",
       "      <td>139</td>\n",
       "    </tr>\n",
       "    <tr>\n",
       "      <th>140</th>\n",
       "      <td>700</td>\n",
       "      <td>140999999.9</td>\n",
       "      <td>46.507646</td>\n",
       "      <td>0</td>\n",
       "      <td>46.507646</td>\n",
       "      <td>2.107567</td>\n",
       "      <td>6.387449e+06</td>\n",
       "      <td>0.517438</td>\n",
       "      <td>0.003333</td>\n",
       "      <td>1</td>\n",
       "      <td>...</td>\n",
       "      <td>1.561219e+06</td>\n",
       "      <td>2.953870e+08</td>\n",
       "      <td>id  agent_attestations_1  agent_attestatio...</td>\n",
       "      <td>{'id': 9.0, 'agent_attestations_1': 0.0, 'agen...</td>\n",
       "      <td>0</td>\n",
       "      <td>0</td>\n",
       "      <td>0</td>\n",
       "      <td>1</td>\n",
       "      <td>5</td>\n",
       "      <td>140</td>\n",
       "    </tr>\n",
       "  </tbody>\n",
       "</table>\n",
       "<p>5 rows × 25 columns</p>\n",
       "</div>"
      ],
      "text/plain": [
       "     index      reserve       pbar  realized_price  spot_price     kappa  \\\n",
       "136    680  136999999.9  45.887083               0   45.887083  2.116640   \n",
       "137    685  137999999.9  46.109504               0   46.109504  2.114780   \n",
       "138    690  138999999.9  46.245357               0   46.245357  2.107877   \n",
       "139    695  139999999.9  46.269294               0   46.269294  2.110791   \n",
       "140    700  140999999.9  46.507646               0   46.507646  2.107567   \n",
       "\n",
       "           supply     alpha  alpha_bar  supply_0  ...   invariant_V  \\\n",
       "136  6.301023e+06  0.506326   0.003333         1  ...  1.799645e+06   \n",
       "137  6.322710e+06  0.509387   0.003333         1  ...  1.747966e+06   \n",
       "138  6.344334e+06  0.511251   0.003333         1  ...  1.568839e+06   \n",
       "139  6.365947e+06  0.514623   0.003333         1  ...  1.642126e+06   \n",
       "140  6.387449e+06  0.517438   0.003333         1  ...  1.561219e+06   \n",
       "\n",
       "      invariant_I                                             agents  \\\n",
       "136  2.879288e+08      id  agent_attestations_1  agent_attestatio...   \n",
       "137  2.898977e+08      id  agent_attestations_1  agent_attestatio...   \n",
       "138  2.918160e+08      id  agent_attestations_1  agent_attestatio...   \n",
       "139  2.933753e+08      id  agent_attestations_1  agent_attestatio...   \n",
       "140  2.953870e+08      id  agent_attestations_1  agent_attestatio...   \n",
       "\n",
       "                                          chosen_agent  public_alpha  \\\n",
       "136  {'id': 5.0, 'agent_attestations_1': 0.0, 'agen...             0   \n",
       "137  {'id': 6.0, 'agent_attestations_1': 0.0, 'agen...             0   \n",
       "138  {'id': 7.0, 'agent_attestations_1': 0.0, 'agen...             0   \n",
       "139  {'id': 8.0, 'agent_attestations_1': 0.0, 'agen...             0   \n",
       "140  {'id': 9.0, 'agent_attestations_1': 0.0, 'agen...             0   \n",
       "\n",
       "     simulation  subset run substep  timestep  \n",
       "136           0       0   1       5       136  \n",
       "137           0       0   1       5       137  \n",
       "138           0       0   1       5       138  \n",
       "139           0       0   1       5       139  \n",
       "140           0       0   1       5       140  \n",
       "\n",
       "[5 rows x 25 columns]"
      ]
     },
     "execution_count": 20,
     "metadata": {},
     "output_type": "execute_result"
    }
   ],
   "source": [
    "experiments.tail()"
   ]
  },
  {
   "cell_type": "code",
   "execution_count": 21,
   "metadata": {},
   "outputs": [
    {
     "name": "stderr",
     "output_type": "stream",
     "text": [
      "/home/aclarkdata/anaconda3/lib/python3.8/site-packages/pandas/core/frame.py:4147: SettingWithCopyWarning: \n",
      "A value is trying to be set on a copy of a slice from a DataFrame\n",
      "\n",
      "See the caveats in the documentation: https://pandas.pydata.org/pandas-docs/stable/user_guide/indexing.html#returning-a-view-versus-a-copy\n",
      "  return super().fillna(\n"
     ]
    },
    {
     "data": {
      "image/png": "[encoded data removed]",
      "text/plain": [
       "<Figure size 1080x720 with 1 Axes>"
      ]
     },
     "metadata": {},
     "output_type": "display_data"
    }
   ],
   "source": [
    "from src.sim.model.parts.utils import *\n",
    "\n",
    "alpha_plot(experiments,'Code With Me - Alpha',len(New_Timesteps))"
   ]
  },
  {
   "cell_type": "code",
   "execution_count": 24,
   "metadata": {},
   "outputs": [
    {
     "data": {
      "image/png": "[encoded data removed]",
      "text/plain": [
       "<Figure size 1080x720 with 1 Axes>"
      ]
     },
     "metadata": {},
     "output_type": "display_data"
    }
   ],
   "source": [
    "alpha(experiments,'Code With Me - Alpha', len(New_Timesteps))"
   ]
  },
  {
   "cell_type": "code",
   "execution_count": 25,
   "metadata": {},
   "outputs": [
    {
     "name": "stderr",
     "output_type": "stream",
     "text": [
      "/home/aclarkdata/anaconda3/lib/python3.8/site-packages/pandas/core/frame.py:4147: SettingWithCopyWarning: \n",
      "A value is trying to be set on a copy of a slice from a DataFrame\n",
      "\n",
      "See the caveats in the documentation: https://pandas.pydata.org/pandas-docs/stable/user_guide/indexing.html#returning-a-view-versus-a-copy\n",
      "  return super().fillna(\n"
     ]
    },
    {
     "data": {
      "image/png": "[encoded data removed]",
      "text/plain": [
       "<Figure size 1080x720 with 1 Axes>"
      ]
     },
     "metadata": {},
     "output_type": "display_data"
    }
   ],
   "source": [
    "reserve_supply(experiments,'Code With Me - Reserve',len(New_Timesteps))"
   ]
  },
  {
   "cell_type": "code",
   "execution_count": 26,
   "metadata": {},
   "outputs": [
    {
     "name": "stderr",
     "output_type": "stream",
     "text": [
      "/home/aclarkdata/anaconda3/lib/python3.8/site-packages/pandas/core/frame.py:4147: SettingWithCopyWarning: \n",
      "A value is trying to be set on a copy of a slice from a DataFrame\n",
      "\n",
      "See the caveats in the documentation: https://pandas.pydata.org/pandas-docs/stable/user_guide/indexing.html#returning-a-view-versus-a-copy\n",
      "  return super().fillna(\n"
     ]
    },
    {
     "data": {
      "image/png": "[encoded data removed]",
      "text/plain": [
       "<Figure size 1080x720 with 1 Axes>"
      ]
     },
     "metadata": {},
     "output_type": "display_data"
    }
   ],
   "source": [
    "supply_plot(experiments,'Code with Me - Supply',len(New_Timesteps))"
   ]
  },
  {
   "cell_type": "code",
   "execution_count": 27,
   "metadata": {},
   "outputs": [
    {
     "name": "stderr",
     "output_type": "stream",
     "text": [
      "/home/aclarkdata/anaconda3/lib/python3.8/site-packages/pandas/core/frame.py:4147: SettingWithCopyWarning: \n",
      "A value is trying to be set on a copy of a slice from a DataFrame\n",
      "\n",
      "See the caveats in the documentation: https://pandas.pydata.org/pandas-docs/stable/user_guide/indexing.html#returning-a-view-versus-a-copy\n",
      "  return super().fillna(\n"
     ]
    },
    {
     "data": {
      "image/png": "[encoded data removed]",
      "text/plain": [
       "<Figure size 1080x720 with 1 Axes>"
      ]
     },
     "metadata": {},
     "output_type": "display_data"
    }
   ],
   "source": [
    "price(experiments,'Code with Me - Price',len(New_Timesteps))"
   ]
  },
  {
   "cell_type": "code",
   "execution_count": 22,
   "metadata": {},
   "outputs": [
    {
     "data": {
      "image/png": "[encoded data removed]",
      "text/plain": [
       "<Figure size 1080x720 with 1 Axes>"
      ]
     },
     "metadata": {},
     "output_type": "display_data"
    }
   ],
   "source": [
    "agent_payout(experiments,len(New_Timesteps))"
   ]
  },
  {
   "cell_type": "code",
   "execution_count": 23,
   "metadata": {},
   "outputs": [
    {
     "data": {
      "image/png": "[encoded data removed]",
      "text/plain": [
       "<Figure size 1080x720 with 1 Axes>"
      ]
     },
     "metadata": {},
     "output_type": "display_data"
    }
   ],
   "source": [
    "agent_ROI(experiments,len(New_Timesteps))"
   ]
  },
  {
   "cell_type": "markdown",
   "metadata": {},
   "source": [
    "## Conclusion\n",
    "\n",
    "In this notebook, we have provided the ability for users to visualize a bonding curve implementation in action, and play around with the parameters."
   ]
  }
 ],
 "metadata": {
  "kernelspec": {
   "display_name": "Python 3",
   "language": "python",
   "name": "python3"
  },
  "language_info": {
   "codemirror_mode": {
    "name": "ipython",
    "version": 3
   },
   "file_extension": ".py",
   "mimetype": "text/x-python",
   "name": "python",
   "nbconvert_exporter": "python",
   "pygments_lexer": "ipython3",
   "version": "3.8.3"
  }
 },
 "nbformat": 4,
 "nbformat_minor": 4
}
