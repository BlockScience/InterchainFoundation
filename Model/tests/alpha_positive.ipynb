{
 "cells": [
  {
   "cell_type": "markdown",
   "metadata": {},
   "source": [
    "# Testing Alpha Update upon Positive Attestations"
   ]
  },
  {
   "cell_type": "markdown",
   "metadata": {},
   "source": [
    "An agent executes a positive attestation when they desire to increase the system alpha closer in magnitude to their private belief of alpha.\n",
    "\n",
    "To make a positive attestation, the agent bonds $\\Delta s$ quantity of supply tokens to the $S_1$ bucket. In exchange, they get $\\Delta q_1$ quantity of positive claims. "
   ]
  },
  {
   "cell_type": "markdown",
   "metadata": {},
   "source": [
    "\n",
    "$$\\alpha_{t+1} = (\\epsilon) \\alpha + (1-\\epsilon)\\cdot(1-\\delta) \\alpha + (1-\\epsilon).(\\delta) \\bar\\alpha$$\n",
    "<br/> where $\\epsilon$ is the designer-defined fixed weight between [0,1] and $\\delta=\\frac{\\Delta s}{S_1+S_0+\\Delta s}$ is the dynamic weight.\n"
   ]
  },
  {
   "cell_type": "markdown",
   "metadata": {},
   "source": [
    "The realized alpha, $\\bar\\alpha$ is given by $$\\bar\\alpha = \\frac{\\Delta s}{S} \\frac{R}{B}$$ \n",
    "<br/> where $B = (C+R)\\left[\\frac{q_1+\\Delta q_1}{Q_1+\\Delta q1}\\frac{S_1+\\Delta S}{S}-\\frac{q_1}{Q_1}\\frac{S_1}{S}\\right]-(C)\\left[\\frac{\\Delta s}{S}\\right]$\n"
   ]
  },
  {
   "cell_type": "markdown",
   "metadata": {},
   "source": [
    "In the following tests, we want to verify if the update in alpha is directionally correct - i.e we see an increase with each positive attestaion - and if the resultant system alpha is within its domain [0,1]."
   ]
  },
  {
   "cell_type": "markdown",
   "metadata": {},
   "source": [
    "### Intitialize state variables"
   ]
  },
  {
   "cell_type": "code",
   "execution_count": 1,
   "metadata": {},
   "outputs": [],
   "source": [
    "E = 0.46\n",
    "C = 7000\n",
    "R = 3000\n",
    "S = 300\n",
    "\n",
    "Q1 = [100]\n",
    "q1 = [0]\n",
    "S1 = [100] \n",
    "S0 = [100]\n",
    "s1 = [0]\n",
    "s = [20]\n",
    "\n",
    "alpha = [0.5]"
   ]
  },
  {
   "cell_type": "markdown",
   "metadata": {},
   "source": [
    "### Input an agent action signal \n",
    "The agent action signal contains a series of $\\Delta s$ that they would use to make positive attestations."
   ]
  },
  {
   "cell_type": "code",
   "execution_count": 2,
   "metadata": {},
   "outputs": [],
   "source": [
    "deltas = [1, 4, 5, 6, 3, 0, 1]"
   ]
  },
  {
   "cell_type": "markdown",
   "metadata": {},
   "source": [
    "### Compute $\\alpha_{t+1}$ at each timestep and update state variables"
   ]
  },
  {
   "cell_type": "code",
   "execution_count": 4,
   "metadata": {},
   "outputs": [
    {
     "name": "stdout",
     "output_type": "stream",
     "text": [
      "D =  0.004975124378109453\n",
      "alpha_bar =  0.06233186571425884\n",
      "alpha[i] = 0.5 | new_alpha =  0.49882417516162036\n",
      "deltas = 1  | deltaq1 =  5.773502691896324\n",
      "s[i] = 20\n",
      "____________________________\n",
      "D =  0.01951219512195122\n",
      "alpha_bar =  0.15595901638002552\n",
      "alpha[i] = 0.49882417516162036 | new_alpha =  0.4952115471471411\n",
      "deltas = 4  | deltaq1 =  12.213672050459229\n",
      "s[i] = 19\n",
      "____________________________\n",
      "D =  0.023809523809523808\n",
      "alpha_bar =  0.18087860549529386\n",
      "alpha[i] = 0.4952115471471411 | new_alpha =  0.4911701236116173\n",
      "deltas = 5  | deltaq1 =  15.232078761440219\n",
      "s[i] = 15\n",
      "____________________________\n",
      "D =  0.027777777777777776\n",
      "alpha_bar =  0.19533272980326338\n",
      "alpha[i] = 0.4911701236116173 | new_alpha =  0.48673256270449206\n",
      "deltas = 6  | deltaq1 =  18.84004750742875\n",
      "s[i] = 10\n",
      "____________________________\n",
      "D =  0.0136986301369863\n",
      "alpha_bar =  0.1161363117318615\n",
      "alpha[i] = 0.48673256270449206 | new_alpha =  0.4839911657794891\n",
      "deltas = 3  | deltaq1 =  15.205930101122458\n",
      "s[i] = 4\n",
      "____________________________\n",
      "alpha[i] = 0.4839911657794891 | new_alpha =  0.4839911657794891\n",
      "____________________________\n",
      "D =  0.004545454545454545\n",
      "alpha_bar =  0.05128172968954486\n",
      "alpha[i] = 0.4839911657794891 | new_alpha =  0.4829290607999956\n",
      "deltas = 1  | deltaq1 =  9.657062620877959\n",
      "s[i] = 1\n",
      "____________________________\n"
     ]
    }
   ],
   "source": [
    "import math\n",
    "\n",
    "for i in range(len(deltas)): \n",
    "    \n",
    "    A = 1+(deltas[i]/S)\n",
    "    deltaq1 = Q1[i]*(math.sqrt(A-1))\n",
    "        \n",
    "    if deltas[i] == 0:\n",
    "        new_alpha = alpha[i]\n",
    "        print(\"alpha[i] =\", alpha[i], \"| new_alpha = \", new_alpha)\n",
    "        print(\"____________________________\")\n",
    "    else:   \n",
    "        attest_prop_after = (q1[i]+deltaq1)/(Q1[i]+deltaq1)\n",
    "        supply_prop_after = (S1[i]+deltas[i])/S\n",
    "        attest_supply_prop_before = (q1[i]/Q1[i])*(S1[i]/S)\n",
    "    \n",
    "        B = (attest_prop_after*supply_prop_after) - attest_supply_prop_before\n",
    "        \n",
    "        D = deltas[i]/(S1[i]+S0[i]+deltas[i])\n",
    "        \n",
    "        pre1 = (C+R)*B\n",
    "        \n",
    "        pre2 = (C)*(deltas[i]/S)\n",
    "        \n",
    "        alpha_bar = (deltas[i]/S)*(R/(pre1 - pre2))\n",
    "        \n",
    "       # pre3 = (deltas[i]/S)*R\n",
    "       # pre4 = (C+R)*B\n",
    "       # pre5 = (C)*(deltas[i]/S)\n",
    "        \n",
    "       # alpha_bar = pre3 / (pre4 - pre5)\n",
    "    \n",
    "        T1 = E*alpha[i]\n",
    "    \n",
    "        T2 = (1-E)*(1-D)*alpha[i]\n",
    "    \n",
    "        T3 = (1-E)*(D)*alpha_bar\n",
    "    \n",
    "        new_alpha = T1+T2+T3\n",
    "    \n",
    "        print(\"D = \", D)\n",
    "        print(\"alpha_bar = \", alpha_bar)\n",
    "        print(\"alpha[i] =\", alpha[i], \"| new_alpha = \", new_alpha)\n",
    "        # print(\"alpha = \", alpha)\n",
    "        print(\"deltas =\", deltas[i], \" | deltaq1 = \", deltaq1)\n",
    "        print(\"s[i] =\" , s[i])\n",
    "        print(\"____________________________\")\n",
    "    \n",
    "    # Update operations\n",
    "    Q1.append(Q1[i] + deltaq1)\n",
    "    S1.append(S1[i] + deltas[i])\n",
    "    S0.append(S0[i])\n",
    "    s1.append(s1[i] + deltas[i])\n",
    "    s.append(s[i] - deltas[i])\n",
    "    q1.append(deltaq1)\n",
    "    alpha.append(new_alpha)\n",
    "    "
   ]
  },
  {
   "cell_type": "code",
   "execution_count": null,
   "metadata": {},
   "outputs": [],
   "source": []
  }
 ],
 "metadata": {
  "kernelspec": {
   "display_name": "Python 3",
   "language": "python",
   "name": "python3"
  },
  "language_info": {
   "codemirror_mode": {
    "name": "ipython",
    "version": 3
   },
   "file_extension": ".py",
   "mimetype": "text/x-python",
   "name": "python",
   "nbconvert_exporter": "python",
   "pygments_lexer": "ipython3",
   "version": "3.7.4"
  }
 },
 "nbformat": 4,
 "nbformat_minor": 4
}
