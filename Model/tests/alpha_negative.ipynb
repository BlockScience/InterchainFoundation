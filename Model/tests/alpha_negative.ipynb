{
 "cells": [
  {
   "cell_type": "markdown",
   "metadata": {},
   "source": [
    "# Testing Alpha Update upon Negative Attestations"
   ]
  },
  {
   "cell_type": "markdown",
   "metadata": {},
   "source": [
    "An agent executes a negative attestation when they desire to decrease the system alpha such that it is closer in magnitude to their private belief of alpha.\n",
    "\n",
    "To make a negative attestation, the agent bonds $\\Delta s$ quantity of supply tokens to the $S_0$ bucket. In exchange, they get $\\Delta q_0$ quantity of negative claims. "
   ]
  },
  {
   "cell_type": "markdown",
   "metadata": {},
   "source": [
    "$$\\alpha_{t+1} = (\\epsilon) \\alpha + (1-\\epsilon)\\cdot(1-\\delta) \\alpha + (1-\\epsilon).(\\delta) \\bar\\alpha$$\n",
    "<br/> where $\\epsilon$ is the designer-defined fixed weight between [0,1] and $\\delta=\\frac{\\Delta s}{S_1+S_0+\\Delta s}$ is the dynamic weight."
   ]
  },
  {
   "cell_type": "markdown",
   "metadata": {},
   "source": [
    "The realized alpha, $\\bar\\alpha$ is given by $$\\bar\\alpha = \\frac{R(B - \\frac{\\Delta s}{S})}{\\frac{\\Delta s}{S}(C)-B(R)}$$ where $B=\\left[\\frac{q_0+\\Delta q_0}{Q_0+\\Delta q_0} \\frac{S_0+\\Delta s}{S} - \\frac{q_0}{Q_0} \\frac{S_0}{S}\\right]$ "
   ]
  },
  {
   "cell_type": "markdown",
   "metadata": {},
   "source": [
    "In the following tests, we want to verify if the update in alpha is directionally correct - i.e we see an decrease with each negative attestaion - and if the resultant system alpha is within its domain [0,1]."
   ]
  },
  {
   "cell_type": "markdown",
   "metadata": {},
   "source": [
    "### Intitialize state variables\n"
   ]
  },
  {
   "cell_type": "code",
   "execution_count": 9,
   "metadata": {},
   "outputs": [],
   "source": [
    "E = 0.45\n",
    "C = 7000\n",
    "R = 3000\n",
    "S = 300\n",
    "\n",
    "Q0 = [100]\n",
    "q0 = [0]\n",
    "S1 = [100] \n",
    "S0 = [100]\n",
    "s0 = [0]\n",
    "s = [50]\n",
    "\n",
    "alpha = [0.5]"
   ]
  },
  {
   "cell_type": "markdown",
   "metadata": {},
   "source": [
    "### Input an agent action signal \n",
    "The agent action signal contains a series of $\\Delta s$ that they would use to make positive attestations."
   ]
  },
  {
   "cell_type": "code",
   "execution_count": 10,
   "metadata": {},
   "outputs": [],
   "source": [
    "deltas = [1, 4, 5, 6, 3, 0, 1, 7, 8, 4, 5, 6, 2]"
   ]
  },
  {
   "cell_type": "markdown",
   "metadata": {},
   "source": [
    "### Compute $\\alpha_{t+1}$ for each agent action event and update state variables"
   ]
  },
  {
   "cell_type": "markdown",
   "metadata": {},
   "source": [
    "State variables are updated in each iteration\n",
    "            \n",
    "- $S \\rightarrow S - \\Delta s$\n",
    "- $Q_1 \\rightarrow Q_1$\n",
    "- $Q_0 \\rightarrow Q_0 + \\Delta q$\n",
    "- $S_1 \\rightarrow S_1$\n",
    "- $S_0 \\rightarrow S0 + \\Delta s $\n",
    "<br/> <br/> \n",
    "- $s \\rightarrow s - \\Delta s$\n",
    "- $q_1 \\rightarrow q_1$\n",
    "- $q_0 \\rightarrow q_0 + \\Delta q$\n",
    "- $s_1 \\rightarrow s_1$\n",
    "- $s_0 \\rightarrow s_0 + \\Delta s$\n",
    "<br/> <br/> \n",
    "- $\\alpha_t \\rightarrow \\alpha_{t+1}$\n"
   ]
  },
  {
   "cell_type": "code",
   "execution_count": 11,
   "metadata": {},
   "outputs": [
    {
     "name": "stdout",
     "output_type": "stream",
     "text": [
      "D =  0.004975124378109453\n",
      "alpha_bar =  0.0002762096825186302\n",
      "alpha[i] = 0.5 | new_alpha =  0.4986325965936587\n",
      "deltas = 1  | deltaq0 =  5.773502691896324\n",
      "Q0[i] =  100\n",
      "s[i] = 50\n",
      "____________________________\n",
      "D =  0.01951219512195122\n",
      "alpha_bar =  9.93870323219118e-05\n",
      "alpha[i] = 0.4986325965936587 | new_alpha =  0.4932824841008054\n",
      "deltas = 4  | deltaq0 =  12.213672050459229\n",
      "Q0[i] =  105.77350269189633\n",
      "s[i] = 49\n",
      "____________________________\n",
      "D =  0.023809523809523808\n",
      "alpha_bar =  8.316580374521868e-05\n",
      "alpha[i] = 0.4932824841008054 | new_alpha =  0.48682392159929627\n",
      "deltas = 5  | deltaq0 =  15.232078761440219\n",
      "Q0[i] =  117.98717474235555\n",
      "s[i] = 45\n",
      "____________________________\n",
      "D =  0.027777777777777776\n",
      "alpha_bar =  7.565337391352601e-05\n",
      "alpha[i] = 0.48682392159929627 | new_alpha =  0.47938748972363066\n",
      "deltas = 6  | deltaq0 =  18.84004750742875\n",
      "Q0[i] =  133.21925350379576\n",
      "s[i] = 40\n",
      "____________________________\n",
      "D =  0.0136986301369863\n",
      "alpha_bar =  0.00013975791181913242\n",
      "alpha[i] = 0.47938748972363066 | new_alpha =  0.4757767191414869\n",
      "deltas = 3  | deltaq0 =  15.205930101122458\n",
      "Q0[i] =  152.0593010112245\n",
      "s[i] = 34\n",
      "____________________________\n",
      "alpha[i] = 0.4757767191414869 | new_alpha =  0.4757767191414869\n",
      "deltas = 0  | deltaq0 =  0.0\n",
      "Q0[i] =  167.26523111234695\n",
      "s[i] = 31\n",
      "____________________________\n",
      "D =  0.004545454545454545\n",
      "alpha_bar =  0.00033966195230490794\n",
      "alpha[i] = 0.4757767191414869 | new_alpha =  0.474588126498514\n",
      "deltas = 1  | deltaq0 =  9.657062620877959\n",
      "Q0[i] =  167.26523111234695\n",
      "s[i] = 31\n",
      "____________________________\n",
      "D =  0.030837004405286344\n",
      "alpha_bar =  8.126317760373597e-05\n",
      "alpha[i] = 0.474588126498514 | new_alpha =  0.466540322869503\n",
      "deltas = 7  | deltaq0 =  27.025326771923865\n",
      "Q0[i] =  176.9222937332249\n",
      "s[i] = 30\n",
      "____________________________\n",
      "D =  0.03404255319148936\n",
      "alpha_bar =  7.269177272845132e-05\n",
      "alpha[i] = 0.466540322869503 | new_alpha =  0.45780646084045706\n",
      "deltas = 8  | deltaq0 =  33.30450696615984\n",
      "Q0[i] =  203.94762050514876\n",
      "s[i] = 23\n",
      "____________________________\n",
      "D =  0.016736401673640166\n",
      "alpha_bar =  0.00013666442338167414\n",
      "alpha[i] = 0.45780646084045706 | new_alpha =  0.45359360078975597\n",
      "deltas = 4  | deltaq0 =  27.39551593227437\n",
      "Q0[i] =  237.2521274713086\n",
      "s[i] = 15\n",
      "____________________________\n",
      "D =  0.020491803278688523\n",
      "alpha_bar =  0.000125828764726423\n",
      "alpha[i] = 0.45359360078975597 | new_alpha =  0.44848279598209684\n",
      "deltas = 5  | deltaq0 =  34.165863850503804\n",
      "Q0[i] =  264.64764340358295\n",
      "s[i] = 11\n",
      "____________________________\n",
      "D =  0.024\n",
      "alpha_bar =  0.00011371442847712354\n",
      "alpha[i] = 0.44848279598209684 | new_alpha =  0.44256432410558905\n",
      "deltas = 6  | deltaq0 =  42.25861145790009\n",
      "Q0[i] =  298.81350725408674\n",
      "s[i] = 6\n",
      "____________________________\n",
      "D =  0.007936507936507936\n",
      "alpha_bar =  0.0002540044970505484\n",
      "alpha[i] = 0.44256432410558905 | new_alpha =  0.4406336044565042\n",
      "deltas = 2  | deltaq0 =  27.848421877811134\n",
      "Q0[i] =  341.07211871198683\n",
      "s[i] = 0\n",
      "____________________________\n"
     ]
    }
   ],
   "source": [
    "import math\n",
    "\n",
    "for i in range(len(deltas)): \n",
    "  \n",
    "    A = 1+(deltas[i]/S)\n",
    "    deltaq0 = Q0[i]*(math.sqrt(A-1))\n",
    "    \n",
    "    if deltas[i] == 0:\n",
    "        new_alpha = alpha[i]\n",
    "        print(\"alpha[i] =\", alpha[i], \"| new_alpha = \", new_alpha)\n",
    "        print(\"deltas =\", deltas[i], \" | deltaq0 = \", deltaq0)\n",
    "        print(\"Q0[i] = \", Q0[i])\n",
    "        print(\"s[i] =\" , s[i])\n",
    "        print(\"____________________________\")\n",
    "    else:    \n",
    "        attest_prop_after = (q0[i]+deltaq0)/(Q0[i]+deltaq0)\n",
    "        supply_prop_after = (S0[i]+deltas[i])/S\n",
    "        attest_supply_before = (q0[i]/Q0[i])*(S0[i]/S)\n",
    "    \n",
    "        B = (attest_prop_after * supply_prop_after) - attest_supply_before\n",
    "    \n",
    "        D = deltas[i]/(S1[i]+S0[i]+deltas[i])\n",
    "    \n",
    "        pre1= B-deltas[i]/S\n",
    "\n",
    "        pre2 = ((deltas[i]/S)*C)\n",
    "    \n",
    "        alpha_bar = (R*(pre1))/((pre2*C)+(B*R))\n",
    "    \n",
    "        T1 = E*alpha[i]\n",
    "    \n",
    "        T2 = (1-E)*(1-D)*alpha[i]\n",
    "    \n",
    "        T3 = (1-E)*(D)*alpha_bar\n",
    "    \n",
    "        new_alpha = T1+T2+T3\n",
    "    \n",
    "        print(\"D = \", D)\n",
    "        print(\"alpha_bar = \", alpha_bar)\n",
    "        print(\"alpha[i] =\", alpha[i], \"| new_alpha = \", new_alpha)\n",
    "        print(\"deltas =\", deltas[i], \" | deltaq0 = \", deltaq0)\n",
    "        print(\"Q0[i] = \", Q0[i])\n",
    "        print(\"s[i] =\" , s[i])\n",
    "        print(\"____________________________\")  \n",
    "    \n",
    "    # Update operations\n",
    "    Q0.append(Q0[i] + deltaq0)\n",
    "    S0.append(S0[i] + deltas[i])\n",
    "    S1.append(S1[i])\n",
    "    s0.append(s0[i] + deltas[i])\n",
    "    s.append(s[i] - deltas[i])\n",
    "    q0.append(deltaq0)\n",
    "    alpha.append(new_alpha)"
   ]
  },
  {
   "cell_type": "markdown",
   "metadata": {},
   "source": [
    "## Tests for $\\alpha$ heuristic model"
   ]
  },
  {
   "cell_type": "markdown",
   "metadata": {},
   "source": [
    "### Model 1 - Using Expected Payout\n",
    "\n",
    "$$\\Delta s = random(0-0.5)*s*\\left(\\frac{q_1}{Q_1}(C+R) + \\frac{q_0}{Q_0}(R) \\right)$$ \n"
   ]
  },
  {
   "cell_type": "code",
   "execution_count": 102,
   "metadata": {},
   "outputs": [
    {
     "name": "stdout",
     "output_type": "stream",
     "text": [
      "theta =  5200.0\n",
      "% s =  0.45\n",
      "delta s =  117000.0\n"
     ]
    }
   ],
   "source": [
    "import random\n",
    "\n",
    "E = 0.45\n",
    "C = 7000\n",
    "R = 3000\n",
    "S = 300\n",
    "\n",
    "Q0 = [100]\n",
    "q0 = [40]\n",
    "Q1 = [150]\n",
    "q1 = [60]\n",
    "S1 = [100] \n",
    "S0 = [100]\n",
    "s0 = [0]\n",
    "s = 50\n",
    "\n",
    "alpha = 0.8\n",
    "private_alpha = 0.6\n",
    "\n",
    "pre1 = (q1[0]/Q1[0])*(C+R)\n",
    "pre2 = (q0[0]/Q0[0])*(R)\n",
    "\n",
    "theta = pre1+pre2\n",
    "rand_percent = random.randint(0,50)/100\n",
    "\n",
    "del_s = rand_percent*(pre1 + pre2)*s\n",
    "\n",
    "print(\"theta = \", theta)\n",
    "print(\"% s = \", rand_percent)\n",
    "print(\"delta s = \", del_s)"
   ]
  },
  {
   "cell_type": "markdown",
   "metadata": {},
   "source": [
    "### Model 2 - Using difference in $\\alpha$ and $\\hat\\alpha$\n",
    "\n",
    "$$\\Delta s = random(0 - 0.5)*s*10*(\\alpha-\\bar\\alpha)$$ "
   ]
  },
  {
   "cell_type": "code",
   "execution_count": 104,
   "metadata": {},
   "outputs": [
    {
     "name": "stdout",
     "output_type": "stream",
     "text": [
      "0.44\n",
      "21.999999999999996\n"
     ]
    }
   ],
   "source": [
    "import random\n",
    "\n",
    "E = 0.45\n",
    "C = 7000\n",
    "R = 3000\n",
    "S = 300\n",
    "\n",
    "Q0 = [100]\n",
    "q0 = [40]\n",
    "Q1 = [150]\n",
    "q1 = [60]\n",
    "S1 = [100] \n",
    "S0 = [100]\n",
    "s0 = [0]\n",
    "s = 50\n",
    "\n",
    "alpha = 0.5\n",
    "private_alpha = 0.4\n",
    "\n",
    "rand_percent = random.randint(0,50)/100\n",
    "\n",
    "del_s = (alpha-private_alpha)*10*(rand_percent*s)\n",
    "\n",
    "print(rand_percent)\n",
    "print(del_s)"
   ]
  },
  {
   "cell_type": "markdown",
   "metadata": {},
   "source": [
    "#### Model 2: Trial w/ minimum choice of s\n",
    "Set rand_percent = 0"
   ]
  },
  {
   "cell_type": "code",
   "execution_count": 105,
   "metadata": {},
   "outputs": [
    {
     "name": "stdout",
     "output_type": "stream",
     "text": [
      "0.0\n",
      "0.0\n"
     ]
    }
   ],
   "source": [
    "import random\n",
    "\n",
    "E = 0.45\n",
    "C = 7000\n",
    "R = 3000\n",
    "S = 300\n",
    "\n",
    "Q0 = [100]\n",
    "q0 = [40]\n",
    "Q1 = [150]\n",
    "q1 = [60]\n",
    "S1 = [100] \n",
    "S0 = [100]\n",
    "s0 = [0]\n",
    "s = 50\n",
    "\n",
    "alpha = 0.5\n",
    "private_alpha = 0.4\n",
    "\n",
    "rand_percent = 0/100\n",
    "\n",
    "del_s = (alpha-private_alpha)*10*(rand_percent*s)\n",
    "\n",
    "print(rand_percent)\n",
    "print(del_s)"
   ]
  },
  {
   "cell_type": "markdown",
   "metadata": {},
   "source": [
    "#### Model 2: Trial w/ maximum choice of s\n",
    "Set rand_percent = 50"
   ]
  },
  {
   "cell_type": "code",
   "execution_count": 107,
   "metadata": {},
   "outputs": [
    {
     "name": "stdout",
     "output_type": "stream",
     "text": [
      "0.5\n",
      "24.999999999999993\n"
     ]
    }
   ],
   "source": [
    "import random\n",
    "\n",
    "E = 0.45\n",
    "C = 7000\n",
    "R = 3000\n",
    "S = 300\n",
    "\n",
    "Q0 = [100]\n",
    "q0 = [40]\n",
    "Q1 = [150]\n",
    "q1 = [60]\n",
    "S1 = [100] \n",
    "S0 = [100]\n",
    "s0 = [0]\n",
    "s = 50\n",
    "\n",
    "alpha = 0.5\n",
    "private_alpha = 0.4\n",
    "\n",
    "rand_percent = 50/100\n",
    "\n",
    "del_s = (alpha-private_alpha)*10*(rand_percent*s)\n",
    "\n",
    "print(rand_percent)\n",
    "print(del_s)"
   ]
  },
  {
   "cell_type": "markdown",
   "metadata": {},
   "source": [
    "### Model 3 - Using discrete buckets based on $| \\alpha - \\hat\\alpha |$\n",
    "\n",
    "To attest, an agent needs to make a choice of $\\Delta s$ quantity of tokens to bond towards positive attetstations $S_1$ or towards negative attetstations $S_0$. \n",
    "\n",
    "The choice of $\\Delta s$ is primarily based on the difference between the agent's private belief of alpha, $\\hat\\alpha$ and the system alpha, $\\alpha$. \n",
    "\n",
    "$$\\Delta s \t\\propto |\\alpha - \\hat\\alpha|$$\n",
    "\n",
    "We design a heuristric that scales $\\Delta s$ based on the difference between the agent's $\\hat\\alpha$ and the system $\\alpha$, while avoiding double spend i.e $Delta s$ cannot exceed the agent's current token holdings $s$.\n",
    "\n",
    "$$\\Delta s = random(0-0.25)*s \\space \\vee \\space random(0.25-0.5)*s \\space \\vee \\space random(0.5-0.75)*s \\space \\vee \\space random(0.75-1)*s $$"
   ]
  },
  {
   "cell_type": "code",
   "execution_count": 4,
   "metadata": {},
   "outputs": [
    {
     "name": "stdout",
     "output_type": "stream",
     "text": [
      "0.09999999999999998\n",
      "2.0\n"
     ]
    }
   ],
   "source": [
    "import random\n",
    "\n",
    "E = 0.45\n",
    "C = 7000\n",
    "R = 3000\n",
    "S = 300\n",
    "\n",
    "Q0 = [100]\n",
    "q0 = [40]\n",
    "Q1 = [150]\n",
    "q1 = [60]\n",
    "S1 = [100] \n",
    "S0 = [100]\n",
    "s0 = [0]\n",
    "s = 50\n",
    "\n",
    "alpha = 0.5\n",
    "private_alpha = 0.4\n",
    "\n",
    "diff = abs(alpha - private_alpha)\n",
    "\n",
    "print(diff)\n",
    "\n",
    "if diff > 0.75 and diff <= 1:\n",
    "    del_s = (random.randint(75, 100)/100)*s\n",
    "    \n",
    "elif diff > 0.5 and diff <= 0.75:\n",
    "    del_s = (random.randint(50, 75)/100)*s\n",
    "\n",
    "elif diff > 0.25 and diff <= 0.5:\n",
    "    del_s = (random.randint(25, 50)/100)*s\n",
    "\n",
    "elif diff > 0 and diff <= 0.25:\n",
    "    del_s = (random.randint(1, 25)/100)*s\n",
    "\n",
    "\n",
    "print(del_s)"
   ]
  },
  {
   "cell_type": "markdown",
   "metadata": {},
   "source": [
    "#### Model 3: Trial w/ minimum of $| \\alpha - \\hat\\alpha |$\n",
    "\n",
    "Set $\\alpha = 0.6$ and $\\hat\\alpha = 0.6$"
   ]
  },
  {
   "cell_type": "code",
   "execution_count": 2,
   "metadata": {},
   "outputs": [
    {
     "name": "stdout",
     "output_type": "stream",
     "text": [
      "0.0\n",
      "No attestation\n",
      "0\n"
     ]
    }
   ],
   "source": [
    "import random\n",
    "\n",
    "E = 0.45\n",
    "C = 7000\n",
    "R = 3000\n",
    "S = 300\n",
    "\n",
    "Q0 = [100]\n",
    "q0 = [40]\n",
    "Q1 = [150]\n",
    "q1 = [60]\n",
    "S1 = [100] \n",
    "S0 = [100]\n",
    "s0 = [0]\n",
    "s = 50\n",
    "\n",
    "alpha = 0.6\n",
    "private_alpha = 0.6\n",
    "\n",
    "diff = abs(alpha - private_alpha)\n",
    "\n",
    "print(diff)\n",
    "\n",
    "if diff > 0.75 and diff <= 1:\n",
    "    del_s = (random.randint(75, 100)/100)*s\n",
    "    \n",
    "elif diff > 0.5 and diff <= 0.75:\n",
    "    del_s = (random.randint(50, 75)/100)*s\n",
    "\n",
    "elif diff > 0.25 and diff <= 0.5:\n",
    "    del_s = (random.randint(25, 50)/100)*s\n",
    "\n",
    "elif diff > 0 and diff <= 0.25:\n",
    "    del_s = (random.randint(1, 25)/100)*s\n",
    "\n",
    "else: \n",
    "    del_s = 0\n",
    "    print(\"No attestation\")\n",
    "\n",
    "\n",
    "print(del_s)"
   ]
  },
  {
   "cell_type": "markdown",
   "metadata": {},
   "source": [
    "#### Model 3: Trial w/ maximum of $| \\alpha - \\hat\\alpha |$\n",
    "\n",
    "Set $\\alpha = 1$ and $\\hat\\alpha = 0$"
   ]
  },
  {
   "cell_type": "code",
   "execution_count": 9,
   "metadata": {},
   "outputs": [
    {
     "name": "stdout",
     "output_type": "stream",
     "text": [
      "1\n",
      "41.0\n"
     ]
    }
   ],
   "source": [
    "import random\n",
    "\n",
    "E = 0.45\n",
    "C = 7000\n",
    "R = 3000\n",
    "S = 300\n",
    "\n",
    "Q0 = [100]\n",
    "q0 = [40]\n",
    "Q1 = [150]\n",
    "q1 = [60]\n",
    "S1 = [100] \n",
    "S0 = [100]\n",
    "s0 = [0]\n",
    "s = 50\n",
    "\n",
    "alpha = 1\n",
    "private_alpha = 0\n",
    "\n",
    "diff = abs(alpha - private_alpha)\n",
    "\n",
    "print(diff)\n",
    "\n",
    "if diff > 0.75 and diff <= 1:\n",
    "    del_s = (random.randint(75, 100)/100)*s\n",
    "    \n",
    "elif diff > 0.5 and diff <= 0.75:\n",
    "    del_s = (random.randint(50, 75)/100)*s\n",
    "\n",
    "elif diff > 0.25 and diff <= 0.5:\n",
    "    del_s = (random.randint(25, 50)/100)*s\n",
    "\n",
    "elif diff > 0 and diff <= 0.25:\n",
    "    del_s = (random.randint(1, 25)/100)*s\n",
    "\n",
    "\n",
    "print(del_s)"
   ]
  },
  {
   "cell_type": "markdown",
   "metadata": {},
   "source": [
    "### Model 4 - Using variable bandwidth thresholds on $\\alpha$"
   ]
  },
  {
   "cell_type": "markdown",
   "metadata": {},
   "source": [
    "To account for variations in agent's uncertainty at extremes i.e when $\\alpha = 0$ or $\\alpha = 1$, we define a threshold band between $g_1$ and $g_0$. The thickness of the band represents the range of $\\Delta s$ choices that an agent searches whilst making an attestation. Typically, the band is fat at  $\\alpha = 0.5$ since the agent is uncertain about how many tokens to attest. However, at the extremes $\\alpha = 0$ and $\\alpha = 1$, the agent's search range decreases as they are more confident about their choice of $\\Delta s$.\n",
    "\n",
    "$d$ modulates the curvature of the band. A small $d$ indicates that the agents are equally uncertain at means and extremes. A large $g$ indicates that agents are very uncertain at $\\alpha = 0.5$ but relatively certain at the extremes $\\alpha = 0$ and $\\alpha = 1$.\n",
    "<br/><br/>\n",
    "$f$ is a parameter that controls whether the agents are fully certain at the extremes.\n",
    "<br/>\n",
    "$$d = 4\\sigma(1-\\alpha)(\\alpha)$$\n",
    "\n",
    "The upper band $g_1$ is defined by\n",
    "$$g_1 = d + (1-d-f)\\alpha + f$$\n",
    "\n",
    "The lower band $g_0$ is defined by\n",
    "$$g_0 = (1-d-f)\\alpha$$"
   ]
  },
  {
   "cell_type": "markdown",
   "metadata": {},
   "source": [
    "$$max\\_attest = ps + (g_1-g_0)$$\n",
    "$$min\\_attest = ps - (g_1-g_0)$$\n",
    "where $p$ is the designer-defined percentage of $s$ tokens that the agent considers attesting with\n",
    "\n",
    "$$\\Delta s = rand(min\\_attest, max\\_attest)$$"
   ]
  },
  {
   "cell_type": "markdown",
   "metadata": {},
   "source": [
    "### Model 5 - Using variable bandwidth thresholds on $\\alpha - \\hat\\alpha$"
   ]
  },
  {
   "cell_type": "markdown",
   "metadata": {},
   "source": [
    "$m$ modulates the curvature of the band. A small $m$ indicates that the agents are equally uncertain at means and extremes. A large $m$ indicates that agents are very uncertain at $|\\alpha-\\hat\\alpha|= 0.5$ but relatively certain at the extremes $|\\alpha-\\hat\\alpha| = 0$ and $|\\alpha-\\hat\\alpha|= 1$.\n",
    "$$d = 4*m*(1-a)(a)$$\n",
    "<br/>\n",
    "$a$ is the difference between the system alpha and the agent's private beleif of alpha.\n",
    "$$a = |\\alpha-\\hat\\alpha|$$\n",
    "<br/>\n",
    "$f$ is a parameter that controls whether the agents are fully certain at the extremes.\n",
    "\n",
    "The upper band $g_1$ is defined by\n",
    "$$g_1 = d + (1-d-f)a + f$$\n",
    "\n",
    "The lower band $g_0$ is defined by\n",
    "$$g_0 = (1-d-f)a$$"
   ]
  },
  {
   "cell_type": "markdown",
   "metadata": {},
   "source": [
    "The agent's choice of how many tokens they would like to use for attestation is\n",
    "$$\\Delta s = rand(g_0, g_1) * s$$"
   ]
  },
  {
   "cell_type": "code",
   "execution_count": 8,
   "metadata": {},
   "outputs": [
    {
     "name": "stdout",
     "output_type": "stream",
     "text": [
      "a =  0.19999999999999996\n",
      "del_s =  4.760031945033044\n"
     ]
    }
   ],
   "source": [
    "import random\n",
    "\n",
    "alpha = 0.5\n",
    "alpha_hat = 0.7\n",
    "s = 20\n",
    "\n",
    "a = abs(alpha - alpha_hat)\n",
    "\n",
    "f = 0.03\n",
    "m = 0.15\n",
    "\n",
    "d = 4*m*(1-a)*(a)\n",
    "\n",
    "g1 = d + (1-d-f)*a + f\n",
    "g0 = (1-d-f)*a\n",
    "\n",
    "del_s = random.uniform(g0,g1)*s\n",
    "\n",
    "print(\"a = \", a)\n",
    "print(\"del_s = \", del_s)\n"
   ]
  },
  {
   "cell_type": "code",
   "execution_count": null,
   "metadata": {},
   "outputs": [],
   "source": []
  },
  {
   "cell_type": "code",
   "execution_count": null,
   "metadata": {},
   "outputs": [],
   "source": []
  }
 ],
 "metadata": {
  "kernelspec": {
   "display_name": "Python 3",
   "language": "python",
   "name": "python3"
  },
  "language_info": {
   "codemirror_mode": {
    "name": "ipython",
    "version": 3
   },
   "file_extension": ".py",
   "mimetype": "text/x-python",
   "name": "python",
   "nbconvert_exporter": "python",
   "pygments_lexer": "ipython3",
   "version": "3.7.4"
  }
 },
 "nbformat": 4,
 "nbformat_minor": 4
}
