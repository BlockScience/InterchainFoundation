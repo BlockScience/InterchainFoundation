{
 "cells": [
  {
   "cell_type": "code",
   "execution_count": 1,
   "metadata": {},
   "outputs": [],
   "source": [
    "# import libraries\n",
    "import matplotlib.pyplot as plt\n",
    "import numpy as np\n",
    "import scipy.stats as sts\n",
    "import seaborn as sns\n",
    "\n",
    "%matplotlib inline\n",
    "from bonding_curve_eq import *"
   ]
  },
  {
   "cell_type": "markdown",
   "metadata": {},
   "source": [
    "## System Initialization"
   ]
  },
  {
   "cell_type": "code",
   "execution_count": 13,
   "metadata": {},
   "outputs": [],
   "source": [
    "money_raised = 1000 # money raised in fiat, m\n",
    "fiat_price = .1 # fiat per tokens, P_i\n",
    "rho0 = .5 # reserve ratio\n",
    "\n",
    "R0 = rho0*money_raised # initial reserve\n",
    "S0 = money_raised/fiat_price # initial supply\n",
    "\n",
    "kappa0 = 1/rho0 # curvature of bonding curve\n",
    "alpha0 = 1 - rho0 # initial alpha\n",
    "V0 = invariant_V0(R0, S0, kappa0)\n",
    "P0 = spot_price(R0, V0, kappa0)\n",
    "\n",
    "S_pos = 0 # supply tokens bonded to positive attestation, S_omega=1\n",
    "S_neg = 0 # supply tokens bonded to negative attestation, S_omega=0\n",
    "\n",
    "commitment = 800 # impact payers' payout commitment, C"
   ]
  },
  {
   "cell_type": "markdown",
   "metadata": {},
   "source": [
    "## Agent Initialization"
   ]
  },
  {
   "cell_type": "code",
   "execution_count": 11,
   "metadata": {},
   "outputs": [],
   "source": [
    "alpha_belief = alpha0 # agent's private belief of alpha, omega\n",
    "price_belief = P0 # agent's private belief of price, p_i\n",
    "\n",
    "attestations_pos = 0 # positive attestations held by agent, Q_omega=1\n",
    "attestations_neg = 0 # negative attestations held by agent, Q_omega=0\n",
    "\n",
    "#param for open loop\n",
    "rules = [\"martin\", \"step\",\"ramp\", \"sin\"]"
   ]
  },
  {
   "cell_type": "markdown",
   "metadata": {},
   "source": [
    "## Parameters"
   ]
  },
  {
   "cell_type": "code",
   "execution_count": 12,
   "metadata": {},
   "outputs": [],
   "source": [
    "params = {\n",
    "    'kappa': [kappa0],\n",
    "    'alpha': [alpha0],\n",
    "    'invariant_V0': [V0],\n",
    "    'invariant_I0': [I0],\n",
    "    'rule' : rules,\n",
    "    'dP' : ['N/A', P0/4, P0/1000, P0/2],\n",
    "    'period': ['N/A', 2000,2000,2000]}"
   ]
  },
  {
   "cell_type": "markdown",
   "metadata": {},
   "source": [
    "## Initial Conditions"
   ]
  },
  {
   "cell_type": "code",
   "execution_count": 14,
   "metadata": {},
   "outputs": [],
   "source": [
    "initial_conditions = {'reserve': R0,\n",
    "                      'supply': S0,\n",
    "                      'price': P0,\n",
    "                      'spot_price': P0,\n",
    "                      'alpha': alpha0,\n",
    "                      'spot_alpha': alpha0,\n",
    "                      'rho': rho0\n",
    "                      }"
   ]
  },
  {
   "cell_type": "code",
   "execution_count": 22,
   "metadata": {},
   "outputs": [],
   "source": [
    "def set_action(params, step, sL, s):\n",
    "    \n",
    "    R = s['reserve']\n",
    "    S = s['supply']\n",
    "    V0 = params['invariant_V0']\n",
    "    P = s['spot_price']\n",
    "    alpha = s['spot_alpha']\n",
    "    period = params['period']\n",
    "    \n",
    "    if params['rule'] == 'sin':\n",
    "        price_belief_a = P0 + params['dP']*np.sin(2*np.pi*s['timestep']/period)\n",
    "        print(\"price_belief_a = \", price_belief_a)\n",
    "        \n",
    "    if P > price_belief_a:\n",
    "        mech = 'burn'\n",
    "    elif P < price_belief_a:\n",
    "        mech = 'bond'\n",
    "    else: \n",
    "        # don't trade \n",
    "        print(\"No trade\")\n",
    "        \n",
    "    \n",
    "    if alpha > alpha_belief_a:\n",
    "        mech = 'attest_neg'\n",
    "    elif alpha < alpha_belief_a:\n",
    "        mech = 'attest_pos'\n",
    "    else:\n",
    "        # don't attest\n",
    "        print(\"No attestation\")\n",
    "        \n",
    "    ####### Any syntax related changes required here? #######\n",
    "    # design pattern for action\n",
    "    \n",
    "    action = {'mech':mech, 'amt':amt,'pin':price_belief_a,'pbar':pbar(amt),'posterior':{}}\n",
    "    \n",
    "    \n",
    "    \n",
    "    "
   ]
  },
  {
   "cell_type": "code",
   "execution_count": null,
   "metadata": {},
   "outputs": [],
   "source": []
  }
 ],
 "metadata": {
  "kernelspec": {
   "display_name": "Python 3",
   "language": "python",
   "name": "python3"
  },
  "language_info": {
   "codemirror_mode": {
    "name": "ipython",
    "version": 3
   },
   "file_extension": ".py",
   "mimetype": "text/x-python",
   "name": "python",
   "nbconvert_exporter": "python",
   "pygments_lexer": "ipython3",
   "version": "3.7.4"
  }
 },
 "nbformat": 4,
 "nbformat_minor": 4
}
