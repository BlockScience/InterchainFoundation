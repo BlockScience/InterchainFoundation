{
 "cells": [
  {
   "cell_type": "markdown",
   "metadata": {},
   "source": [
    "### Lemma 1: Initialization Price $P_i$ is equal to state variable Price $P_0$ at $t=0$ \n",
    "Let M refer to the total amount of money raised by the bond during the Initialization Phase. This money is divided such that a portion of the funds F is used to directly fund the project, and the remaining amount R is injected into the bonding curve reserve. This gives $$M = R + F$$<br> Since the amount of funds in the bonding curve at time $t=0$ is proportional to the reserve ratio $\\rho_0$ at $t=0$, $R_0$ is $$R_0 = \\rho_0 M$$<br> Which gives $F_0$ that goes to directly fund the project $$F_0=(1-\\rho_0)M$$<br>  Initialization Price $P_i$ can be defined as the amount of supply tokens $S$ that can be obtained per unit $M$ $$P_i = \\frac{M}{S_0}$$<br> This gives the supply during Initialization $S_0$ $$S_0 = \\frac{M}{P_i}$$<br> The amount of funds directed towards the project $F_0$ is directly and linearly proportional to the bond's initial likelihood of success. From this, we can infer $$F_0=\\alpha_0M$$<br> We know that $$F_0=(1-\\rho_0)M$$<br> From the above equations, we get $$\\alpha_0 = 1-\\rho_0$$<br> By definition, the state variable Price $P_0$ at $t=0$ is given by $$P_0=\\kappa_0\\frac{R_0}{S_0}$$<br> where $\\kappa_0=\\frac{1}{\\rho_0}$. Expanding for $R_0=\\rho_M$ and $S_0=M/P_i$, $$P_0 = \\frac{1}{\\rho_0} \\frac{\\rho_0M}{{M}/{P_i}}$$<br> Terms cancel out and we get $$P_0 = P_i$$<br> *Q.E.D*"
   ]
  },
  {
   "cell_type": "code",
   "execution_count": null,
   "metadata": {},
   "outputs": [],
   "source": []
  }
 ],
 "metadata": {
  "kernelspec": {
   "display_name": "Python 3",
   "language": "python",
   "name": "python3"
  },
  "language_info": {
   "codemirror_mode": {
    "name": "ipython",
    "version": 3
   },
   "file_extension": ".py",
   "mimetype": "text/x-python",
   "name": "python",
   "nbconvert_exporter": "python",
   "pygments_lexer": "ipython3",
   "version": "3.7.4"
  }
 },
 "nbformat": 4,
 "nbformat_minor": 4
}
