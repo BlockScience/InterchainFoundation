{
 "cells": [
  {
   "cell_type": "markdown",
   "metadata": {},
   "source": [
    "# Cross applicabiity of invariants\n",
    "The invariant $V_0 = \\frac{S^\\kappa}{R}$ is constant under the bond-to-mint and burn-to-withdraw mechanism. However, an attestation action may alter the value of $V_0$.\n",
    "\n",
    "Likewise, the invariant $I_0 = \\frac{C\\alpha}{1-\\rho} = R_0 + C$ is held constant under the attestation mechanism, but its value may change upon a bond-to-mint or burn-to-withdraw action.  \n",
    "\n",
    "| | Bond/Burn | Attest Positive/Negative |\n",
    "| :-: | :-: | :-: |\n",
    "| $V_0(R, S)$ | Constant | ? |\n",
    "| $I_0(\\alpha, R)$ | ? | Constant |"
   ]
  }
 ],
 "metadata": {
  "kernelspec": {
   "display_name": "Python 3",
   "language": "python",
   "name": "python3"
  },
  "language_info": {
   "codemirror_mode": {
    "name": "ipython",
    "version": 3
   },
   "file_extension": ".py",
   "mimetype": "text/x-python",
   "name": "python",
   "nbconvert_exporter": "python",
   "pygments_lexer": "ipython3",
   "version": "3.7.4"
  }
 },
 "nbformat": 4,
 "nbformat_minor": 4
}
