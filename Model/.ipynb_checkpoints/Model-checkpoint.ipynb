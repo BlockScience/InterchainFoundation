{
 "cells": [
  {
   "cell_type": "markdown",
   "metadata": {},
   "source": [
    "# Mathematical Model of a Risk-Adjusted Bonding Curve\n",
    "\n",
    "## Notations\n",
    "\n",
    "| Notation | Description |\n",
    "| :-: | :- |\n",
    "| $R$ | Bonding curve Reserve|\n",
    "| $S$ | Total token Supply |\n",
    "| $\\rho$ | Reserve ratio |\n",
    "| $\\kappa$ | Curvature of bonding curve|\n",
    "| $C$ | Impact payers' payout commitment |\n",
    "| $\\Omega$ | An agent's private belief of the likelihood of project success |\n",
    "| $\\alpha$ | The system's approximation of the likelihood of project success |\n",
    "| $P$ | Token price |\n",
    "| $Q_0$ | Claims on payouts conditioned on $\\Omega = 0$ |\n",
    "| $Q_1$ | Claims on payouts conditioned on $\\Omega = 1$ |\n",
    "| $S_{\\Omega=0}$ | Tokens bonded to attest that $\\Omega = 0$ |\n",
    "| $S_{\\Omega=1}$ | Tokens bonded to attest that $\\Omega = 1$|\n",
    "\n",
    "\n",
    "## System Description\n",
    "#### State variables\n",
    "\n",
    "#### Parameters \n",
    "$C$\n",
    "#### Outcomes\n",
    "$\\Omega$\n",
    "\n",
    "## Phases\n",
    "### Intialization\n",
    "### Execution\n",
    "### Close out\n",
    "\n",
    "## Mechanisms\n",
    "### Bond-to-Mint and Burn-to-Withdraw\n",
    "### Attestation"
   ]
  }
 ],
 "metadata": {
  "kernelspec": {
   "display_name": "Python 3",
   "language": "python",
   "name": "python3"
  },
  "language_info": {
   "codemirror_mode": {
    "name": "ipython",
    "version": 3
   },
   "file_extension": ".py",
   "mimetype": "text/x-python",
   "name": "python",
   "nbconvert_exporter": "python",
   "pygments_lexer": "ipython3",
   "version": "3.7.3"
  }
 },
 "nbformat": 4,
 "nbformat_minor": 2
}
