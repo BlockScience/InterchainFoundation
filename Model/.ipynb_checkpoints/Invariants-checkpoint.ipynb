{
 "cells": [
  {
   "cell_type": "markdown",
   "metadata": {},
   "source": [
    "# Cross applicabiity of invariants\n",
    "The invariant $V_0 = \\frac{S^\\kappa}{R}$ is constant under the bond-to-mint and burn-to-withdraw mechanism. However, an attestation action may alter the value of $V_0$.\n",
    "\n",
    "Likewise, the invariant $I_0 = \\frac{C\\alpha}{1-\\rho} = R_0 + C$ is held constant under the attestation mechanism, but its value may change upon a bond-to-mint or burn-to-withdraw action.  \n",
    "\n",
    "| | Bond/Burn | Attest Positive/Negative |\n",
    "| :-: | :-: | :-: |\n",
    "| $V_0(R, S)$ | Constant | ? |\n",
    "| $I_0(\\alpha, R)$ | ? | Constant |"
   ]
  },
  {
   "cell_type": "markdown",
   "metadata": {},
   "source": [
    "\n",
    "The constant values of $V_0$ upon bond/burn and $I_0$ upon attestation can be calculated from the initial values of corresponding state variables. \n",
    "\n",
    "| | Bond/Burn | Attest Positive/Negative |\n",
    "| :-: | :-: | :-: |\n",
    "| $V_0(R, S)$ | $V_0 \\equiv \\frac{S_0^\\kappa}{R_0}$ | ? |\n",
    "| $I_0(\\alpha, R)$ | ? | $I_0 \\equiv \\frac{C\\alpha}{1-\\rho_0} \\equiv R_0 + C$ |"
   ]
  },
  {
   "cell_type": "markdown",
   "metadata": {},
   "source": [
    "### Change in $V$ upon Attestation\n",
    "Consider that an agent has made an postive attestation action. The changes in the state variables corresponding to the attestation are\n",
    "$$S_{f, t+1} = S_{f,t} - \\Delta s$$\n",
    "$$Q_{1,t+1} = Q_{1,t} + \\Delta q_1$$\n",
    "$$\\alpha_{t+1} = \\varepsilon(\\alpha) + (1-\\varepsilon)\\left(\\frac{S_1 + S_0}{S_1+S_0+\\Delta s}\\right)(\\alpha)+\\left(\\frac{\\Delta s}{S_1+S_0+\\Delta s}\\right)(\\bar\\alpha)$$ \n",
    "\n",
    "where $\\bar\\alpha = \\frac{\\Delta s R}{A(C+R)-\\Delta s (C)}$ and $A = \\frac{1}{Q_1(Q_1+\\Delta q_1)}q_1(Q_1\\Delta s - \\Delta q_1 s)+\\Delta q_1(Q_1s_1+Q_1\\Delta s)$\n",
    "\n",
    "<br/>$V$ depends on the state variables $S, R, \\kappa$. Upon a positive attestation, \n",
    "* $S$ does not change, since $S = S_1+S_0+S_{free}$. Thus $S_{t}$ &rarr; $S_{t}$\n",
    "* $R$ does not change\n",
    "* $\\kappa$ changes due to its relationship with $\\alpha$. $\\kappa_{t}$ &rarr; $\\kappa_{t+1}$\n",
    "\n",
    "During Attestation, $I$ is constant, so $I = I_0$ $$I_0 = \\frac{C \\alpha}{1-\\rho}$$ where $\\rho=1/\\kappa$. Solving for $\\kappa$, we have $$\\kappa = \\frac{I_0}{I_0-C\\alpha}$$\n",
    "\n",
    "Upon an attestation, $\\alpha_t \\rightarrow \\alpha_{t+1}$, so $\\kappa_t \\rightarrow \\kappa_{t+1}$ given by \n",
    "$$\\kappa_{t+1}=\\frac{I_0}{I_0-C\\alpha_{t+1}}\n",
    "$$\n",
    "\n",
    "This gives $V_t \\rightarrow V_{t+1}$ \n",
    "$$V_{t+1} = \\frac{S_0^{\\kappa_{t+1}}}{R_0}$$"
   ]
  }
 ],
 "metadata": {
  "kernelspec": {
   "display_name": "Python 3",
   "language": "python",
   "name": "python3"
  },
  "language_info": {
   "codemirror_mode": {
    "name": "ipython",
    "version": 3
   },
   "file_extension": ".py",
   "mimetype": "text/x-python",
   "name": "python",
   "nbconvert_exporter": "python",
   "pygments_lexer": "ipython3",
   "version": "3.7.4"
  }
 },
 "nbformat": 4,
 "nbformat_minor": 4
}
