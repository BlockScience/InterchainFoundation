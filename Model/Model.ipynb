{
 "cells": [
  {
   "cell_type": "markdown",
   "metadata": {},
   "source": [
    "# Mathematical Model of a Risk-Adjusted Bonding Curve\n",
    "\n",
    "The design paradigm employed by agents in this system is that of online learning, where agents make decisions based on information obtained sequentially over event execution."
   ]
  },
  {
   "cell_type": "markdown",
   "metadata": {},
   "source": [
    "## Notations\n",
    "\n",
    "| Notation | Description |\n",
    "| :-: | :- |\n",
    "| $R$ | Bonding curve Reserve|\n",
    "| $S$ | Total token Supply |\n",
    "| $\\rho$ | Reserve ratio |\n",
    "| $\\kappa$ | Curvature of bonding curve|\n",
    "| $C$ | Impact payers' payout commitment |\n",
    "| $\\Omega$ | An agent's private belief of the likelihood of project success |\n",
    "| $\\alpha$ | The system's approximation of the likelihood of project success |\n",
    "| $P$ | Token price |\n",
    "| $Q_{\\Omega=0}$ | Claims on payouts conditioned on $\\Omega = 0$ |\n",
    "| $Q_{\\Omega=1}$ | Claims on payouts conditioned on $\\Omega = 1$ |\n",
    "| $S_{\\Omega=0}$ | Tokens bonded to attest that $\\Omega = 0$ |\n",
    "| $S_{\\Omega=1}$ | Tokens bonded to attest that $\\Omega = 1$|"
   ]
  },
  {
   "cell_type": "markdown",
   "metadata": {},
   "source": [
    "## System Description\n",
    "### State variables\n",
    "The overall state of the system can be described using the following state variables $$R, S, \\kappa, \\rho, P_t, \\alpha, Q_{\\Omega=1}, Q_{\\Omega=0}, S_{\\Omega=1}, S_{\\Omega=0}$$\n",
    "\n",
    "\n",
    "##### Reserve\n",
    "The Reserve $R \\in \\mathbb{R}_{++}$ is defined as the total amount of bond tokens bonded as reserve funds under the bonding curve.\n",
    "\n",
    "##### Supply\n",
    "The Supply $S \\in \\mathbb{R}_{++}$ is defined as the total amount of impact tokens issued by the bonding curve contract.\n",
    "\n",
    "##### Bonding Curve Curvature\n",
    "The state variable $\\kappa$ describes the curvature of the bonding curve.\n",
    "\n",
    "##### Reserve Ratio\n",
    "The Reserve Ratio $\\rho \\in [0, 1]$ is determined by the bonding curve's curvature $\\kappa$, and is given by $$ \\rho = 1/\\kappa$$\n",
    "\n",
    "##### Price\n",
    "The Price $P$ is the price of a bond token and is dependent on the slope of the bonding curve, given by $$P = \\kappa * \\frac{R}{S}$$\n",
    "\n",
    "As $\\rho = \\frac{1}{\\kappa}$, we have $$P = \\frac{R}{\\rho \\cdot S}$$\n",
    "\n",
    "##### Alpha\n",
    "The Alpha $\\alpha \\in [0,1]$ at time $t$ is the system's conjecture of the likelihood of success of the bond, represented normalized such that $\\alpha = 0$ indicates that the project is estimated to fail, and $\\alpha = 1$ indicates the highest likelhood of success. \n",
    "\n",
    "We consider $\\alpha \\in [0,1]$ to be an estimator of $\\Omega$ that is learned from the Attestation Mechanism.\n",
    "\n",
    "##### Claim on Conditioned Payout\n",
    "The state variable $Q \\in \\mathbb{R}_{+}$ is defined as the number of claims on payouts conditioned on an attestation, which is either an attestation that $\\Omega=0$ for $Q_{\\Omega=0}$ claims, or that $\\Omega=0$ for $Q_{\\Omega=0}$ claims."
   ]
  },
  {
   "cell_type": "markdown",
   "metadata": {},
   "source": [
    "### Parameters \n",
    "The following parameters are set during Initialization Phase $$C$$\n",
    "\n",
    "The outcome payers' commitment $C \\in \\mathbb{R}_{+}$ is set during the Initialization Phase. The bond terms set during Initialization outline all $(C, \\Omega)$ pairs, and remain constant through the following phases. $C$ is known to all agents after the Initialization phase. \n",
    "\n",
    "### Outcomes\n",
    "The following outcomes are obtained during the Settlement Consideration Pause Phase $$\\Omega$$\n",
    "\n",
    "\n",
    "The outcome of the Execution phase, which includes the value of $\\Omega$ is known to all agents only during the Settlement Consideration Pause Phase."
   ]
  },
  {
   "cell_type": "markdown",
   "metadata": {},
   "source": [
    "## Phases\n",
    "### Intialization\n",
    "### Execution\n",
    "### Close out"
   ]
  },
  {
   "cell_type": "markdown",
   "metadata": {},
   "source": [
    "## First Tier Mechanisms\n",
    "### Bond-to-Mint and Burn-to-Withdraw\n",
    "### Attestation"
   ]
  },
  {
   "cell_type": "markdown",
   "metadata": {},
   "source": [
    "## Second Tier Mechanisms\n",
    "### Overcollateralization\n",
    "### Strategy proofing"
   ]
  },
  {
   "cell_type": "code",
   "execution_count": null,
   "metadata": {},
   "outputs": [],
   "source": []
  }
 ],
 "metadata": {
  "kernelspec": {
   "display_name": "Python 3",
   "language": "python",
   "name": "python3"
  },
  "language_info": {
   "codemirror_mode": {
    "name": "ipython",
    "version": 3
   },
   "file_extension": ".py",
   "mimetype": "text/x-python",
   "name": "python",
   "nbconvert_exporter": "python",
   "pygments_lexer": "ipython3",
   "version": "3.7.3"
  }
 },
 "nbformat": 4,
 "nbformat_minor": 2
}
