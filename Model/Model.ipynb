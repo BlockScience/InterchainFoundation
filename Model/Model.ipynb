{
 "cells": [
  {
   "cell_type": "markdown",
   "metadata": {},
   "source": [
    "# Mathematical Model of a Risk-Adjusted Bonding Curve\n",
    "\n",
    "The design paradigm employed by agents in this system is that of online learning, where agents make decisions based on information obtained sequentially over event execution."
   ]
  },
  {
   "cell_type": "markdown",
   "metadata": {},
   "source": [
    "## Notations\n",
    "\n",
    "| Notation | Description |\n",
    "| :-: | :- |\n",
    "| $R$ | Bonding curve Reserve|\n",
    "| $S$ | Total token Supply |\n",
    "| $\\rho$ | Reserve ratio |\n",
    "| $\\kappa$ | Curvature of bonding curve|\n",
    "| $C$ | Impact payers' payout commitment |\n",
    "| $\\Omega$ | An agent's private belief of the likelihood of project success |\n",
    "| $\\alpha$ | The system's approximation of the likelihood of project success |\n",
    "| $P$ | Token price |\n",
    "| $Q_{\\Omega=0}$ | Claims on payouts conditioned on $\\Omega = 0$ |\n",
    "| $Q_{\\Omega=1}$ | Claims on payouts conditioned on $\\Omega = 1$ |\n",
    "| $S_{\\Omega=0}$ | Tokens bonded to attest that $\\Omega = 0$ |\n",
    "| $S_{\\Omega=1}$ | Tokens bonded to attest that $\\Omega = 1$|"
   ]
  },
  {
   "cell_type": "markdown",
   "metadata": {},
   "source": [
    "## System Description\n",
    "### State variables\n",
    "The overall state of the system can be described using the following state variables $$R, S, \\kappa, \\rho, P_t, \\alpha, Q_{\\Omega=1}, Q_{\\Omega=0}, S_{\\Omega=1}, S_{\\Omega=0}$$\n",
    "\n",
    "\n",
    "##### Reserve\n",
    "The Reserve $R \\in \\mathbb{R}_{++}$ is defined as the total amount of bond tokens bonded as reserve funds under the bonding curve.\n",
    "\n",
    "##### Supply\n",
    "The Supply $S \\in \\mathbb{R}_{++}$ is defined as the total amount of impact tokens issued by the bonding curve contract.\n",
    "\n",
    "##### Bonding Curve Curvature\n",
    "The state variable $\\kappa$ describes the curvature of the bonding curve.\n",
    "\n",
    "##### Reserve Ratio\n",
    "The Reserve Ratio $\\rho \\in [0, 1]$ is determined by the bonding curve's curvature $\\kappa$, and is given by $$ \\rho = 1/\\kappa$$\n",
    "\n",
    "##### Price\n",
    "The Price $P$ is the price of a bond token and is dependent on the slope of the bonding curve, given by $$P = \\kappa * \\frac{R}{S}$$\n",
    "\n",
    "As $\\rho = \\frac{1}{\\kappa}$, we have $$P = \\frac{R}{\\rho \\cdot S}$$\n",
    "\n",
    "##### Alpha\n",
    "The Alpha $\\alpha \\in [0,1]$ at time $t$ is the system's conjecture of the likelihood of success of the bond, represented normalized such that $\\alpha = 0$ indicates that the project is estimated to fail, and $\\alpha = 1$ indicates the highest likelhood of success. \n",
    "\n",
    "We consider $\\alpha \\in [0,1]$ to be an estimator of $\\Omega$ that is learned from the Attestation Mechanism.\n",
    "\n",
    "##### Claim on Conditioned Payout\n",
    "The state variable $Q \\in \\mathbb{R}_{+}$ is defined as the number of claims on payouts conditioned on an attestation, which is either an attestation that $\\Omega=0$ for $Q_{\\Omega=0}$ claims, or that $\\Omega=0$ for $Q_{\\Omega=0}$ claims."
   ]
  },
  {
   "cell_type": "markdown",
   "metadata": {},
   "source": [
    "### Parameters \n",
    "The following parameters are set during Initialization Phase $$C$$\n",
    "\n",
    "The outcome payers' commitment $C \\in \\mathbb{R}_{+}$ is set during the Initialization Phase. The bond terms set during Initialization outline all $(C, \\Omega)$ pairs, and remain constant through the following phases. $C$ is known to all agents after the Initialization phase. \n",
    "\n",
    "### Outcomes\n",
    "The following outcomes are obtained during the Settlement Consideration Pause Phase $$\\Omega$$\n",
    "\n",
    "\n",
    "The outcome of the Execution phase, which includes the value of $\\Omega$ is known to all agents only during the Settlement Consideration Pause Phase."
   ]
  },
  {
   "cell_type": "markdown",
   "metadata": {},
   "source": [
    "## Phases\n",
    "### Intialization\n",
    "### Execution\n",
    "### Close out"
   ]
  },
  {
   "cell_type": "markdown",
   "metadata": {},
   "source": [
    "## First Tier Mechanisms\n",
    "### Bond-to-Mint and Burn-to-Withdraw\n",
    "\n",
    "### Attestation\n",
    "An agent chooses to Attest only if their private belief of $\\alpha$ is different from the true current $\\alpha$ of the system. \n",
    "\n",
    "At a given time $t$ an agent can either\n",
    "- Attest that $\\Omega = 1$\n",
    "- Attest that $\\Omega = 0$\n",
    "\n",
    "The Attestation mechanism is a bond-only mechanism, meaning that it does not allow agents to *unattest*, or undo an Attestation. \n",
    "\n",
    "The order in which Attestations are placed matters due to diminishing returns associated with attesting later. \n",
    "\n",
    "#### Outcome case: $\\Omega = 1$\n",
    "\n",
    "For the outcome case of claims towards attesting that $\\Omega=1$,\n",
    "\n",
    "| Quantity | Description |\n",
    "| :-: | :- |\n",
    "| $C + R$ | Total tokens in reserve|\n",
    "| $S_{\\Omega=1}$ | Tokens used to Attest that $\\Omega=1$|\n",
    "| $S_{free}$| Tokens not used to Attest that $\\Omega = 1$|\n",
    "| $Q_{\\Omega=1}$ | Claims on payouts conditioned on $\\Omega = 1$|\n",
    "| $Q_i$ | Claims on payouts conditioned on $\\Omega = 1$ held by an individual agent $i$|\n",
    "\n",
    "The total share of outcome payment that will be paid out to all $S_{\\Omega=1}$ holders is $$O_{S_{\\Omega = 1}} = \\frac{S_{\\Omega=1} + S_{\\Omega=0}}{S}$$\n",
    "\n",
    "From here, we derive the share of outcome payment that will be paid out to an individual $S_{\\Omega=1}$ holder, $i$ as $$\\Phi_{S_{\\Omega = 1}} = \\frac{S_{\\Omega=1} + S_{\\Omega=0}}{S} \\cdot \\frac{Q_i}{Q_{\\Omega=1}} \\cdot (C+R)$$\n",
    "\n",
    "The total share of outcome payment that will be paid out to all $S_{free}$ holders is $$O_{S_{free}} =\\frac{S_{free}}{S}$$\n",
    "\n",
    "Deriving the the share of outcome payment that will be paid out to an *individual* $S_{free}$ holder, $i$ as $$\\Phi_{S_{free}} = \\frac{S_{free}}{S} \\cdot \\frac{S_i}{S_{free}} \\cdot (C+R)$$\n",
    "\n",
    "Simplifying, $$\\Phi_{S_{free}} = \\frac{S_{i}}{S} \\cdot (C+R)$$\n",
    "\n",
    "#### Outcome case: $\\Omega = 0$\n",
    "For the outcome case of claims towards attesting that $\\Omega=0$,\n",
    "\n",
    "| Quantity | Description |\n",
    "| :-: | :- |\n",
    "| $R$ | Total tokens in reserve|\n",
    "| $S_{\\Omega=0}$ | Tokens used to Attest that $\\Omega=0$|\n",
    "| $S_{free}$| Tokens not used to Attest that $\\Omega = 0$|\n",
    "| $Q_{\\Omega=0}$ | Claims on payouts conditioned on $\\Omega = 0$|\n",
    "| $Q_i$ | Claims on payouts conditioned on $\\Omega = 0$ held by an individual agent $i$|\n",
    "\n",
    "The total share of outcome payment that will be paid out to all $S_{\\Omega=0}$ holders is $$O_{S_{\\Omega = 0}} = \\frac{S_{\\Omega=1} + S_{\\Omega=0}}{S}$$\n",
    "\n",
    "From here, we derive the share of outcome payment that will be paid out to an individual $S_{\\Omega=0}$ holder, $i$ as $$\\Phi_{S_{\\Omega=0}} = \\frac{S_{\\Omega=1} + S_{\\Omega=0}}{S} \\cdot \\frac{Q_i}{Q_{\\Omega=0}} \\cdot (R)$$\n",
    "\n",
    "The total share of outcome payment that will be paid out to all $S_{free}$ holders is $$O_{S_{free}} =\\frac{S_{free}}{S}$$\n",
    "\n",
    "Deriving the the share of outcome payment that will be paid out to an *individual* $S_{free}$ holder, $i$ as $$\\Phi_{S_{free}} = \\frac{S_{free}}{S} \\cdot \\frac{S_i}{S_{free}} \\cdot (R)$$\n",
    "\n",
    "Simplifying, $$\\Phi_{S_{free}} = \\frac{S_{i}}{S} \\cdot (R)$$\n",
    "\n"
   ]
  },
  {
   "cell_type": "markdown",
   "metadata": {},
   "source": [
    "## Second Tier Mechanisms\n",
    "### Overcollateralization\n",
    "### Strategy proofing"
   ]
  }
 ],
 "metadata": {
  "kernelspec": {
   "display_name": "Python 3",
   "language": "python",
   "name": "python3"
  },
  "language_info": {
   "codemirror_mode": {
    "name": "ipython",
    "version": 3
   },
   "file_extension": ".py",
   "mimetype": "text/x-python",
   "name": "python",
   "nbconvert_exporter": "python",
   "pygments_lexer": "ipython3",
   "version": "3.7.3"
  }
 },
 "nbformat": 4,
 "nbformat_minor": 2
}
