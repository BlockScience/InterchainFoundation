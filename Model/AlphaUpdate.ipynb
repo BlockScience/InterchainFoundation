{
 "cells": [
  {
   "cell_type": "markdown",
   "metadata": {},
   "source": [
    "# Alpha Update\n",
    "\n",
    "To define the expected payout at Settlement in terms of $\\alpha$, we need to first describe the system state and agent-level state.\n",
    "\n",
    "#### System State\n",
    "\n",
    "$\\alpha$ ; $\\space R,\\space S_0,\\space S_1,\\space S_{free} \\space$ and $\\space Q_0,\\space Q_1$\n",
    "\n",
    "where <br/>\n",
    "$R$ is the number of tokens in reserve <br/>\n",
    "$S_0$ is the number of tokens bonded to attest in favour of project failure <br/>\n",
    "$S_1$ is the number of tokens bonded to attest in favour of project success <br/>\n",
    "$S_{free}$ is the number of tokens freely available for trading or attestation <br/>\n",
    "$Q_0$ is the number of attestations in favour of project failure <br/>\n",
    "$Q_1$ is the number of attestations in favour of project success <br/>\n",
    "\n",
    "\n",
    "#### Agent-level State\n",
    "\n",
    "$\\hat\\alpha$ ; $\\space s_0,\\space s_1,\\space s_{free}\\space$ and $\\space q_0, \\space q_1$\n",
    "\n",
    "where <br/>\n",
    "$\\hat\\alpha$ is the agent's private belief of $\\alpha$ <br/>\n",
    "$s_0$ is the amount of tokens bonded to attest project failure held by the agent <br/>\n",
    "$s_1$ is the amount of tokens bonded to attest project success held by the agent <br/>\n",
    "$s_{free}$ is the amount of unbonded supply tokens held by the agent <br/>\n",
    "$q_0$ is the number of attestations towards project failure held by the agent <br/>\n",
    "$q_1$ is the number of attestations towards project success held by the agent <br/>\n"
   ]
  },
  {
   "cell_type": "markdown",
   "metadata": {},
   "source": [
    "### Expected Payout \n",
    "#### Current State \n",
    "Portion of expected payout associated with all unbonded tokens $S_{free}$\n",
    "$$\\frac{S_{free}}{S} (\\hat\\alpha C+R)$$\n",
    "\n",
    "Portion of expected payout associated with tokens bonded to attest project success $S_1$\n",
    "$$\\hat\\alpha \\frac{q_1}{Q_1} \\frac{S_1}{S} (C+R)$$\n",
    "\n",
    "Portion of expected payout associated with tokens bonded to attest project failure $S_0$\n",
    "$$(1-\\hat\\alpha) \\frac{q_0}{Q_0} \\frac{S_0}{S} (R)$$\n",
    "\n",
    "Putting all terms together, we obtain the total expected payout $\\mathbb E(\\Theta)$\n",
    "$$\\mathbb E(\\Theta) = \\frac{S_{free}}{S} (\\hat\\alpha_t C+R) + \\hat\\alpha_t \\frac{q_1}{Q_1} \\frac{S_1}{S} (C+R) + (1-\\hat\\alpha_t) \\frac{q_0}{Q_0} \\frac{S_0}{S} (R)$$\n",
    "\n",
    "#### Next State \n",
    "Let's say an agent discovers that their $\\hat \\alpha > \\alpha$. It chooses to make an attestation in favour of project success so as to increase $\\alpha$. The agent's attestation action transfers $\\Delta S$ quantity of supply tokens from $S_{free}$ to $S_1$. \n",
    "\n",
    "The expected payout after a positive attestation (i.e attest towards project success) will be\n",
    "$$\\mathbb E(\\Theta)^+ = \\frac{S_{free} - \\Delta S}{S} (\\hat\\alpha_{t+1} C+R) + \\hat\\alpha_{t+1} \\frac{q_1 + \\Delta q_1}{Q_1 + \\Delta q_1} \\frac{S_1 + \\Delta S}{S} (C+R) + (1-\\hat\\alpha_{t+1}) \\frac{q_0}{Q_0} \\frac{S_0}{S} (R)$$\n"
   ]
  },
  {
   "cell_type": "markdown",
   "metadata": {},
   "source": [
    "## Alpha update\n",
    "\n",
    "### Approach 1: State Machine \n",
    "To obtain the update in agent's private belief of $\\alpha$ after making a positive attestation, we subtract the $\\hat\\alpha$ terms from $\\mathbb E(\\Theta)$ and $\\mathbb E(\\Theta)^+$\n",
    "\n",
    "$$ \\frac{q_1 + \\Delta q_1}{Q_1 + \\Delta q_1} \\frac{S_1 + \\Delta S}{S} (C+R) \\space - \\space  \\frac{q_1}{Q_1} \\frac{S_1}{S} (C+R)$$\n",
    "\n",
    "Which gives the change in agent's private belief upon attestation $\\hat\\alpha_{t+1} -\\hat\\alpha_t$\n",
    "\n",
    "$$\\hat\\alpha_{t+1} - \\hat\\alpha_t = \\frac{1}{C+R} \\frac{S}{S1 \\left[\\frac{\\Delta q_1}{Q_1} \\frac{Q_1-q_1}{Q_1+\\Delta q_1}\\right] + \\Delta S \\left[\\frac{q_1+\\Delta q_1}{Q_1+\\Delta q_1}\\right]}$$"
   ]
  },
  {
   "cell_type": "markdown",
   "metadata": {},
   "source": [
    "### Approach 2: State Change Difference\n",
    "\n",
    "To obtain the change in state after an agent has made an attestation, we can find the difference in the expected payout $\\mathbb E(\\Theta)$ at time $t$ before attestation and time $t+1$ after attestation.\n",
    "\n",
    "$$\\frac{\\begin{matrix} \\mathbb E(\\Theta)^+ = \\frac{s_f-\\Delta s}{s}(\\hat\\alpha C + R) + \\hat\\alpha \\frac{q_1+\\Delta q_1}{Q1+\\Delta q_1} \\frac{s_1 + \\Delta s}{s}(C+R)+ (1-\\hat\\alpha) \\frac{q_0}{Q_0} \\frac{s_0}{s}(R)\\\\ \\mathbb E(\\Theta) = \\frac{s_f}{s}(\\hat\\alpha C + R) + \\hat\\alpha \\frac{q_1}{Q1} \\frac{s_1}{s}(C+R)+ (1-\\hat\\alpha) \\frac{q_0}{Q_0} \\frac{s_0}{s}(R) \\end{matrix}}{\\mathbb E(\\Theta)^+ - \\mathbb E(\\Theta) = -\\Delta s R - \\hat\\alpha \\left[\\Delta s(C) - (C+R)\\left(\\frac{q_1+\\Delta q_1}{Q_1+\\Delta q_1}(S_1+\\Delta s)-\\frac{q_1}{Q_1}(S_1)\\right)\\right]}\\ -$$\n",
    "\n",
    "Setting $A = \\frac{q_1+\\Delta q_1}{Q_1+\\Delta q_1}(S_1+\\Delta s)-\\frac{q_1}{Q_1}(S_1)$ and solving, we get \n",
    "$$A = \\frac{1}{Q_1(Q_1+\\Delta q_1)}\\left[q_1(Q_1\\Delta s - \\Delta q_1 s)+\\Delta q_1(Q_1s_1+Q_1\\Delta s)\\right]$$\n",
    "\n",
    "Solving $\\mathbb E(\\Theta)^+ - \\mathbb E(\\Theta)$ for $\\hat\\alpha$\n",
    "$$\\hat\\alpha = \\frac{\\Delta s R}{A(C+R)-\\Delta s (C)}$$"
   ]
  },
  {
   "cell_type": "markdown",
   "metadata": {},
   "source": [
    "### Approach 3: Markov Chain Convex Combination\n",
    "\n",
    "Cuurent $\\alpha$ has weight\n",
    "$$W_{\\alpha_t} = S_1 +S_2$$\n",
    "\n",
    "Implied $\\alpha$ of attestation action has weight\n",
    "$$\\Delta S : {\\alpha^+} = \\frac{S_1 + S_0}{S_1 +S_0 +\\Delta S}\\alpha + \\frac{\\Delta S}{S_1+S_0+\\Delta s}\\bar\\alpha$$\n",
    "\n",
    "Convex combination of prior $\\alpha$ and $\\alpha^+$ implied by the attestation action.\n",
    "\n",
    "$$\\alpha^+_{real} = \\alpha\\varepsilon + {\\alpha^+} (1-\\varepsilon) $$\n",
    "\n",
    "$$\\alpha^+_{real} = \\alpha\\varepsilon + (1-\\varepsilon)\\left(\\frac{S_1 + S_0}{S_1 +S_0 +\\Delta S}\\alpha + \\frac{\\Delta S}{S_1+S_0+\\Delta s}\\bar\\alpha \\right)$$"
   ]
  }
 ],
 "metadata": {
  "kernelspec": {
   "display_name": "Python 3",
   "language": "python",
   "name": "python3"
  },
  "language_info": {
   "codemirror_mode": {
    "name": "ipython",
    "version": 3
   },
   "file_extension": ".py",
   "mimetype": "text/x-python",
   "name": "python",
   "nbconvert_exporter": "python",
   "pygments_lexer": "ipython3",
   "version": "3.7.4"
  }
 },
 "nbformat": 4,
 "nbformat_minor": 4
}
