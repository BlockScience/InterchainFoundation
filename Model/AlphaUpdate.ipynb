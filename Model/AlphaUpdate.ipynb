{
 "cells": [
  {
   "cell_type": "markdown",
   "metadata": {},
   "source": [
    "# Alpha Update\n",
    "\n",
    "To define the expected payout at Settlement in terms of $\\alpha$, we need to first describe the system state and agent-level state.\n",
    "\n",
    "#### System State\n",
    "\n",
    "$\\alpha$ ; $\\space R,\\space S_0,\\space S_1,\\space S_{free} \\space$ and $\\space Q_0,\\space Q_1$\n",
    "\n",
    "where <br/>\n",
    "$R$ is the number of tokens in reserve <br/>\n",
    "$S_0$ is the number of tokens bonded to attest in favour of project failure <br/>\n",
    "$S_1$ is the number of tokens bonded to attest in favour of project success <br/>\n",
    "$S_{free}$ is the number of tokens freely available for trading or attestation <br/>\n",
    "$Q_0$ is the number of attestations in favour of project failure <br/>\n",
    "$Q_1$ is the number of attestations in favour of project success <br/>\n",
    "\n",
    "\n",
    "#### Agent-level State\n",
    "\n",
    "$\\hat\\alpha$ ; $\\space s_0,\\space s_1,\\space s_{free}\\space$ and $\\space q_0, \\space q_1$\n",
    "\n",
    "where <br/>\n",
    "$\\hat\\alpha$ is the agent's private belief of $\\alpha$ <br/>\n",
    "$s_0$ is the amount of tokens bonded to attest project failure held by the agent <br/>\n",
    "$s_1$ is the amount of tokens bonded to attest project success held by the agent <br/>\n",
    "$s_{free}$ is the amount of unbonded supply tokens held by the agent <br/>\n",
    "$q_0$ is the number of attestations towards project failure held by the agent <br/>\n",
    "$q_1$ is the number of attestations towards project success held by the agent <br/>\n"
   ]
  },
  {
   "cell_type": "markdown",
   "metadata": {},
   "source": [
    "### Expected Payout \n",
    "#### Current State \n",
    "Portion of expected payout associated with all unbonded tokens $S_{free}$\n",
    "$$\\frac{S_{free}}{S} (\\hat\\alpha C+R)$$\n",
    "\n",
    "Portion of expected payout associated with tokens bonded to attest project success $S_1$\n",
    "$$\\hat\\alpha \\frac{q_1}{Q_1} \\frac{S_1}{S} (C+R)$$\n",
    "\n",
    "Portion of expected payout associated with tokens bonded to attest project failure $S_0$\n",
    "$$(1-\\hat\\alpha) \\frac{q_0}{Q_0} \\frac{S_0}{S} (R)$$\n",
    "\n",
    "Putting all terms together, we obtain the total expected payout $\\mathbb E(\\Theta)$\n",
    "$$\\mathbb E(\\Theta) = \\frac{S_{free}}{S} (\\hat\\alpha_t C+R) + \\hat\\alpha_t \\frac{q_1}{Q_1} \\frac{S_1}{S} (C+R) + (1-\\hat\\alpha_t) \\frac{q_0}{Q_0} \\frac{S_0}{S} (R)$$\n",
    "\n",
    "#### Next State \n",
    "Let's say an agent discovers that their $\\hat \\alpha > \\alpha$. It chooses to make an attestation in favour of project success so as to increase $\\alpha$. The agent's attestation action transfers $\\Delta S$ quantity of supply tokens from $S_{free}$ to $S_1$. \n",
    "\n",
    "The expected payout after a positive attestation (i.e attest towards project success) will be\n",
    "$$\\mathbb E(\\Theta)^+ = \\frac{S_{free} - \\Delta S}{S} (\\hat\\alpha_{t+1} C+R) + \\hat\\alpha_{t+1} \\frac{q_1 + \\Delta q_1}{Q_1 + \\Delta q_1} \\frac{S_1 + \\Delta S}{S} (C+R) + (1-\\hat\\alpha_{t+1}) \\frac{q_0}{Q_0} \\frac{S_0}{S} (R)$$\n"
   ]
  },
  {
   "cell_type": "markdown",
   "metadata": {},
   "source": [
    "## Alpha update\n",
    "\n",
    "### Approach 1: State Machine \n",
    "To obtain the update in agent's private belief of $\\alpha$ after making a positive attestation, we subtract the $\\hat\\alpha$ terms from $\\mathbb E(\\Theta)$ and $\\mathbb E(\\Theta)^+$\n",
    "\n",
    "$$ \\frac{q_1 + \\Delta q_1}{Q_1 + \\Delta q_1} \\frac{S_1 + \\Delta S}{S} (C+R) \\space - \\space  \\frac{q_1}{Q_1} \\frac{S_1}{S} (C+R)$$\n",
    "\n",
    "Which gives the change in agent's private belief upon attestation $\\hat\\alpha_{t+1} -\\hat\\alpha_t$\n",
    "\n",
    "$$\\hat\\alpha_{t+1} - \\hat\\alpha_t = \\frac{1}{C+R} \\frac{S}{S1 \\left[\\frac{\\Delta q_1}{Q_1} \\frac{Q_1-q_1}{Q_1+\\Delta q_1}\\right] + \\Delta S \\left[\\frac{q_1+\\Delta q_1}{Q_1+\\Delta q_1}\\right]}$$"
   ]
  },
  {
   "cell_type": "markdown",
   "metadata": {},
   "source": [
    "### Approach 2: State Change Difference\n",
    "\n",
    "To obtain the change in state after an agent has made an attestation, we can find the difference in the expected payout $\\mathbb E(\\Theta)$ at time $t$ before attestation and time $t+1$ after attestation.\n",
    "\n",
    "$$\\frac{\\begin{matrix} \\mathbb E(\\Theta)^+ = \\frac{s_f-\\Delta s}{s}(\\hat\\alpha C + R) + \\hat\\alpha \\frac{q_1+\\Delta q_1}{Q1+\\Delta q_1} \\frac{s_1 + \\Delta s}{s}(C+R)+ (1-\\hat\\alpha) \\frac{q_0}{Q_0} \\frac{s_0}{s}(R)\\\\ \\mathbb E(\\Theta) = \\frac{s_f}{s}(\\hat\\alpha C + R) + \\hat\\alpha \\frac{q_1}{Q1} \\frac{s_1}{s}(C+R)+ (1-\\hat\\alpha) \\frac{q_0}{Q_0} \\frac{s_0}{s}(R) \\end{matrix}}{\\mathbb E(\\Theta)^+ - \\mathbb E(\\Theta) = -\\Delta s R - \\hat\\alpha \\left[\\Delta s(C) - (C+R)\\left(\\frac{q_1+\\Delta q_1}{Q_1+\\Delta q_1}(S_1+\\Delta s)-\\frac{q_1}{Q_1}(S_1)\\right)\\right]}\\ -$$\n",
    "\n",
    "Setting $A = \\frac{q_1+\\Delta q_1}{Q_1+\\Delta q_1}(S_1+\\Delta s)-\\frac{q_1}{Q_1}(S_1)$ and solving, we get \n",
    "$$A = \\frac{1}{Q_1(Q_1+\\Delta q_1)}\\left[q_1(Q_1\\Delta s - \\Delta q_1 s)+\\Delta q_1(Q_1s_1+Q_1\\Delta s)\\right]$$\n",
    "\n",
    "Solving $\\mathbb E(\\Theta)^+ - \\mathbb E(\\Theta)$ for $\\hat\\alpha$\n",
    "$$\\hat\\alpha = \\frac{\\Delta s R}{A(C+R)-\\Delta s (C)}$$"
   ]
  },
  {
   "cell_type": "markdown",
   "metadata": {},
   "source": [
    "### Approach 3: Markov Chain Convex Combination\n",
    "\n",
    "Cuurent $\\alpha$ has weight\n",
    "$$W_{\\alpha_t} = S_1 +S_2$$\n",
    "\n",
    "Implied $\\alpha$ of attestation action has weight\n",
    "$$\\Delta S : {\\alpha^+} = \\frac{S_1 + S_0}{S_1 +S_0 +\\Delta S}\\alpha + \\frac{\\Delta S}{S_1+S_0+\\Delta s}\\bar\\alpha$$\n",
    "\n",
    "Convex combination of prior $\\alpha$ and $\\alpha^+$ implied by the attestation action.\n",
    "\n",
    "$$\\alpha^+_{real} = \\alpha\\varepsilon + {\\alpha^+} (1-\\varepsilon) $$\n",
    "\n",
    "$$\\alpha^+_{real} = \\alpha\\varepsilon + (1-\\varepsilon)\\left(\\frac{S_1 + S_0}{S_1 +S_0 +\\Delta S}\\alpha + \\frac{\\Delta S}{S_1+S_0+\\Delta s}\\bar\\alpha \\right)$$"
   ]
  },
  {
   "cell_type": "markdown",
   "metadata": {},
   "source": [
    "## Alpha Update - Markov Chain using a Convex Combination "
   ]
  },
  {
   "cell_type": "markdown",
   "metadata": {},
   "source": [
    "We arrive at the next state alpha through a Markov chain update process using a convex combination of current state alpha $\\alpha$ and realized alpha $\\hat\\alpha$. "
   ]
  },
  {
   "cell_type": "markdown",
   "metadata": {},
   "source": [
    "\n",
    "$$\\alpha_{t+1} = (\\epsilon) \\alpha + (1-\\epsilon)\\cdot(1-\\delta) \\alpha + (1-\\epsilon).(\\delta) \\bar\\alpha$$\n",
    "<br/> where $\\epsilon$ is the designer-defined fixed weight between [0,1] and $\\delta=\\frac{\\Delta s}{S_1+S_0+\\Delta s}$ is the dynamic weight.\n"
   ]
  },
  {
   "cell_type": "markdown",
   "metadata": {},
   "source": [
    "### Estimating $\\hat\\alpha$ interval "
   ]
  },
  {
   "cell_type": "markdown",
   "metadata": {},
   "source": [
    "We obtain $\\hat\\alpha$'s lower bound on $\\Delta\\mathbb{E}(\\Theta)$ and its upper bound on $\\bar\\alpha$.\n",
    "$$\\hat\\alpha \\in [\\alpha,\\bar\\alpha]$$"
   ]
  },
  {
   "cell_type": "markdown",
   "metadata": {},
   "source": [
    "<img src=\"https://i.imgur.com/UR2aYFb.jpg\" width=600/>"
   ]
  },
  {
   "cell_type": "markdown",
   "metadata": {},
   "source": [
    "### Positive attestations"
   ]
  },
  {
   "cell_type": "markdown",
   "metadata": {},
   "source": [
    "For positive attestations, the realized alpha, $\\bar\\alpha$ is given by $$\\bar\\alpha = \\frac{\\Delta s}{S} \\frac{R}{B}$$ \n",
    "<br/> where $B = (C+R)\\left[\\frac{q_1+\\Delta q_1}{Q_1+\\Delta q1}\\frac{S_1+\\Delta S}{S}-\\frac{q_1}{Q_1}\\frac{S_1}{S}\\right]-(C)\\left[\\frac{\\Delta s}{S}\\right]$"
   ]
  },
  {
   "cell_type": "markdown",
   "metadata": {},
   "source": [
    "#### Current state, before any attestation\n",
    "We have the expected payout$\\mathbb{E}(\\Theta)$ at curent state\n",
    "$$\\mathbb{E}(\\Theta) = \\frac{s_f}{S}(\\hat\\alpha C + R) + \\hat\\alpha (C+R) \\frac{q_1}{Q_1} \\frac{S_1}{S} + (1-\\hat\\alpha) (R) \\frac{q_0}{Q_0} \\frac{S_0}{S} $$\n"
   ]
  },
  {
   "cell_type": "markdown",
   "metadata": {},
   "source": [
    "#### Next state, after positive attestation / bond into S1\n",
    "\n",
    "When an agent makes a positive attestation, they bond $\\Delta s$ from their $s_f$ holdings to $S_1$ to obtain $\\Delta q_1$ positive claims. The total number of positive claims in the system thus increases, i.e. $Q_1 + \\Delta q_1$ and the total amount of tokens bonded to positive attestations increases, i.e. $S_1 + \\Delta s$\n",
    "\n",
    "$$\\mathbb{E}(\\Theta)^+ = \\frac{s_f- \\Delta s}{S}(\\hat\\alpha C + R) + \\hat\\alpha (C+R) \\frac{q_1+\\Delta q_1}{Q_1+\\Delta q_1} \\frac{S_1+\\Delta s}{S} + (1-\\hat\\alpha) (R) \\frac{q_0}{Q_0} \\frac{S_0}{S} $$\n"
   ]
  },
  {
   "cell_type": "markdown",
   "metadata": {},
   "source": [
    "#### Difference in expected payout after a positive attestation\n",
    "$$\\mathbb{E}(\\Theta)^+ - \\mathbb{E}(\\Theta) = \\frac{-\\Delta s}{S} (\\hat\\alpha C+R) + \\hat\\alpha (C+R) \\left[\\frac{q_1+\\Delta q_1}{Q_1+\\Delta q_1} \\frac{S_1+\\Delta s}{S} - \\frac{q_1}{Q_1} \\frac{S_1}{S}\\right]$$"
   ]
  },
  {
   "cell_type": "markdown",
   "metadata": {},
   "source": [
    "#### Solve at Y for upper bound\n",
    "Set $\\Delta\\mathbb{E}(\\Theta) = 0$ and $\\Delta s > 0$ and solve for $\\hat\\alpha$ at Y, which is $\\bar\\alpha$\n",
    "\n",
    "$$ 0 = \\frac{-\\Delta s}{S} (\\hat\\alpha C+R) + \\hat\\alpha (C+R) \\left[\\frac{q_1+\\Delta q_1}{Q_1+\\Delta q_1} \\frac{S_1+\\Delta s}{S} - \\frac{q_1}{Q_1} \\frac{S_1}{S}\\right]$$\n",
    "\n",
    "$$ \\bar\\alpha = \\frac{\\Delta s}{S} \\frac{R}{(C+R)\\left[\\frac{q_1+\\Delta q_1}{Q_1+\\Delta q1}\\frac{S_1+\\Delta s}{S}-\\frac{q_1}{Q_1}\\frac{S_1}{S}\\right]-(C)\\left[\\frac{\\Delta s}{S}\\right]}$$\n",
    "\n",
    "Let $B = (C+R)\\left[\\frac{q_1+\\Delta q_1}{Q_1+\\Delta q1}\\frac{S_1+\\Delta S}{S}-\\frac{q_1}{Q_1}\\frac{S_1}{S}\\right]-(C)\\left[\\frac{\\Delta s}{S}\\right]$\n",
    "\n",
    "This gives $$\\bar\\alpha = \\frac{\\Delta s}{S} \\frac{R}{B}$$"
   ]
  },
  {
   "cell_type": "markdown",
   "metadata": {},
   "source": [
    "### Negative attestations"
   ]
  },
  {
   "cell_type": "markdown",
   "metadata": {},
   "source": [
    "For negative attestations, the realized alpha, $\\bar\\alpha$ is given by $$\\bar\\alpha = \\frac{R(B - \\frac{\\Delta s}{S})}{\\frac{\\Delta s}{S}(C)-B(R)}$$ where $B=\\left[\\frac{q_0+\\Delta q_0}{Q_0+\\Delta q_0} \\frac{S_0+\\Delta s}{S} - \\frac{q_0}{Q_0} \\frac{S_0}{S}\\right]$ "
   ]
  },
  {
   "cell_type": "markdown",
   "metadata": {},
   "source": [
    "#### Next state, after negative attestation / bond into S0\n",
    "\n",
    "When an agent makes a negative attestation, they bond $\\Delta s$ from their $s_f$ holdings to $S_0$ to obtain $\\Delta q_0$ negative claims. The total number of negative claims in the system thus increases, i.e. $Q_0 + \\Delta q_0$ and the total amount of tokens bonded to negative attestations increases, i.e. $S_0 + \\Delta s$\n",
    "\n",
    "\n",
    "$$\\mathbb{E}(\\Theta)^- = \\frac{s_f - \\Delta s}{S}(\\hat\\alpha C + R) + \\hat\\alpha (C+R) \\frac{q_1}{Q_1} \\frac{S_1}{S} + (1-\\hat\\alpha) (R) \\frac{q_0+\\Delta q_0}{Q_0 +\\Delta q_0} \\frac{S_0+\\Delta s}{S} $$"
   ]
  },
  {
   "cell_type": "markdown",
   "metadata": {},
   "source": [
    "#### Solve at Y for upper bound\n",
    "Set $\\Delta\\mathbb{E}(\\Theta) = 0$ and $\\Delta s > 0$ and solve for $\\hat\\alpha$ at Y, which is $\\bar\\alpha$\n",
    "\n",
    "$$0 = \\frac{-\\Delta s}{S}(\\hat\\alpha C+R) +(1-\\hat\\alpha)(R)\\left[\\frac{q_0+\\Delta q_0}{Q_0+\\Delta q_0} \\frac{S_0+\\Delta s}{S} - \\frac{q_0}{Q_0} \\frac{S_0}{S}\\right] $$\n",
    "\n",
    "Let $B=\\left[\\frac{q_0+\\Delta q_0}{Q_0+\\Delta q_0} \\frac{S_0+\\Delta s}{S} - \\frac{q_0}{Q_0} \\frac{S_0}{S}\\right]$\n",
    "\n",
    "$$0 = \\frac{-\\Delta s}{S}(\\hat\\alpha C+R) +(1-\\hat\\alpha)(R)(B)$$\n",
    "\n",
    "$$\\hat\\alpha = \\bar\\alpha = \\frac{R(B - \\frac{\\Delta s}{S})}{\\frac{\\Delta s}{S}(C)-B(R)}$$\n",
    "\n"
   ]
  }
 ],
 "metadata": {
  "kernelspec": {
   "display_name": "Python 3",
   "language": "python",
   "name": "python3"
  },
  "language_info": {
   "codemirror_mode": {
    "name": "ipython",
    "version": 3
   },
   "file_extension": ".py",
   "mimetype": "text/x-python",
   "name": "python",
   "nbconvert_exporter": "python",
   "pygments_lexer": "ipython3",
   "version": "3.7.4"
  }
 },
 "nbformat": 4,
 "nbformat_minor": 4
}
