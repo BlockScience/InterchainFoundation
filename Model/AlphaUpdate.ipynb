{
 "cells": [
  {
   "cell_type": "markdown",
   "metadata": {},
   "source": [
    "# Alpha Update\n",
    "\n",
    "To define the expected payout at Settlement in terms of $\\alpha$, we need to first describe the system state and agent-level state.\n",
    "\n",
    "#### System State\n",
    "\n",
    "$\\alpha$ ; $\\space R,\\space S_0,\\space S_1,\\space S_{free} \\space$ implies $\\space Q_0,\\space Q_1$\n",
    "\n",
    "where \n",
    "$R$ is the number of tokens in reserve\n",
    "$S_0$ is the number of tokens bonded to attest in favour of project failure\n",
    "$S_1$ is the number of tokens bonded to attest in favour of project success\n",
    "$S_{free}$ is the number of tokens freely available for trading or attestation\n",
    "$Q_0$ is the number of attestations in favour of project failure\n",
    "$Q_1$ is the number of attestations in favour of project success\n",
    "\n",
    "\n",
    "#### Agent-level State\n",
    "\n",
    "$\\hat\\alpha$ ; $\\space s_0,\\space s_1,\\space s_{free}\\space$ and $\\space q_0, \\space q_1$\n",
    "\n",
    "where\n",
    "$\\hat\\alpha$ is the agent's private belief of $\\alpha$\n",
    "$s_0$ is the amount of tokens bonded to attest project failure held by the agent\n",
    "$s_1$ is the amount of tokens bonded to attest project success held by the agent\n",
    "$s_{free}$ is the amount of unbonded supply tokens held by the agent\n",
    "$q_0$ is the number of attestations towards project failure held by the agent \n",
    "$q_1$ is the number of attestations towards project success held by the agent \n",
    "\n",
    "### Expected Payout \n",
    "#### Current State \n",
    "Portion of expected payout associated with all unbonded tokens $S_{free}$\n",
    "$$\\frac{S_{free}}{S} (\\hat\\alpha C+R)$$\n",
    "\n",
    "Portion of expected payout associated with tokens bonded to attest project success $S_1$\n",
    "$$\\hat\\alpha \\frac{q_1}{Q_1} \\frac{S_1}{S} (C+R)$$\n",
    "\n",
    "Portion of expected payout associated with tokens bonded to attest project failure $S_0$\n",
    "$$(1-\\hat\\alpha) \\frac{q_0}{Q_0} \\frac{S_0}{S} (R)$$\n",
    "\n",
    "Putting all terms together, we obtain the total expected payout $\\mathbb E(\\Theta)$\n",
    "$$\\mathbb E(\\Theta) = \\frac{S_{free}}{S} (\\hat\\alpha C+R) + \\hat\\alpha \\frac{q_1}{Q_1} \\frac{S_1}{S} (C+R) + (1-\\hat\\alpha) \\frac{q_0}{Q_0} \\frac{S_0}{S} (R)$$\n",
    "\n",
    "#### Next State \n",
    "Let's say an agent discovers that their $\\hat \\alpha > \\alpha$. It chooses to make an attestation in favour of project success so as to increase $\\alpha$. The agent's attestation action transfers $\\Delta S$ quantity of supply tokens from $S_{free}$ to $S_1$. \n",
    "\n",
    "The expected payout after a positive attestation (i.e attest towards project success) will be\n",
    "$$\\mathbb E(\\Theta)^+ = \\frac{S_{free} - \\Delta S}{S} (\\hat\\alpha C+R) + \\hat\\alpha \\frac{q_1 + \\Delta q_1}{Q_1 + \\Delta q_1} \\frac{S_1 + \\Delta S}{S} (C+R) + (1-\\hat\\alpha) \\frac{q_0}{Q_0} \\frac{S_0}{S} (R)$$\n"
   ]
  }
 ],
 "metadata": {
  "kernelspec": {
   "display_name": "Python 3",
   "language": "python",
   "name": "python3"
  },
  "language_info": {
   "codemirror_mode": {
    "name": "ipython",
    "version": 3
   },
   "file_extension": ".py",
   "mimetype": "text/x-python",
   "name": "python",
   "nbconvert_exporter": "python",
   "pygments_lexer": "ipython3",
   "version": "3.7.4"
  }
 },
 "nbformat": 4,
 "nbformat_minor": 4
}
