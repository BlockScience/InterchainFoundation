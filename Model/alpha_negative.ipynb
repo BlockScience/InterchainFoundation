{
 "cells": [
  {
   "cell_type": "markdown",
   "metadata": {},
   "source": [
    "# Alpha update upon a negative attestation"
   ]
  },
  {
   "cell_type": "markdown",
   "metadata": {},
   "source": [
    "$$\\bar\\alpha = \\frac{R(B - \\frac{\\Delta s}{S})}{\\frac{\\Delta s}{S}(C)-B(R)}$$"
   ]
  },
  {
   "cell_type": "markdown",
   "metadata": {},
   "source": [
    "$$\\alpha_{t+1} = (\\epsilon)\\alpha + (1-\\epsilon)(1-\\delta)\\alpha + (1-\\epsilon)(\\delta)\\bar\\alpha$$"
   ]
  },
  {
   "cell_type": "code",
   "execution_count": 7,
   "metadata": {},
   "outputs": [
    {
     "name": "stdout",
     "output_type": "stream",
     "text": [
      "1\n",
      "4\n",
      "5\n",
      "6\n",
      "3\n",
      "1\n"
     ]
    }
   ],
   "source": [
    "E = 0.45\n",
    "C = 7000\n",
    "R = 3000\n",
    "S = 300\n",
    "private_alpha = [0.6]\n",
    "alpha = [0.5]\n",
    "max_deltas = 20\n",
    "Q0 = [100]\n",
    "q0 = [0]\n",
    "S1 = [100] \n",
    "S0 = [100]\n",
    "s0 = [0]\n",
    "s = [20]\n",
    "\n",
    "deltas = [1, 4, 5, 6, 3, 1] \n",
    "#deltaq0 = [1, 4, 5, 6, 3, 1]\n",
    "\n",
    "for i in range(len(deltas)): \n",
    "    print(deltas[i])"
   ]
  },
  {
   "cell_type": "code",
   "execution_count": 8,
   "metadata": {},
   "outputs": [
    {
     "name": "stdout",
     "output_type": "stream",
     "text": [
      "D =  0.004975124378109453\n",
      "alpha_bar =  0.0002762096825186302\n",
      "alpha[i] = 0.5 | new_alpha =  0.4986325965936587\n",
      "deltas = 1  | deltaq1 =  1\n",
      "s[i] = 20\n",
      "____________________________\n",
      "D =  0.01951219512195122\n",
      "alpha_bar =  9.93870323219118e-05\n",
      "alpha[i] = 0.4986325965936587 | new_alpha =  0.4932824841008054\n",
      "deltas = 4  | deltaq1 =  4\n",
      "s[i] = 19\n",
      "____________________________\n",
      "D =  0.023809523809523808\n",
      "alpha_bar =  7.862666845750826e-05\n",
      "alpha[i] = 0.4932824841008054 | new_alpha =  0.4868238621582389\n",
      "deltas = 5  | deltaq1 =  5\n",
      "s[i] = 15\n",
      "____________________________\n",
      "D =  0.027777777777777776\n",
      "alpha_bar =  6.412073738319819e-05\n",
      "alpha[i] = 0.4868238621582389 | new_alpha =  0.4793872549976425\n",
      "deltas = 6  | deltaq1 =  6\n",
      "s[i] = 10\n",
      "____________________________\n",
      "D =  0.0136986301369863\n",
      "alpha_bar =  0.00010491184932874367\n",
      "alpha[i] = 0.4793872549976425 | new_alpha =  0.4757762236451552\n",
      "deltas = 3  | deltaq1 =  3\n",
      "s[i] = 4\n",
      "____________________________\n",
      "D =  0.004545454545454545\n",
      "alpha_bar =  0.00020309561777700572\n",
      "alpha[i] = 0.4757762236451552 | new_alpha =  0.47458729082508677\n",
      "deltas = 1  | deltaq1 =  0\n",
      "s[i] = 1\n",
      "____________________________\n"
     ]
    }
   ],
   "source": [
    "import math\n",
    "\n",
    "for i in range(len(deltas)): \n",
    "    \n",
    "    A = 1+(deltas[i]/S)\n",
    "    deltaq0[i] = Q0[i]*(math.sqrt(A-1))\n",
    "    \n",
    "    attest_prop_after = (q0[i]+deltaq0[i])/(Q0[i]+deltaq0[i])\n",
    "    supply_prop_after = (S0[i]+deltas[i])/S\n",
    "    attest_supply_before = (q0[i]*S0[i])/(Q0[i]*S)\n",
    "    \n",
    "    B = (attest_prop_after * supply_prop_after) - attest_supply_before\n",
    "    \n",
    "    D = deltas[i]/(S1[i]+S0[i]+deltas[i])\n",
    "    \n",
    "    pre1= B-deltas[i]/S\n",
    "    \n",
    "    pre2 = ((deltas[i]/S)*C)\n",
    "    \n",
    "    alpha_bar = (R*(pre1))/((pre2*C)+(B*R))\n",
    "    \n",
    "    T1 = E*alpha[i]\n",
    "    \n",
    "    T2 = (1-E)*(1-D)*alpha[i]\n",
    "    \n",
    "    T3 = (1-E)*(D)*alpha_bar\n",
    "    \n",
    "    new_alpha = T1+T2+T3\n",
    "    \n",
    "    print(\"D = \", D)\n",
    "    print(\"alpha_bar = \", alpha_bar)\n",
    "    print(\"alpha[i] =\", alpha[i], \"| new_alpha = \", new_alpha)\n",
    "    print(\"deltas =\", deltas[i], \" | deltaq1 = \", deltaq1[i])\n",
    "    print(\"s[i] =\" , s[i])\n",
    "    print(\"____________________________\")    \n",
    "    \n",
    "    # Update operations\n",
    "    Q0.append(Q0[i] + deltaq0[i])\n",
    "    S0.append(S0[i] + deltas[i])\n",
    "    S1.append(S1[i])\n",
    "    s0.append(s0[i] + deltas[i])\n",
    "    s.append(s[i] - deltas[i])\n",
    "    q0.append(q0[i] + deltaq0[i])\n",
    "    alpha.append(new_alpha)"
   ]
  },
  {
   "cell_type": "code",
   "execution_count": null,
   "metadata": {},
   "outputs": [],
   "source": []
  }
 ],
 "metadata": {
  "kernelspec": {
   "display_name": "Python 3",
   "language": "python",
   "name": "python3"
  },
  "language_info": {
   "codemirror_mode": {
    "name": "ipython",
    "version": 3
   },
   "file_extension": ".py",
   "mimetype": "text/x-python",
   "name": "python",
   "nbconvert_exporter": "python",
   "pygments_lexer": "ipython3",
   "version": "3.7.4"
  }
 },
 "nbformat": 4,
 "nbformat_minor": 4
}
